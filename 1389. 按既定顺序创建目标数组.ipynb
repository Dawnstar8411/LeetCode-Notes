{
 "cells": [
  {
   "cell_type": "markdown",
   "metadata": {},
   "source": [
    "### 题目描述"
   ]
  },
  {
   "cell_type": "markdown",
   "metadata": {},
   "source": [
    "给你两个整数数组`nums`和`index`,你需要按照一下规则创建目标数组：\n",
    "\n",
    "- 目标数组`target`最初为空\n",
    "- 按从左到右的顺序依次读取`nums[i]`和`index[i]`，在`target`数组中的下标`index[i]`处插入值`nums[i]`\n",
    "- 重复上一步，直到在`nums`和`index`中都没有要读取的元素\n",
    "\n",
    "请你返回目标数组。题目保证数字插入位置总是存在。\n",
    "\n",
    "示例：\n",
    "\n",
    "> 输入：nums=[0,1,2,3,4]，index=[0,1,2,2,1]\\\n",
    "  输出：[0,4,1,3,2]"
   ]
  },
  {
   "cell_type": "markdown",
   "metadata": {},
   "source": [
    "### 题目分析"
   ]
  },
  {
   "cell_type": "markdown",
   "metadata": {},
   "source": [
    "数组`index`中的数组有重复，说明生成数组时有插入操作，而不仅仅是对应位置的赋值。如果`target`可以是一个全0数组的话，可以先对index进行修正，使其变成不重复的索引，然后再依次赋值。\n",
    "```\n",
    "class Solution:\n",
    "    def createTargetArray(self, nums: List[int], index: List[int]) -> List[int]:\n",
    "        N = len(nums)\n",
    "        ans = [0] * N\n",
    "        for i in range(1,N):\n",
    "            for j in range(0,i):\n",
    "                if index[i] <= index[j]:\n",
    "                    index[j]+=1\n",
    "        for i in range(N):\n",
    "            ans[index[i]] = nums[i]\n",
    "        return ans\n",
    "```"
   ]
  },
  {
   "cell_type": "markdown",
   "metadata": {},
   "source": [
    "target最初为空，只能从头开始依次添加，而不能先创建一个固定长度的数组，然后按照index值进行赋值。leetcode官方解题直接使用了insert函数，也是一种办法了。\n",
    "\n",
    "```\n",
    "class Solution:\n",
    "    def createTargetArray(self, nums: List[int], index: List[int]) -> List[int]:\n",
    "        ret = []\n",
    "        for i in range(len(nums)):\n",
    "            ret.insert(index[i], nums[i])\n",
    "        return ret\n",
    "```"
   ]
  }
 ],
 "metadata": {
  "kernelspec": {
   "display_name": "Python 3",
   "language": "python",
   "name": "python3"
  },
  "language_info": {
   "codemirror_mode": {
    "name": "ipython",
    "version": 3
   },
   "file_extension": ".py",
   "mimetype": "text/x-python",
   "name": "python",
   "nbconvert_exporter": "python",
   "pygments_lexer": "ipython3",
   "version": "3.7.4"
  }
 },
 "nbformat": 4,
 "nbformat_minor": 2
}
