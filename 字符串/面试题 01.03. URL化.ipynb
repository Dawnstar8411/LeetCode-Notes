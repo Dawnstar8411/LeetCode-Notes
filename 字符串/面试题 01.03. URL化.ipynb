{
 "cells": [
  {
   "cell_type": "markdown",
   "metadata": {},
   "source": [
    "### 题目描述"
   ]
  },
  {
   "cell_type": "markdown",
   "metadata": {},
   "source": [
    "编写一种方法，将字符串中的空格全部替换为%20。假定该字符串尾部有足够的空间存放新增字符，并且知道字符串的“真实”长度。\n",
    "```\n",
    "输入：\"Mr John Smith    \", 13\n",
    "输出：\"Mr%20John%20Smith\"\n",
    "```\n",
    "```\n",
    "输入：\"               \", 5\n",
    "输出：\"%20%20%20%20%20\"\n",
    "```"
   ]
  },
  {
   "cell_type": "markdown",
   "metadata": {},
   "source": [
    "### 题目分析"
   ]
  },
  {
   "cell_type": "code",
   "execution_count": 1,
   "metadata": {},
   "outputs": [],
   "source": [
    "class Solution:\n",
    "    def replaceSpaces(self, S: str, length: int) -> str:\n",
    "        ans = \"\"\n",
    "        for i in range(length):\n",
    "            if S[i]==' ':\n",
    "                ans+=\"%20\"\n",
    "            else:\n",
    "                ans+=S[i]\n",
    "        return ans "
   ]
  }
 ],
 "metadata": {
  "kernelspec": {
   "display_name": "Python 3",
   "language": "python",
   "name": "python3"
  },
  "language_info": {
   "codemirror_mode": {
    "name": "ipython",
    "version": 3
   },
   "file_extension": ".py",
   "mimetype": "text/x-python",
   "name": "python",
   "nbconvert_exporter": "python",
   "pygments_lexer": "ipython3",
   "version": "3.7.4"
  }
 },
 "nbformat": 4,
 "nbformat_minor": 2
}
