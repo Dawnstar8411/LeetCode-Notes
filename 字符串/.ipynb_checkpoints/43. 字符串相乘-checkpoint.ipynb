{
 "cells": [
  {
   "cell_type": "markdown",
   "metadata": {},
   "source": [
    "### 题目描述"
   ]
  },
  {
   "cell_type": "markdown",
   "metadata": {},
   "source": [
    "给定两个以字符串形式表示的非负整数 num1 和 num2，返回 num1 和 num2 的乘积，它们的乘积也表示为字符串形式。"
   ]
  },
  {
   "cell_type": "markdown",
   "metadata": {},
   "source": [
    "### 题目分析"
   ]
  },
  {
   "cell_type": "markdown",
   "metadata": {},
   "source": [
    "参考链接  https://labuladong.gitbook.io/algo/suan-fa-si-wei-xi-lie/zi-fu-chuan-cheng-fa"
   ]
  },
  {
   "cell_type": "code",
   "execution_count": 1,
   "metadata": {},
   "outputs": [],
   "source": [
    "class Solution:\n",
    "    def multiply(self, num1: str, num2: str) -> str:\n",
    "        ans = [0] * (len(num1)+len(num2))\n",
    "\n",
    "        for i in range(len(num1)-1,-1,-1):\n",
    "            for j in range(len(num2)-1,-1,-1):\n",
    "                mul = int(num1[i]) * int(num2[j])\n",
    "                p1 = i+j\n",
    "                p2 = i+j+1\n",
    "                num_sum = mul + ans[p2]\n",
    "                ans[p2] = num_sum % 10\n",
    "                ans[p1] += num_sum // 10\n",
    "        while(len(ans)>0 and ans[0]==0):\n",
    "            ans.pop(0)\n",
    "        if len(ans) == 0:\n",
    "            return \"0\"\n",
    "        \n",
    "        ans_str = \"\"\n",
    "        for i in range(len(ans)):\n",
    "            ans_str+=str(ans[i])\n",
    "\n",
    "        return ans_str"
   ]
  }
 ],
 "metadata": {
  "kernelspec": {
   "display_name": "Python 3",
   "language": "python",
   "name": "python3"
  },
  "language_info": {
   "codemirror_mode": {
    "name": "ipython",
    "version": 3
   },
   "file_extension": ".py",
   "mimetype": "text/x-python",
   "name": "python",
   "nbconvert_exporter": "python",
   "pygments_lexer": "ipython3",
   "version": "3.7.4"
  }
 },
 "nbformat": 4,
 "nbformat_minor": 2
}
