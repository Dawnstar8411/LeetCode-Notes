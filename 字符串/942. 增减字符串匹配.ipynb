{
 "cells": [
  {
   "cell_type": "markdown",
   "metadata": {},
   "source": [
    "### 题目描述"
   ]
  },
  {
   "cell_type": "markdown",
   "metadata": {},
   "source": [
    "给定只含`\"I\"`（增大）或`\"D\"`（减少）的字符串`S`，令`N=S.length`。 返回`[0,1,...,N]`的任意排列`A`使得对于所有`i=0,1,...,N-1`都有：\n",
    "\n",
    "- 如果`S[i]==\"I\"`，那么`A[i]<A[i+1]`\n",
    "- 如果`S[i]==\"D\"`，那么`A[i]>A[i+1]`\n",
    "\n",
    "示例：\n",
    "\n",
    "> 输入： “IDID”\\\n",
    "  输出： [0,4,1,3,2]\n",
    "  \n",
    "> 输入： \"III\"\\\n",
    "  输出： [0,1,2,3]\n",
    "  \n",
    "> 输入： \"DDI\"\\\n",
    "  输出： [3,2,0,1]"
   ]
  },
  {
   "cell_type": "markdown",
   "metadata": {},
   "source": [
    "### 题目分析"
   ]
  },
  {
   "cell_type": "markdown",
   "metadata": {},
   "source": [
    "当`S[i]=I`时，在当前的数字序列里，选取最小的一个，当`S[i]=D`时，在当前的数字序列里选取最大的一个，将选取的数字从数字序列中删除。按上述规则计算下一个位置的数字。"
   ]
  },
  {
   "cell_type": "code",
   "execution_count": 1,
   "metadata": {},
   "outputs": [],
   "source": [
    "class Solution:\n",
    "    def diStringMatch(self, S: str):\n",
    "        N = len(S)\n",
    "        ans = [0] * (N+1)\n",
    "        low = 0\n",
    "        high = N\n",
    "        for i in range(N):\n",
    "            if S[i] == 'I':\n",
    "                ans[i] = low\n",
    "                low += 1\n",
    "            else:\n",
    "                ans[i]= high\n",
    "                high -= 1\n",
    "        \n",
    "        ans[N] = low\n",
    "        return ans"
   ]
  }
 ],
 "metadata": {
  "kernelspec": {
   "display_name": "Python 3",
   "language": "python",
   "name": "python3"
  },
  "language_info": {
   "codemirror_mode": {
    "name": "ipython",
    "version": 3
   },
   "file_extension": ".py",
   "mimetype": "text/x-python",
   "name": "python",
   "nbconvert_exporter": "python",
   "pygments_lexer": "ipython3",
   "version": "3.7.4"
  }
 },
 "nbformat": 4,
 "nbformat_minor": 2
}
