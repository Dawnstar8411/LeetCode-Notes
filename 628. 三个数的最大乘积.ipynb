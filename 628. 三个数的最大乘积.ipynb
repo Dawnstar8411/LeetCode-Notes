{
 "cells": [
  {
   "cell_type": "markdown",
   "metadata": {},
   "source": [
    "### 问题描述"
   ]
  },
  {
   "cell_type": "markdown",
   "metadata": {},
   "source": [
    "给定一个整数数组，在数组中找出由三个数组成的最大乘积，并输出这个乘积。\n",
    "\n",
    "- 给定的整型数组长度范围是$[3,10^4]$,数组中所有的元素范围是[-1000,1000]。\n",
    "- 输入的数组中任意三个数的乘积不会超出32位有符号整数的范围。"
   ]
  },
  {
   "cell_type": "markdown",
   "metadata": {},
   "source": [
    "### 问题分析"
   ]
  },
  {
   "cell_type": "markdown",
   "metadata": {},
   "source": [
    "将数组按从小到大的顺序排列后，乘积最大的三个数为两种情况之一。\n",
    "- 最大的三个正数的乘积\n",
    "- 最小的两个负数和最大的一个正数的乘积\n",
    "\n",
    "两种情况取最大值即可。"
   ]
  },
  {
   "cell_type": "markdown",
   "metadata": {},
   "source": [
    "```\n",
    "class Solution:\n",
    "    def maximumProduct(self, nums: List[int]) -> int:\n",
    "        nums.sort()\n",
    "        a = nums[0] * nums[1] * nums[-1]\n",
    "        b = nums[-1] * nums[-2] * nums[-3]\n",
    "        return max(a,b)\n",
    "```"
   ]
  }
 ],
 "metadata": {
  "kernelspec": {
   "display_name": "Python 3",
   "language": "python",
   "name": "python3"
  },
  "language_info": {
   "codemirror_mode": {
    "name": "ipython",
    "version": 3
   },
   "file_extension": ".py",
   "mimetype": "text/x-python",
   "name": "python",
   "nbconvert_exporter": "python",
   "pygments_lexer": "ipython3",
   "version": "3.7.4"
  }
 },
 "nbformat": 4,
 "nbformat_minor": 2
}
