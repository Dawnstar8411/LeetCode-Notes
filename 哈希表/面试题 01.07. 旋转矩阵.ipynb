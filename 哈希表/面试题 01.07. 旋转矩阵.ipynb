{
 "cells": [
  {
   "cell_type": "markdown",
   "metadata": {},
   "source": [
    "### 题目描述"
   ]
  },
  {
   "cell_type": "markdown",
   "metadata": {},
   "source": [
    "给你一幅由 `N × N` 矩阵表示的图像，其中每个像素的大小为 `4` 字节。请你设计一种算法，将图像旋转 `90` 度。\n",
    "\n",
    "不占用额外内存空间能否做到？"
   ]
  },
  {
   "cell_type": "markdown",
   "metadata": {},
   "source": [
    "### 题目分析"
   ]
  },
  {
   "cell_type": "markdown",
   "metadata": {},
   "source": [
    "该题目主要是要找规律，看数组经过旋转后，原始位置上的元素都移到了什么位置上。可以看到，原数组第i行，第j列的元素，移到了第j行，倒数第i列的位置。 总共有三种解题方法： 辅助数组法，使用temp变量方法，翻转法。具体公式推导可以见leetcode官方解答。"
   ]
  },
  {
   "cell_type": "code",
   "execution_count": 1,
   "metadata": {},
   "outputs": [],
   "source": [
    "class Solution:\n",
    "    def rotate(self, matrix) -> None:\n",
    "        \"\"\"\n",
    "        Do not return anything, modify matrix in-place instead.\n",
    "        \"\"\"\n",
    "        N = len(matrix)\n",
    "        temp = [[0] * N for _ in range(N)] \n",
    "        for i in range(N):\n",
    "            for j in range(N):\n",
    "                temp[j][N-i-1] = matrix[i][j]\n",
    "        for i in range(N):\n",
    "            for j in range(N):\n",
    "                matrix[i][j] = temp[i][j]"
   ]
  },
  {
   "cell_type": "code",
   "execution_count": 2,
   "metadata": {},
   "outputs": [],
   "source": [
    "class Solution:\n",
    "    def rotate(self, matrix) -> None:\n",
    "        \"\"\"\n",
    "        Do not return anything, modify matrix in-place instead.\n",
    "        \"\"\"\n",
    "        N = len(matrix)\n",
    "        for i in range(N // 2):\n",
    "            for j in range((N + 1) // 2):\n",
    "                matrix[i][j], matrix[N - j - 1][i], matrix[N - i - 1][N - j - 1], matrix[j][N - i - 1] \\\n",
    "                    = matrix[N - j - 1][i], matrix[N - i - 1][N - j - 1], matrix[j][N - i - 1], matrix[i][j]"
   ]
  },
  {
   "cell_type": "code",
   "execution_count": 3,
   "metadata": {},
   "outputs": [],
   "source": [
    "class Solution:\n",
    "    def rotate(self, matrix) -> None:\n",
    "        n = len(matrix)\n",
    "        # 水平翻转\n",
    "        for i in range(n // 2):\n",
    "            for j in range(n):\n",
    "                matrix[i][j], matrix[n - i - 1][j] = matrix[n - i - 1][j], matrix[i][j]\n",
    "        # 主对角线翻转\n",
    "        for i in range(n):\n",
    "            for j in range(i):\n",
    "                matrix[i][j], matrix[j][i] = matrix[j][i], matrix[i][j]"
   ]
  }
 ],
 "metadata": {
  "kernelspec": {
   "display_name": "Python 3",
   "language": "python",
   "name": "python3"
  },
  "language_info": {
   "codemirror_mode": {
    "name": "ipython",
    "version": 3
   },
   "file_extension": ".py",
   "mimetype": "text/x-python",
   "name": "python",
   "nbconvert_exporter": "python",
   "pygments_lexer": "ipython3",
   "version": "3.7.4"
  }
 },
 "nbformat": 4,
 "nbformat_minor": 2
}
