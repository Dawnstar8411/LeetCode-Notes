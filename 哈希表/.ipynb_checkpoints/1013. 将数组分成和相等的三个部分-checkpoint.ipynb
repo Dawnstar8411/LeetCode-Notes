{
 "cells": [
  {
   "cell_type": "markdown",
   "metadata": {},
   "source": [
    "### 题目描述"
   ]
  },
  {
   "cell_type": "markdown",
   "metadata": {},
   "source": [
    "给你一个整数数组 `A`，只有可以将其划分为三个和相等的非空部分时才返回 `true`，否则返回 `false`。\n",
    "\n",
    "形式上，如果可以找出索引 `i+1 < j` 且满足 `(A[0] + A[1] + ... + A[i] == A[i+1] + A[i+2] + ... + A[j-1] == A[j] + A[j-1] + ... + A[A.length - 1])` 就可以将数组三等分。"
   ]
  },
  {
   "cell_type": "markdown",
   "metadata": {},
   "source": [
    "### 题目分析"
   ]
  },
  {
   "cell_type": "markdown",
   "metadata": {},
   "source": [
    "$O(n^2)$时间复杂度的方法。"
   ]
  },
  {
   "cell_type": "code",
   "execution_count": 1,
   "metadata": {},
   "outputs": [],
   "source": [
    "class Solution:\n",
    "    def canThreePartsEqualSum(self, A) -> bool:\n",
    "        for i in range(1,len(A)):\n",
    "            A[i] += A[i-1]\n",
    "        for i in range(len(A)-2):\n",
    "            for j in range(i+2,len(A)):\n",
    "                if (A[i] == (A[j-1]-A[i])) and (A[i]==A[-1]-A[j-1]):\n",
    "                    return True\n",
    "        return False"
   ]
  },
  {
   "cell_type": "markdown",
   "metadata": {},
   "source": [
    "$O(n)$复杂度的方法。如果对数组从头开始累加，两个断点处的累加值应该是数组和的三分之一和三分之二。"
   ]
  },
  {
   "cell_type": "code",
   "execution_count": 2,
   "metadata": {},
   "outputs": [],
   "source": [
    "class Solution:\n",
    "    def canThreePartsEqualSum(self, A):\n",
    "        sum_A = sum(A)\n",
    "        if sum_A %3 != 0:\n",
    "            return False\n",
    "        \n",
    "        target = sum_A / 3\n",
    "        cur = 0\n",
    "        i=0\n",
    "        while i<(len(A)-2):\n",
    "            cur += A[i]\n",
    "            i += 1\n",
    "            if cur == target:\n",
    "                break\n",
    "        if cur != target:\n",
    "            return False\n",
    "        \n",
    "        while i<(len(A)-1):\n",
    "            cur += A[i]\n",
    "            i+=1\n",
    "            if cur == (target*2):\n",
    "                break\n",
    "        if cur!= 2* target:\n",
    "            return False\n",
    "        return True"
   ]
  }
 ],
 "metadata": {
  "kernelspec": {
   "display_name": "Python 3",
   "language": "python",
   "name": "python3"
  },
  "language_info": {
   "codemirror_mode": {
    "name": "ipython",
    "version": 3
   },
   "file_extension": ".py",
   "mimetype": "text/x-python",
   "name": "python",
   "nbconvert_exporter": "python",
   "pygments_lexer": "ipython3",
   "version": "3.7.4"
  }
 },
 "nbformat": 4,
 "nbformat_minor": 2
}
