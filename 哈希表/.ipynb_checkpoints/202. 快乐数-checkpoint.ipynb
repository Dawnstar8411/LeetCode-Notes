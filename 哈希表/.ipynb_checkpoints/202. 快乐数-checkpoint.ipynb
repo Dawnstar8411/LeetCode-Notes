{
 "cells": [
  {
   "cell_type": "markdown",
   "metadata": {},
   "source": [
    "### 题目描述"
   ]
  },
  {
   "cell_type": "markdown",
   "metadata": {},
   "source": [
    "编写一个算法来判断一个数`n`是不是快乐数。 快乐数的定义为：对于一个正整数，每一次将该数替换为它每个位置上的数字的平方和，然后重复这个过程直到这个数变为1，也可能是无限循环但始终变不到1。如果可以变为1，那么这个数就是快乐数。如果是快乐数就返回`True`，如果不是快乐数就返回`False`。"
   ]
  },
  {
   "cell_type": "markdown",
   "metadata": {},
   "source": [
    "### 题目分析"
   ]
  },
  {
   "cell_type": "markdown",
   "metadata": {},
   "source": [
    "首先判断这个数会不会变道无穷大。 结论是否定的，9999的下一个数是324，999的下一个数是243，也就是说，无论这个数多大，经过有限次的运算后，都会降到243以下。因此只有两种可能，要么是快乐数，要么在243以下形成循环。 可以使用哈希表来存储每一次计算得到的`n`，同时判断是否存在循环。 其时间复杂度为$O(log(n))$,空间复杂度为$O(log(n)$，`n`代表数字的位数，如果我们限定哈希表的长度不超过243，那么其空间复杂度可以达到$O(log(n))$"
   ]
  },
  {
   "cell_type": "code",
   "execution_count": 1,
   "metadata": {},
   "outputs": [],
   "source": [
    "class Solution:\n",
    "    def isHappy(self, n: int) -> bool:\n",
    "        def happy(x:int):\n",
    "            y = 0\n",
    "            while x :\n",
    "                x,digit = divmod(x,10)\n",
    "                y += digit ** 2\n",
    "            return y\n",
    "        seen = set()\n",
    "        while n !=1 and n not in seen:\n",
    "            seen.add(n)\n",
    "            n = happy(n)\n",
    "        return n==1"
   ]
  },
  {
   "cell_type": "markdown",
   "metadata": {},
   "source": [
    "另一种方案是使用快慢指针。求快乐数的流程隐式地形成了一个链表，快指针每次前进2步，慢指针每次前进1步，如果有循环，快指针就会赶上慢指针。因为快指针总会在有限的次数内追上慢指针，因此时间复杂度为$O(log(n))$，空间复杂度为$O(1)$"
   ]
  },
  {
   "cell_type": "code",
   "execution_count": 2,
   "metadata": {},
   "outputs": [],
   "source": [
    "class Solution:\n",
    "    def isHappy(self, n: int) -> bool:\n",
    "        def happy(x:int):\n",
    "            y = 0\n",
    "            while x :\n",
    "                x,digit = divmod(x,10)\n",
    "                y += digit ** 2\n",
    "            return y\n",
    "\n",
    "        slow = happy(n)\n",
    "        fast = happy(happy(n))\n",
    "        while fast !=1 and slow != fast:\n",
    "            slow = happy(slow)\n",
    "            fast = happy(happy(fast))\n",
    "        return (fast == 1)"
   ]
  }
 ],
 "metadata": {
  "kernelspec": {
   "display_name": "Python 3",
   "language": "python",
   "name": "python3"
  },
  "language_info": {
   "codemirror_mode": {
    "name": "ipython",
    "version": 3
   },
   "file_extension": ".py",
   "mimetype": "text/x-python",
   "name": "python",
   "nbconvert_exporter": "python",
   "pygments_lexer": "ipython3",
   "version": "3.7.4"
  }
 },
 "nbformat": 4,
 "nbformat_minor": 2
}
