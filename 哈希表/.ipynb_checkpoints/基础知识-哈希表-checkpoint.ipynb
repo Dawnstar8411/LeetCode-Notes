{
 "cells": [
  {
   "cell_type": "markdown",
   "metadata": {},
   "source": [
    "## 哈希表(Hash Table)"
   ]
  },
  {
   "cell_type": "markdown",
   "metadata": {},
   "source": [
    "### 基本概念"
   ]
  },
  {
   "cell_type": "markdown",
   "metadata": {},
   "source": [
    "**哈希**\n",
    "\n",
    "哈希(散列)是一种对资料的处理方法，通过某种特定的函数，将要检索的项与用来检索的索引关联起来，生成一种便于搜索的数据结构（哈希表/散列表）"
   ]
  },
  {
   "cell_type": "markdown",
   "metadata": {},
   "source": [
    "**哈希表的特点**\n",
    "\n",
    "- 若关键字为k, 则其值存放在地址为f(k)的存储位置上。由此，不需要比较便可直接取得所查记录。称这个对应关系f为散列函数，建立的表为散列表。\n",
    "- 对不同的关键字可能得到同一散列地址，即$k_1\\neq k_2$,而$f(k_1)=f(k_2)$，这种现象称为冲突。\n",
    "- 若对于关键字集合中的任一关键字，经散列函数映射到地址集合中任何一个地址的概率是相等的，则称此类散列函数为均匀散列函数，这就是使关键字经过散列函数得到一个随机的地址，从而减少冲突。"
   ]
  },
  {
   "cell_type": "markdown",
   "metadata": {},
   "source": [
    "### 处理冲突的方法"
   ]
  },
  {
   "cell_type": "markdown",
   "metadata": {},
   "source": [
    "**开放定址法**\n",
    "\n",
    "开放定址法就是产生冲突后，去寻找下一个空间，函数定义为\n",
    "\n",
    "$$hash_i = (hash(key)+d_i) \\mod m, i=1,2,3,\\dots,k(k<m)$$\n",
    "\n",
    "其中，$d_i$是增量序列，$i$为已冲突的次数。\n",
    "\n",
    "- 线性探测法。 $d_i$是线性函数，相当于逐个探测存放地址的表，知道查找到下一个空单元，然后放置在该单元\n",
    "- 平方探测法。 $d_i =\\pm 1^2,\\pm 2^2,\\dots,\\pm k^2(k\\leq m/2)$\n"
   ]
  },
  {
   "cell_type": "markdown",
   "metadata": {},
   "source": [
    "**链表法**\n",
    "\n",
    "散列到同一位置上的元素，不是继续往下探测，而是在这个位置上是一个链表，这些元素都放到一个链表上"
   ]
  },
  {
   "cell_type": "markdown",
   "metadata": {},
   "source": [
    "**再散列**\n",
    "\n",
    "如果一次不够，就再来一次，知道冲突不再发生"
   ]
  },
  {
   "cell_type": "markdown",
   "metadata": {},
   "source": [
    "**建立公共溢出区**\n",
    "\n",
    "将哈希表分为基本表和溢出表两部分，凡是和基本表发生冲突的元素，一律填入溢出表"
   ]
  },
  {
   "cell_type": "markdown",
   "metadata": {},
   "source": [
    "### 哈希表的应用"
   ]
  },
  {
   "cell_type": "markdown",
   "metadata": {},
   "source": [
    "- 构建字典\n",
    "- 网络防火墙中，根据源IP,目的IP,源端口，目的端口，协议号构成的五元组来标识一条网络数据流的，并且根据五元组来建立会话表项。为了查找便捷，一般都使用哈希表来实现这个会话表，以提高转发效率。\n",
    "- Linux内核大量采用哈希表"
   ]
  },
  {
   "cell_type": "code",
   "execution_count": 1,
   "metadata": {},
   "outputs": [],
   "source": [
    "class Map:\n",
    "    def __init__(self):\n",
    "        self.capacity=11\n",
    "        self.hash_table=[[None,None]for i in range(self.capacity)]\n",
    "        self.num=0\n",
    "        self.load_factor=0.75\n",
    "    \n",
    "    def hash(self,k,i):\n",
    "        h_value=(k+i)%self.capacity\n",
    "        if self.hash_table[h_value][0]==k:\n",
    "            return h_value\n",
    "        if self.hash_table[h_value][0]!=None:\n",
    "            i+=1\n",
    "            h_value=self.hash(k,i)\n",
    "        return h_value\n",
    "\n",
    "    def resize(self):\n",
    "         #扩容到原有元素数量的两倍\n",
    "        self.capacity=self.num*2\n",
    "        temp=self.hash_table[:]\n",
    "        self.hash_table=[[None,None]for i in range(self.capacity)] \n",
    "        for i in temp:\n",
    "             #把原来已有的元素存入\n",
    "            if(i[0]!=None):\n",
    "                hash_v=self.hash(i[0],0)\n",
    "                self.hash_table[hash_v][0]=i[0]\n",
    "                self.hash_table[hash_v][1]=i[1]\n",
    " \n",
    "    def put(self,k,v):\n",
    "        hash_v=self.hash(k,0)\n",
    "        self.hash_table[hash_v][0]=k\n",
    "        self.hash_table[hash_v][1]=v\n",
    "        #暂不考虑key重复的情况，具体自己可以优化\n",
    "        self.num+=1\n",
    "        # 如果比例大于载荷因子\n",
    "        if(self.num/len(self.hash_table)>self.load_factor):\n",
    "            self.resize()\n",
    "\n",
    "    def get(self,k):\n",
    "        hash_v=self.hash(k,0)\n",
    "        return self.hash_table[hash_v][1]"
   ]
  },
  {
   "cell_type": "markdown",
   "metadata": {},
   "source": [
    "载荷因子定义为“已有元素个数与表长的比值”。 随着已有元素的增多，表的长度是要变的，载荷因子被设计为0.75；超过0.8，cpu的cache missing会急剧上升。即需要新定义一个resize函数扩大表的长度，一般选择扩到已插入元素数量的两倍。"
   ]
  },
  {
   "cell_type": "code",
   "execution_count": 2,
   "metadata": {},
   "outputs": [
    {
     "name": "stdout",
     "output_type": "stream",
     "text": [
      "字典的长度为9\n",
      "键 kcow 的值为为 cow\n",
      "字典的长度为9\n",
      "键 kmonkey 的值为为 None\n",
      "字典的长度为9\n",
      "字典的长度为8\n",
      "[None, 'kgoat', None, 'kcat', 'kbird', 'kdog', None, 'kcow', None, 'ktiger', 'chicken', 'pig', None]\n",
      "[None, 'goat', None, 'cat', 'bird', 'dog', None, 'cow', None, 'tiger', 'chicken', 'pig', None]\n"
     ]
    }
   ],
   "source": [
    "class MyDictionary(object):\n",
    "    # 字典类的初始化\n",
    "    def __init__(self):\n",
    "        self.table_size = 13 # 哈希表的大小\n",
    "        self.key_list = [None]*self.table_size #用以存储key的列表\n",
    "        self.value_list = [None]*self.table_size #用以存储value的列表\n",
    "    \n",
    "    # 散列函数，返回散列值\n",
    "    # key为需要计算的key\n",
    "    def hashfuction(self, key):\n",
    "        count_char = 0\n",
    "        key_string = str(key)\n",
    "        for key_char in key_string: # 计算key所有字符的ASCII值的和\n",
    "            count_char += ord(key_char) # ord()函数用于求ASCII值\n",
    "        length = len(str(count_char))\n",
    "        if length > 3 : # 当和的位数大于3时，使用平方取中法，保留中间3位\n",
    "            mid_int = 100*int((str(count_char)[length//2-1])) \\\n",
    "                    + 10*int((str(count_char)[length//2])) \\\n",
    "                    + 1*int((str(count_char)[length//2+1]))\n",
    "        else: # 当和的位数小于等于3时，全部保留\n",
    "            mid_int = count_char\n",
    "            \n",
    "        return mid_int%self.table_size # 取余数作为散列值返回\n",
    "        \n",
    "    # 重新散列函数，返回新的散列值\n",
    "    # hash_value为旧的散列值\n",
    "    def rehash(self, hash_value):\n",
    "        return (hash_value+3)%self.table_size #向前间隔为3的线性探测\n",
    "        \n",
    "    # 存放键值对\n",
    "    def __setitem__(self, key, value):\n",
    "        hash_value = self.hashfuction(key) #计算哈希值\n",
    "        if None == self.key_list[hash_value]: #哈希值处为空位，则可以放置键值对\n",
    "            pass\n",
    "        elif key == self.key_list[hash_value]: #哈希值处不为空，旧键值对与新键值对的key值相同，则作为更新，可以放置键值对\n",
    "            pass\n",
    "        else: #哈希值处不为空，key值也不同，即发生了“冲突”，则利用重新散列函数继续探测，直到找到空位\n",
    "            hash_value = self.rehash(hash_value) # 重新散列\n",
    "            while (None != self.key_list[hash_value]) and (key != self.key_list[hash_value]): #依然不能插入键值对，重新散列\n",
    "                hash_value = self.rehash(hash_value) # 重新散列\n",
    "        #放置键值对      \n",
    "        self.key_list[hash_value] = key\n",
    "        self.value_list[hash_value] = value\n",
    "\n",
    "    # 根据key取得value\n",
    "    def __getitem__(self, key):\n",
    "        hash_value = self.hashfuction(key) #计算哈希值\n",
    "        first_hash = hash_value #记录最初的哈希值，作为重新散列探测的停止条件\n",
    "        if None == self.key_list[hash_value]: #哈希值处为空位，则不存在该键值对\n",
    "            return None\n",
    "        elif key == self.key_list[hash_value]: #哈希值处不为空，key值与寻找中的key值相同，则返回相应的value值\n",
    "            return self.value_list[hash_value]\n",
    "        else: #哈希值处不为空，key值也不同，即发生了“冲突”，则利用重新散列函数继续探测，直到找到空位或相同的key值\n",
    "            hash_value = self.rehash(hash_value) # 重新散列\n",
    "            while (None != self.key_list[hash_value]) and (key != self.key_list[hash_value]): #依然没有找到，重新散列\n",
    "                hash_value = self.rehash(hash_value) # 重新散列\n",
    "                if hash_value == first_hash: #哈希值探测重回起点，判断为无法找到了\n",
    "                    return None\n",
    "            #结束了while循环，意味着找到了空位或相同的key值\n",
    "            if None == self.key_list[hash_value]: #哈希值处为空位，则不存在该键值对\n",
    "                return None\n",
    "            else: #哈希值处不为空，key值与寻找中的key值相同，则返回相应的value值\n",
    "                return self.value_list[hash_value]\n",
    "    \n",
    "    # 删除键值对\n",
    "    def __delitem__(self, key):\n",
    "        hash_value = self.hashfuction(key) #计算哈希值\n",
    "        first_hash = hash_value #记录最初的哈希值，作为重新散列探测的停止条件\n",
    "        if None == self.key_list[hash_value]: #哈希值处为空位，则不存在该键值对，无需删除\n",
    "            return\n",
    "        elif key == self.key_list[hash_value]: #哈希值处不为空，key值与寻找中的key值相同，则删除\n",
    "            self.key_list[hash_value] = None\n",
    "            self.value_list[hash_value] = None\n",
    "            return\n",
    "        else: #哈希值处不为空，key值也不同，即发生了“冲突”，则利用重新散列函数继续探测，直到找到空位或相同的key值\n",
    "            hash_value = self.rehash(hash_value) # 重新散列\n",
    "            while (None != self.key_list[hash_value]) and (key != self.key_list[hash_value]): #依然没有找到，重新散列\n",
    "                hash_value = self.rehash(hash_value) # 重新散列\n",
    "                if hash_value == first_hash: #哈希值探测重回起点，判断为无法找到了\n",
    "                    return\n",
    "            #结束了while循环，意味着找到了空位或相同的key值\n",
    "            if None == self.key_list[hash_value]: #哈希值处为空位，则不存在该键值对\n",
    "                return\n",
    "            else: #哈希值处不为空，key值与寻找中的key值相同，则删除\n",
    "                self.key_list[hash_value] = None\n",
    "                self.value_list[hash_value] = None\n",
    "                return\n",
    "    \n",
    "    # 返回字典的长度\n",
    "    def __len__(self):\n",
    "        count = 0\n",
    "        for key in self.key_list:\n",
    "            if key != None:\n",
    "                count += 1\n",
    "        return count\n",
    "\n",
    "def main():\n",
    "    H = MyDictionary()\n",
    "    H[\"kcat\"]=\"cat\"\n",
    "    H[\"kdog\"]=\"dog\"\n",
    "    H[\"klion\"]=\"lion\"\n",
    "    H[\"ktiger\"]=\"tiger\"\n",
    "    H[\"kbird\"]=\"bird\"\n",
    "    H[\"kcow\"]=\"cow\"\n",
    "    H[\"kgoat\"]=\"goat\"\n",
    "    H[\"pig\"]=\"pig\"\n",
    "    H[\"chicken\"]=\"chicken\"\n",
    "    print(\"字典的长度为%d\"%len(H))\n",
    "    print(\"键 %s 的值为为 %s\"%(\"kcow\",H[\"kcow\"]))\n",
    "    print(\"字典的长度为%d\"%len(H))\n",
    "    print(\"键 %s 的值为为 %s\"%(\"kmonkey\",H[\"kmonkey\"]))\n",
    "    print(\"字典的长度为%d\"%len(H))\n",
    "    del H[\"klion\"]\n",
    "    print(\"字典的长度为%d\"%len(H))\n",
    "    print(H.key_list)\n",
    "    print(H.value_list)\n",
    "    \n",
    "if __name__ == \"__main__\":\n",
    "    main()"
   ]
  },
  {
   "cell_type": "markdown",
   "metadata": {},
   "source": [
    "### Python 字典操作"
   ]
  },
  {
   "cell_type": "markdown",
   "metadata": {},
   "source": [
    "d = {key1: value1, key2:value2, key3:value3}\n",
    "\n",
    "**访问字典元素**\n",
    "\n",
    "d[key1]\n",
    "\n",
    "**判断键值在不在字典里**\n",
    "\n",
    "d.has_key(key), 返回true或者false\n",
    "\n",
    "key in d, 返回true 或者false\n",
    "\n",
    "**set()和dict()的区别**\n",
    "\n",
    "set和dict类似，set只存储键值，不保存value.\n",
    "\n",
    "初始化： s = set() 或 s = set([1,2,3,4,5])\n",
    "\n",
    "添加元素： s.add(6)\n",
    "\n",
    "移除元素： s.remove(3)"
   ]
  }
 ],
 "metadata": {
  "kernelspec": {
   "display_name": "Python 3",
   "language": "python",
   "name": "python3"
  },
  "language_info": {
   "codemirror_mode": {
    "name": "ipython",
    "version": 3
   },
   "file_extension": ".py",
   "mimetype": "text/x-python",
   "name": "python",
   "nbconvert_exporter": "python",
   "pygments_lexer": "ipython3",
   "version": "3.7.4"
  }
 },
 "nbformat": 4,
 "nbformat_minor": 2
}
