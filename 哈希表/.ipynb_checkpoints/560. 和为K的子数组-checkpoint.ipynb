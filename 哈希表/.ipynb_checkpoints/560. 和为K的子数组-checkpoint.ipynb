{
 "cells": [
  {
   "cell_type": "markdown",
   "metadata": {},
   "source": [
    "### 题目描述"
   ]
  },
  {
   "cell_type": "markdown",
   "metadata": {},
   "source": [
    "给定一个整数数组和一个整数 k，你需要找到该数组中和为 k 的连续的子数组的个数。"
   ]
  },
  {
   "cell_type": "markdown",
   "metadata": {},
   "source": [
    "### 题目分析"
   ]
  },
  {
   "cell_type": "markdown",
   "metadata": {},
   "source": [
    "参考链接 https://labuladong.gitbook.io/algo/suan-fa-si-wei-xi-lie/qian-zhui-he-ji-qiao"
   ]
  },
  {
   "cell_type": "code",
   "execution_count": 2,
   "metadata": {},
   "outputs": [],
   "source": [
    "class Solution:\n",
    "    def subarraySum(self, nums, k: int) -> int:\n",
    "        my_hashmap = {}\n",
    "        my_hashmap[0] = 1\n",
    "        sum_i = 0\n",
    "        ans = 0\n",
    "        for i in range(len(nums)):\n",
    "            sum_i += nums[i]\n",
    "            sum_j = sum_i - k\n",
    "            if sum_j in my_hashmap:\n",
    "                ans += my_hashmap[sum_j]\n",
    "            if sum_i not in my_hashmap:\n",
    "                my_hashmap[sum_i] = 1\n",
    "            else:\n",
    "                my_hashmap[sum_i]+=1\n",
    "        return ans"
   ]
  }
 ],
 "metadata": {
  "kernelspec": {
   "display_name": "Python 3",
   "language": "python",
   "name": "python3"
  },
  "language_info": {
   "codemirror_mode": {
    "name": "ipython",
    "version": 3
   },
   "file_extension": ".py",
   "mimetype": "text/x-python",
   "name": "python",
   "nbconvert_exporter": "python",
   "pygments_lexer": "ipython3",
   "version": "3.7.4"
  }
 },
 "nbformat": 4,
 "nbformat_minor": 2
}
