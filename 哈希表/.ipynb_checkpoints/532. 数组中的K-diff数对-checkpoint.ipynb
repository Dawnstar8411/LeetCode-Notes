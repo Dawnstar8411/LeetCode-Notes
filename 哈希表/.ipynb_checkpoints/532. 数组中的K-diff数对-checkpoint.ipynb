{
 "cells": [
  {
   "cell_type": "markdown",
   "metadata": {},
   "source": [
    "### 题目描述"
   ]
  },
  {
   "cell_type": "markdown",
   "metadata": {},
   "source": [
    "给定一个整数数组和一个整数 `k`, 你需要在数组里找到不同的 `k-diff` 数对。这里将`k-diff` 数对定义为一个整数对 `(i, j)`, 其中 `i` 和 `j` 都是数组中的数字，且两数之差的绝对值是 `k`."
   ]
  },
  {
   "cell_type": "markdown",
   "metadata": {},
   "source": [
    "### 题目分析"
   ]
  },
  {
   "cell_type": "markdown",
   "metadata": {},
   "source": [
    "利用set()函数来解决。"
   ]
  },
  {
   "cell_type": "code",
   "execution_count": 1,
   "metadata": {},
   "outputs": [],
   "source": [
    "class Solution:\n",
    "    def findPairs(self, nums, k: int) -> int:\n",
    "        if k <0:\n",
    "            return 0\n",
    "        if k == 0:\n",
    "            ans = len(set([i for i in nums if nums.count(i)>=2]))\n",
    "        else:\n",
    "            temp = [i+k for i in nums]\n",
    "            ans = len(set(nums) & set(temp))\n",
    "        return ans"
   ]
  }
 ],
 "metadata": {
  "kernelspec": {
   "display_name": "Python 3",
   "language": "python",
   "name": "python3"
  },
  "language_info": {
   "codemirror_mode": {
    "name": "ipython",
    "version": 3
   },
   "file_extension": ".py",
   "mimetype": "text/x-python",
   "name": "python",
   "nbconvert_exporter": "python",
   "pygments_lexer": "ipython3",
   "version": "3.7.4"
  }
 },
 "nbformat": 4,
 "nbformat_minor": 2
}
