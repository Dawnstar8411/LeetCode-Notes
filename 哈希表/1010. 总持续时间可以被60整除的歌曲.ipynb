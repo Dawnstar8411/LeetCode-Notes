{
 "cells": [
  {
   "cell_type": "markdown",
   "metadata": {},
   "source": [
    "### 题目描述"
   ]
  },
  {
   "cell_type": "markdown",
   "metadata": {},
   "source": [
    "在歌曲列表中，第 `i` 首歌曲的持续时间为 `time[i]` 秒。\n",
    "\n",
    "返回其总持续时间（以秒为单位）可被 `60` 整除的歌曲对的数量。形式上，我们希望索引的数字 `i` 和 `j` 满足  i < j 且有`(time[i] + time[j]) % 60 == 0`。\n"
   ]
  },
  {
   "cell_type": "markdown",
   "metadata": {},
   "source": [
    "### 题目分析"
   ]
  },
  {
   "cell_type": "markdown",
   "metadata": {},
   "source": [
    "跟两数之和的思路差不多，要用到哈希表。可以将$O(n^2)$的时间复杂度降到$O(n)$。"
   ]
  },
  {
   "cell_type": "code",
   "execution_count": 1,
   "metadata": {},
   "outputs": [],
   "source": [
    "class Solution:\n",
    "    def numPairsDivisibleBy60(self, time):\n",
    "        d = {i:0 for i in range(60)}\n",
    "        ans = 0\n",
    "        for i in range(len(time)):\n",
    "            d[time[i]%60]+=1\n",
    "        if d[0]>1:\n",
    "            ans += int(d[0]*(d[0]-1)/2)\n",
    "        \n",
    "        if d[30]>1:\n",
    "            ans += int(d[30]*(d[30]-1)/2)\n",
    "        \n",
    "        for i in range(1,30):\n",
    "            ans += d[i]*d[60-i]\n",
    "        return ans "
   ]
  }
 ],
 "metadata": {
  "kernelspec": {
   "display_name": "Python 3",
   "language": "python",
   "name": "python3"
  },
  "language_info": {
   "codemirror_mode": {
    "name": "ipython",
    "version": 3
   },
   "file_extension": ".py",
   "mimetype": "text/x-python",
   "name": "python",
   "nbconvert_exporter": "python",
   "pygments_lexer": "ipython3",
   "version": "3.7.4"
  }
 },
 "nbformat": 4,
 "nbformat_minor": 2
}
