{
 "cells": [
  {
   "cell_type": "markdown",
   "metadata": {},
   "source": [
    "### 题目描述"
   ]
  },
  {
   "cell_type": "markdown",
   "metadata": {},
   "source": [
    "罗马数字包含以下七种字符: `I， V， X， L，C，D, M`。分别对应 `1，5，10，50，100，500，1000`\n",
    "\n",
    "例如，罗马数字 2 写做 II ，即为两个并列的 1。12 写做 XII ，即为 X + II 。 27 写做  XXVII, 即为 XX + V + II 。\n",
    "\n",
    "通常情况下，罗马数字中小的数字在大的数字的右边。但也存在特例，例如 4 不写做 IIII，而是 IV。数字 1 在数字 5 的左边，所表示的数等于大数 5 减小数 1 得到的数值 4 。同样地，数字 9 表示为 IX。这个特殊的规则只适用于以下六种情况：\n",
    "\n",
    "I 可以放在 V (5) 和 X (10) 的左边，来表示 4 和 9。\n",
    "X 可以放在 L (50) 和 C (100) 的左边，来表示 40 和 90。 \n",
    "C 可以放在 D (500) 和 M (1000) 的左边，来表示 400 和 900。\n",
    "给定一个罗马数字，将其转换成整数。输入确保在 1 到 3999 的范围内。\n"
   ]
  },
  {
   "cell_type": "markdown",
   "metadata": {},
   "source": [
    "### 题目分析"
   ]
  },
  {
   "cell_type": "markdown",
   "metadata": {},
   "source": [
    "使用哈希表。哈希表中保存两种类型的索引，一种是单个的字符，代表其本身的数字；另一种是相邻的两个字符，其代表要减去的多算进去的值。\n",
    "\n",
    "遍历一遍字符串，对每一个单个字符都通过查哈希表累加数值，同时判断该字符与前一位的字符的组合是不是在哈希表中，如果在的话，表明其前一位的字符被多计算了两遍，哈希表中保存的是要减去的值。"
   ]
  },
  {
   "cell_type": "code",
   "execution_count": 1,
   "metadata": {},
   "outputs": [],
   "source": [
    "class Solution:\n",
    "    def romanToInt(self, s: str) -> int:\n",
    "        hashmap = {\"I\":1,\"V\":5,\"X\":10,\"L\":50,\"C\":100,\"D\":500,\"M\":1000,\"IV\":-2,\"IX\":-2,\"XL\":-20,\"XC\":-20,\"CD\":-200,\"CM\":-200}\n",
    "        ans = hashmap[s[0]]\n",
    "        for i in range(1,len(s)):\n",
    "            ans += hashmap[s[i]]\n",
    "            temp = s[i-1]+s[i]\n",
    "            if temp in hashmap:\n",
    "                ans+=hashmap[temp]       \n",
    "        return ans"
   ]
  }
 ],
 "metadata": {
  "kernelspec": {
   "display_name": "Python 3",
   "language": "python",
   "name": "python3"
  },
  "language_info": {
   "codemirror_mode": {
    "name": "ipython",
    "version": 3
   },
   "file_extension": ".py",
   "mimetype": "text/x-python",
   "name": "python",
   "nbconvert_exporter": "python",
   "pygments_lexer": "ipython3",
   "version": "3.7.4"
  }
 },
 "nbformat": 4,
 "nbformat_minor": 2
}
