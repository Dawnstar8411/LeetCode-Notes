{
 "cells": [
  {
   "cell_type": "markdown",
   "metadata": {},
   "source": [
    "### 题目描述"
   ]
  },
  {
   "cell_type": "markdown",
   "metadata": {},
   "source": [
    "给你一份旅游线路图，该线路图中的旅行线路用数组 `paths` 表示，其中 `paths[i] = [cityAi, cityBi]` 表示该线路将会从 `cityAi` 直接前往 `cityBi` 。请你找出这次旅行的终点站，即没有任何可以通往其他城市的线路的城市。\n",
    "\n",
    "题目数据保证线路图会形成一条不存在循环的线路，因此只会有一个旅行终点站。\n",
    "\n",
    "\n",
    "输入：`paths = [[\"London\",\"New York\"],[\"New York\",\"Lima\"],[\"Lima\",\"Sao Paulo\"]]`\n",
    "\n",
    "输出：`\"Sao Paulo\"` \n",
    "\n",
    "解释：从 `\"London\"` 出发，最后抵达终点站 `\"Sao Paulo\"` 。本次旅行的路线是 `\"London\" -> \"New York\" -> \"Lima\" -> \"Sao Paulo\"` 。\n"
   ]
  },
  {
   "cell_type": "markdown",
   "metadata": {},
   "source": [
    "### 题目分析"
   ]
  },
  {
   "cell_type": "markdown",
   "metadata": {},
   "source": [
    "使用哈希表来解决，时间复杂度$O(n)$"
   ]
  },
  {
   "cell_type": "code",
   "execution_count": 1,
   "metadata": {},
   "outputs": [],
   "source": [
    "class Solution:\n",
    "    def destCity(self, paths) -> str:\n",
    "        hashmap = {}\n",
    "        for i in range(len(paths)):\n",
    "            if paths[i][0] not in hashmap.keys():\n",
    "                hashmap[paths[i][0]] = -1\n",
    "            else:\n",
    "                hashmap[paths[i][0]] -= 1\n",
    "            \n",
    "            if paths[i][1] not in hashmap.keys():\n",
    "                hashmap[paths[i][1]] = 1\n",
    "            else:\n",
    "                hashmap[paths[i][1]] += 1\n",
    "        for i in hashmap.keys():\n",
    "            if hashmap[i] == 1:\n",
    "                return i"
   ]
  }
 ],
 "metadata": {
  "kernelspec": {
   "display_name": "Python 3",
   "language": "python",
   "name": "python3"
  },
  "language_info": {
   "codemirror_mode": {
    "name": "ipython",
    "version": 3
   },
   "file_extension": ".py",
   "mimetype": "text/x-python",
   "name": "python",
   "nbconvert_exporter": "python",
   "pygments_lexer": "ipython3",
   "version": "3.7.4"
  }
 },
 "nbformat": 4,
 "nbformat_minor": 2
}
