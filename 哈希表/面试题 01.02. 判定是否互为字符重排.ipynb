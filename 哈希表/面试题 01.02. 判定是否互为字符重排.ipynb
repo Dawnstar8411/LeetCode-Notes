{
 "cells": [
  {
   "cell_type": "markdown",
   "metadata": {},
   "source": [
    "### 题目描述"
   ]
  },
  {
   "cell_type": "markdown",
   "metadata": {},
   "source": [
    "给定两个字符串 `s1` 和 `s2`，请编写一个程序，确定其中一个字符串的字符重新排列后，能否变成另一个字符串。"
   ]
  },
  {
   "cell_type": "markdown",
   "metadata": {},
   "source": [
    "### 题目分析"
   ]
  },
  {
   "cell_type": "markdown",
   "metadata": {},
   "source": [
    "设计一个数组，初始化为0。遍历第一个字符串，在对应字符位置加1，遍历第二个字符串，在对应位置减1，最后再判断数组是否都为0。"
   ]
  },
  {
   "cell_type": "code",
   "execution_count": 1,
   "metadata": {},
   "outputs": [],
   "source": [
    "class Solution:\n",
    "    def CheckPermutation(self, s1: str, s2: str) -> bool:\n",
    "        nums = [0 for i in range(26)]\n",
    "        if len(s1)!=len(s2):\n",
    "            return False\n",
    "        for i in range(len(s1)):\n",
    "            nums[ord(s1[i])-ord('a')] +=1\n",
    "        for i in range(len(s2)):\n",
    "            nums[ord(s2[i])-ord('a')] -=1\n",
    "        for i in range(len(nums)):\n",
    "            if nums[i] != 0:\n",
    "                return False\n",
    "        return True"
   ]
  }
 ],
 "metadata": {
  "kernelspec": {
   "display_name": "Python 3",
   "language": "python",
   "name": "python3"
  },
  "language_info": {
   "codemirror_mode": {
    "name": "ipython",
    "version": 3
   },
   "file_extension": ".py",
   "mimetype": "text/x-python",
   "name": "python",
   "nbconvert_exporter": "python",
   "pygments_lexer": "ipython3",
   "version": "3.7.4"
  }
 },
 "nbformat": 4,
 "nbformat_minor": 2
}
