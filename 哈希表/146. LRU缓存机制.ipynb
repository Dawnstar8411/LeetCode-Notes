{
 "cells": [
  {
   "cell_type": "markdown",
   "metadata": {},
   "source": [
    "### 题目描述"
   ]
  },
  {
   "cell_type": "markdown",
   "metadata": {},
   "source": [
    "运用你所掌握的数据结构，设计和实现一个  LRU (最近最少使用) 缓存机制。它应该支持以下操作： 获取数据 get 和 写入数据 put 。\n",
    "\n",
    "获取数据 get(key) - 如果关键字 (key) 存在于缓存中，则获取关键字的值（总是正数），否则返回 -1。\n",
    "写入数据 put(key, value) - 如果关键字已经存在，则变更其数据值；如果关键字不存在，则插入该组「关键字/值」。当缓存容量达到上限时，它应该在写入新数据之前删除最久未使用的数据值，从而为新的数据值留出空间。"
   ]
  },
  {
   "cell_type": "markdown",
   "metadata": {},
   "source": [
    "### 题目分析"
   ]
  },
  {
   "cell_type": "markdown",
   "metadata": {},
   "source": [
    "使用哈希表+双向链表解决，参考链接https://labuladong.gitbook.io/algo/gao-pin-mian-shi-xi-lie/lru-suan-fa"
   ]
  },
  {
   "cell_type": "code",
   "execution_count": 1,
   "metadata": {},
   "outputs": [],
   "source": [
    "class LRUCache:\n",
    "\n",
    "    def __init__(self, capacity: int):\n",
    "        self.capacity = capacity\n",
    "        self.hashmap = dict()\n",
    "        self.cache = DoubleList()\n",
    "\n",
    "\n",
    "    def get(self, key: int) -> int:\n",
    "        if key not in self.hashmap.keys():\n",
    "            return -1\n",
    "        value = self.hashmap[key].val\n",
    "        self.put(key, value)\n",
    "        return value\n",
    "\n",
    "\n",
    "    def put(self, key: int, value: int) -> None:\n",
    "        newnode = Node(key,value)\n",
    "        if key in self.hashmap.keys():\n",
    "            self.cache.remove(self.hashmap[key]) \n",
    "            self.hashmap[key] = newnode\n",
    "        else:\n",
    "            self.hashmap[key] = newnode\n",
    "            if self.cache.size == self.capacity:\n",
    "                key = self.cache.removeLast()\n",
    "                del self.hashmap[key]\n",
    "        self.cache.addFirst(newnode)\n",
    "\n",
    "class DoubleList:\n",
    "\n",
    "    def __init__(self):\n",
    "        self.start = Node()\n",
    "        self.end = Node()\n",
    "        self.start.next = self.end\n",
    "        self.end.forward = self.start\n",
    "        self.size = 0\n",
    "    \n",
    "    def addFirst(self,node):\n",
    "        node.next = self.start.next\n",
    "        self.start.next.forward = node\n",
    "        self.start.next = node\n",
    "        node.forward = self.start\n",
    "        self.size += 1\n",
    "\n",
    "    def remove(self,node):\n",
    "        node.next.forward = node.forward\n",
    "        node.forward.next = node.next\n",
    "        self.size -= 1\n",
    "\n",
    "    def removeLast(self):\n",
    "        key = self.end.forward.key\n",
    "        self.end.forward.forward.next = self.end\n",
    "        self.end.forward = self.end.forward.forward\n",
    "        self.size -= 1\n",
    "        return key\n",
    "\n",
    "class Node:\n",
    "    def __init__(self,key=None,val=None):\n",
    "        self.key = key\n",
    "        self.val = val\n",
    "        self.next = None\n",
    "        self.forward = None\n",
    "\n",
    "# Your LRUCache object will be instantiated and called as such:\n",
    "# obj = LRUCache(capacity)\n",
    "# param_1 = obj.get(key)\n",
    "# obj.put(key,value)"
   ]
  }
 ],
 "metadata": {
  "kernelspec": {
   "display_name": "Python 3",
   "language": "python",
   "name": "python3"
  },
  "language_info": {
   "codemirror_mode": {
    "name": "ipython",
    "version": 3
   },
   "file_extension": ".py",
   "mimetype": "text/x-python",
   "name": "python",
   "nbconvert_exporter": "python",
   "pygments_lexer": "ipython3",
   "version": "3.7.4"
  }
 },
 "nbformat": 4,
 "nbformat_minor": 2
}
