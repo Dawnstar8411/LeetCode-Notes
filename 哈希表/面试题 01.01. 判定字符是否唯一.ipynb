{
 "cells": [
  {
   "cell_type": "markdown",
   "metadata": {},
   "source": [
    "### 题目描述"
   ]
  },
  {
   "cell_type": "markdown",
   "metadata": {},
   "source": [
    "实现一个算法，确定一个字符串 s 的所有字符是否全都不同。"
   ]
  },
  {
   "cell_type": "markdown",
   "metadata": {},
   "source": [
    "### 题目分析"
   ]
  },
  {
   "cell_type": "markdown",
   "metadata": {},
   "source": [
    "使用哈希结构进行判断"
   ]
  },
  {
   "cell_type": "code",
   "execution_count": 1,
   "metadata": {},
   "outputs": [],
   "source": [
    "class Solution:\n",
    "    def isUnique(self, astr: str) -> bool:\n",
    "        hashmap = set()\n",
    "        for i in range(len(astr)):\n",
    "            if astr[i] not in hashmap:\n",
    "                hashmap.add(astr[i])\n",
    "            else:\n",
    "                return False\n",
    "        return True"
   ]
  },
  {
   "cell_type": "markdown",
   "metadata": {},
   "source": [
    "使用位运算。 设计一个mark，初始值为0。对于每一个字符，判断其与'a'的距离，再通过将1左移这个距离，就能得到一个表示该字符的，只有一个1的二进制串。将该二进制串与mark做与操作，如果结果不为0，则说明重复了；如果结果为0，就将其与mark做或操作，将该位置的1添加到mark上面。"
   ]
  },
  {
   "cell_type": "code",
   "execution_count": 2,
   "metadata": {},
   "outputs": [],
   "source": [
    "class Solution:\n",
    "    def isUnique(self, astr: str) -> bool:\n",
    "        mark = 0\n",
    "        for char in astr:\n",
    "            move_bit = ord(char)-ord('a')\n",
    "            if (mark & (1<<move_bit)):\n",
    "                return False\n",
    "            else:\n",
    "                mark = mark | (1<< move_bit)\n",
    "        return True "
   ]
  }
 ],
 "metadata": {
  "kernelspec": {
   "display_name": "Python 3",
   "language": "python",
   "name": "python3"
  },
  "language_info": {
   "codemirror_mode": {
    "name": "ipython",
    "version": 3
   },
   "file_extension": ".py",
   "mimetype": "text/x-python",
   "name": "python",
   "nbconvert_exporter": "python",
   "pygments_lexer": "ipython3",
   "version": "3.7.4"
  }
 },
 "nbformat": 4,
 "nbformat_minor": 2
}
