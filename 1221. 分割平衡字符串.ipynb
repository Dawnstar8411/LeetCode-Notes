{
 "cells": [
  {
   "cell_type": "markdown",
   "metadata": {},
   "source": [
    "### 题目描述"
   ]
  },
  {
   "cell_type": "markdown",
   "metadata": {},
   "source": [
    "在一个平衡字符串中，'L'和'R'字符的数量是相同的。给出一个平衡字符串`s`，请你将它分割成尽可能多的平衡字符串。返回可以通过分割得到的平衡字符串的最大数量。"
   ]
  },
  {
   "cell_type": "markdown",
   "metadata": {},
   "source": [
    "### 题目分析"
   ]
  },
  {
   "cell_type": "markdown",
   "metadata": {},
   "source": [
    "从左到右遍历字符串，对'L'和'R'分别记数，一旦得到一个平衡字符串，便在此位置进行分割。"
   ]
  },
  {
   "cell_type": "code",
   "execution_count": 1,
   "metadata": {},
   "outputs": [],
   "source": [
    "class Solution:\n",
    "    def balancedStringSplit(self, s: str) -> int:\n",
    "        num_r = 0\n",
    "        num_l = 0\n",
    "        ans = 0\n",
    "        for i in range(len(s)):\n",
    "            if s[i]=='R':\n",
    "                num_r+=1\n",
    "            else:\n",
    "                num_l+=1\n",
    "            if num_r == num_l:\n",
    "                ans+=1\n",
    "                num_r = 0\n",
    "                num_l = 0\n",
    "        return ans"
   ]
  }
 ],
 "metadata": {
  "kernelspec": {
   "display_name": "Python 3",
   "language": "python",
   "name": "python3"
  },
  "language_info": {
   "codemirror_mode": {
    "name": "ipython",
    "version": 3
   },
   "file_extension": ".py",
   "mimetype": "text/x-python",
   "name": "python",
   "nbconvert_exporter": "python",
   "pygments_lexer": "ipython3",
   "version": "3.7.4"
  }
 },
 "nbformat": 4,
 "nbformat_minor": 2
}
