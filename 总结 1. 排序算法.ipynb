{
 "cells": [
  {
   "cell_type": "markdown",
   "metadata": {},
   "source": [
    "### 经典排序算法"
   ]
  },
  {
   "cell_type": "markdown",
   "metadata": {},
   "source": [
    "|排序算法|平均时间复杂度|最好时间复杂度|最差时间复杂度|平均空间复杂度|稳定度|备注|\n",
    "|:----|:------|:----|:----|:----|:----|:----|\n",
    "|冒泡排序|$O(n^2)$|$O(n)$|$O(n^2)$|$O(1)$|稳定|n小时较好|\n",
    "|选择排序|$O(n^2)$|$O()$|$O(n^2)$|$O(1)$|不稳定|n小时较好|\n",
    "|插入排序|$O(n^2)$|$O()$|$O(n^2)$|$O(1)$|稳定|大部分已排序时较好|\n",
    "|交换排序|$O(n^2)$|$O()$|$O(n^2)$|$O(1)$|不稳定|n小时较好|\n",
    "|基数排序|$O(\\log_RB)$|$O()$|$O(\\log_RB)$|0|$O(n)$|稳定|B(0-9),R(个十百)|\n",
    "|Shell|$O(n\\log n)$|$O()$|$O(n^s)$|$O(1)$|不稳定|s是所选分组,$s\\in(1,2)$|\n",
    "|快速排序|$O(n\\log n)$|$O()$|$O(n^2)$|$O(n\\log n)$|不稳定|n大时较好|\n",
    "|归并排序|$O(n\\log n)$|$O()$|$O(n\\log n)$|$O(1)$|稳定|n大时较好|\n",
    "|堆排序|$O(n\\log n)$|$O()$|$O(n\\log n)$|$O(1)$|不稳定|n大时较好|"
   ]
  },
  {
   "cell_type": "markdown",
   "metadata": {},
   "source": [
    "### 冒泡排序"
   ]
  },
  {
   "cell_type": "markdown",
   "metadata": {},
   "source": [
    "- 每次比较相邻的两个元素，如果第一个比第二个大，交换他们的位置。\n",
    "- 针对未排序好的数列部分，从第一个元素开始向后遍历，对每一组相邻元素进行上述操作，最大的元素将被移到最后一个位置。\n",
    "- 未排序好的数列元素原来越少，直到没有任何一个数字需要比较"
   ]
  },
  {
   "cell_type": "code",
   "execution_count": 2,
   "metadata": {},
   "outputs": [],
   "source": [
    "def bubbleSort(nums):\n",
    "    N = len(nums)\n",
    "    for i in range(1,N):\n",
    "        for j in range(N-i):\n",
    "            if nums[j]>nums[j+1]:\n",
    "                temp = nums[j+1]\n",
    "                nums[j+1] = nums[j]\n",
    "                nums[j] = temp\n",
    "    return nums"
   ]
  },
  {
   "cell_type": "markdown",
   "metadata": {},
   "source": [
    "### 选择排序"
   ]
  },
  {
   "cell_type": "markdown",
   "metadata": {},
   "source": [
    "- 在未排序的序列中找到最小元素，放置到整个序列的起始位置\n",
    "- 再剩余未排序的序列中找到最小元素，放置到已排序序列的末尾。\n",
    "- 重复第二步，直到所有元素已排序为止。"
   ]
  },
  {
   "cell_type": "code",
   "execution_count": 4,
   "metadata": {},
   "outputs": [],
   "source": [
    "def selectionSort(nums):\n",
    "    N = len(nums)\n",
    "    for i in range(N-1):\n",
    "        index = i\n",
    "        for j in range(i+1,N):\n",
    "            if nums[j]<nums[index]:\n",
    "                index = j\n",
    "        if i != index:\n",
    "            temp = nums[i]\n",
    "            nums[i] = nums[index]\n",
    "            nums[index] = temp\n",
    "    return nums"
   ]
  },
  {
   "cell_type": "markdown",
   "metadata": {},
   "source": [
    "### 插入排序"
   ]
  },
  {
   "cell_type": "markdown",
   "metadata": {},
   "source": [
    "- 首先，将待排序序列的第一个元素看做一个有序序列，把第二个元素到最后一个元素的序列看做未排序序列。\n",
    "- 从头到尾扫描未排序序列，将扫描到的每个元素插入有序序列中的适当位置。"
   ]
  },
  {
   "cell_type": "code",
   "execution_count": 5,
   "metadata": {},
   "outputs": [],
   "source": [
    "def insertionSort(nums):\n",
    "    N = len(nums)\n",
    "    for i in range(1,N):\n",
    "        index = i-1\n",
    "        current = nums[i]\n",
    "        while index >=0 and current<nums[index]:\n",
    "            nums[index+1] = nums[index]\n",
    "            index -= 1\n",
    "        nums[index+1]=current\n",
    "    return nums"
   ]
  },
  {
   "cell_type": "markdown",
   "metadata": {},
   "source": [
    "### 希尔排序"
   ]
  },
  {
   "cell_type": "markdown",
   "metadata": {},
   "source": [
    "希尔排序是插入排序的改进版本，但希尔排序是不稳定的排序算法。希尔排序根据插入排序的两点兴致提出改进方法：\n",
    "- 插入排序在对几乎已经排好序的数组操作时，效率高，可以达到线性排序的效率。\n",
    "- 插入排序一般来说是低效的，因为插入排序每次只能将数据移动一位。\n",
    "\n",
    "插入排序的思想是：先将整个待排序的记录序列分割成为若干个序列分别进行插入排序，待整个序列中的记录“基本有序”是，再对全体记录进行插入排序。\n",
    "\n",
    "- 选择一个增量序列，例如 n/2,n/4,...1\n",
    "- 按增量序列个数k，对序列进行k趟排序\n",
    "- 每趟排序，根据对应的增量，将待排序序列分割成若干个长度为m的子序列，分别对个子序列进行插入排序。当增量为1时，变为经典的插入排序。"
   ]
  },
  {
   "cell_type": "code",
   "execution_count": 6,
   "metadata": {},
   "outputs": [],
   "source": [
    "def ShellSort(nums):\n",
    "    N = len(nums)\n",
    "    gap = N//2\n",
    "    while gap>0:\n",
    "        for i in range(gap,N):\n",
    "            index = i-gap\n",
    "            current = nums[i]\n",
    "            while index>=0 and current < nums[index]:\n",
    "                nums[index+gap] = nums[index]\n",
    "                index -= gap\n",
    "            nums[index+gap] = current\n",
    "    return nums"
   ]
  },
  {
   "cell_type": "markdown",
   "metadata": {},
   "source": [
    "### 归并排序"
   ]
  },
  {
   "cell_type": "markdown",
   "metadata": {},
   "source": [
    "归并排序是建立在归并操作上的算法，其可由自上而下的递归和自下而上地迭代两种方法实现。（所欲递归的方法都可以用迭代重写）归并排序的性能不受输入数据的影响，时间复杂度为$O(n\\log n)$,其需要额外的内存空间来存储数据。\n",
    "\n",
    "- 申请空间，来存放合并后的序列\n",
    "- 设定两个指针，最初位置分别为两个已经排序序列的起始位置\n",
    "- 比较两个指针所指向的元素，选择相对小的元素放入到合并空间，并移动到下一个位置\n",
    "- 重复步骤3直到某一指针到达序列尾\n",
    "- 将另一个序列剩下的所有元素直接复制到合并序列尾"
   ]
  },
  {
   "cell_type": "code",
   "execution_count": 7,
   "metadata": {},
   "outputs": [],
   "source": [
    "def mergeSort(nums):\n",
    "    if(len(nums)<2):\n",
    "        return nums\n",
    "    middle = len(nums)//2\n",
    "    left = mergeSort(nums[0:middle])\n",
    "    right = mergeSort(nums[middle,:])\n",
    "    ans = []\n",
    "    while left and right:\n",
    "        if left[0]<=right[0]:\n",
    "            ans.append(left.pop(0))\n",
    "        else:\n",
    "            ans.append(right.pop(0))\n",
    "    while left:\n",
    "        ans.append(left.pop(0))\n",
    "    while right:\n",
    "        ans.append(right.pop(0))\n",
    "    return ans "
   ]
  },
  {
   "cell_type": "markdown",
   "metadata": {},
   "source": [
    "### 快速排序"
   ]
  },
  {
   "cell_type": "markdown",
   "metadata": {},
   "source": [
    "快速排序是利用分治思想的算法，本质上来看，是在冒泡排序基础上的递归分治法。快速排序的最坏运行情况为$O(n^2)$,比如说顺序序列的块排。快排的平均期望时间是$O(n\\log n)$，且$O(n\\log n)$中隐含的常熟因子很小，比复杂度稳定等于$O(n\\log n)$的归并排序要小很多。所以，对绝大多数顺序性较弱的随机数而言，快排总是优于归并排序。\n",
    "\n",
    "- 从数列中挑出一个元素，称为\"基准\"\n",
    "- 重新排序数列，所有元素比基准小的摆放在基准前面，所有元素比基准大的摆在基准的后面（相同的可以放到任一边）。在这个分区退出之后，该基准就处于数列的中间位置，这个称为分区操作\n",
    "- 递归的把小于基准值元素的子数列和大于基准值元素的自数列排序"
   ]
  },
  {
   "cell_type": "code",
   "execution_count": 8,
   "metadata": {},
   "outputs": [],
   "source": [
    "def quickSort(nums, left = None, right = None):\n",
    "    left = 0 if not isinstance(left, (int,float)) else left\n",
    "    right = len(nums)-1 if not isinstance(right,(int,float)) else right\n",
    "    if left < right:\n",
    "        pivot = left\n",
    "        index = pivot+1\n",
    "        i = index\n",
    "        while i<= right:\n",
    "            if nums[i]<arr[pivot]:\n",
    "                temp = nums[index]\n",
    "                nums[index] = nums[i]\n",
    "                num[i] = temp\n",
    "                index+=1\n",
    "            i+=1\n",
    "        temp = nums[pivot]\n",
    "        nums[pivot] = nums[index-1]\n",
    "        nums[index-1] = temp\n",
    "        quickSort(nums,left,index-1)\n",
    "        quickSort(nums,index,right)\n",
    "    return nums\n",
    "    "
   ]
  },
  {
   "cell_type": "markdown",
   "metadata": {},
   "source": [
    "### 堆排序"
   ]
  },
  {
   "cell_type": "markdown",
   "metadata": {},
   "source": [
    "堆排序是指利用堆这一数据结构设计的排序算法，堆是一个近似于完全二叉树的结构，并同时满足堆的性质：子结点的键值总是小于或者大于它的父结点。分为两种方法：\n",
    "- 大顶堆： 每个节点的值都大于或等于其子节点的值，在堆排序中用于升序排列\n",
    "- 小顶堆： 每个节点的值都小于或等于其子节点的值，在堆排序中用于降序排列\n",
    "\n",
    "算法步骤如下：\n",
    "- 创建一个堆\n",
    "- 把堆首（最大值）和堆尾互换\n",
    "- 把堆的尺寸缩小1，并调用shift_down(0),目的是把新的数组顶端数据调整到相应位置\n",
    "- 重复步骤2，直到堆的尺寸为1"
   ]
  },
  {
   "cell_type": "code",
   "execution_count": 10,
   "metadata": {},
   "outputs": [],
   "source": [
    "def heapify(nums,n,i):\n",
    "    largest = i\n",
    "    left = 2 * i + 1\n",
    "    right = 2 * i + 2\n",
    "    if (left<n and nums[left]>nums[largest]):\n",
    "        largest = left\n",
    "    if (right<n and arr[right] > nums[largest]):\n",
    "        largest = right\n",
    "    if(largest != i):\n",
    "        swap(nums,i,largest)\n",
    "        heapify(nums,n,largest)\n",
    "\n",
    "    \n",
    "def swap(nums,i,j):\n",
    "    temp = nums[i]\n",
    "    nums[i] = nums[j]\n",
    "    nums[j] = temp\n",
    "\n",
    "def heapSort(nums):\n",
    "    n = len(nums)\n",
    "    for i in range(n//2,-1,-1):\n",
    "        heapipy(nums,n,i)\n",
    "    \n",
    "    for i in range(n-1,0,-1):\n",
    "        swap(nums,0,i)\n",
    "        heapify(arr,i,0)"
   ]
  },
  {
   "cell_type": "markdown",
   "metadata": {},
   "source": [
    "### 计数排序"
   ]
  },
  {
   "cell_type": "code",
   "execution_count": null,
   "metadata": {},
   "outputs": [],
   "source": []
  },
  {
   "cell_type": "code",
   "execution_count": null,
   "metadata": {},
   "outputs": [],
   "source": []
  },
  {
   "cell_type": "markdown",
   "metadata": {},
   "source": [
    "### 桶排序"
   ]
  },
  {
   "cell_type": "code",
   "execution_count": null,
   "metadata": {},
   "outputs": [],
   "source": []
  },
  {
   "cell_type": "code",
   "execution_count": null,
   "metadata": {},
   "outputs": [],
   "source": []
  },
  {
   "cell_type": "markdown",
   "metadata": {},
   "source": [
    "### 基数排序"
   ]
  },
  {
   "cell_type": "code",
   "execution_count": null,
   "metadata": {},
   "outputs": [],
   "source": []
  },
  {
   "cell_type": "code",
   "execution_count": null,
   "metadata": {},
   "outputs": [],
   "source": []
  }
 ],
 "metadata": {
  "kernelspec": {
   "display_name": "Python 3",
   "language": "python",
   "name": "python3"
  },
  "language_info": {
   "codemirror_mode": {
    "name": "ipython",
    "version": 3
   },
   "file_extension": ".py",
   "mimetype": "text/x-python",
   "name": "python",
   "nbconvert_exporter": "python",
   "pygments_lexer": "ipython3",
   "version": "3.7.4"
  }
 },
 "nbformat": 4,
 "nbformat_minor": 2
}
