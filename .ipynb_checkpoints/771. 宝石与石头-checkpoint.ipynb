{
 "cells": [
  {
   "cell_type": "markdown",
   "metadata": {},
   "source": [
    "### 问题描述"
   ]
  },
  {
   "cell_type": "markdown",
   "metadata": {},
   "source": [
    "给定字符串$J$代表石头中宝石的类型，字符串$S$代表拥有的石头。$S$中每个字符代表了一种你拥有的石头的类型，你想知道你拥有的石头中有多少是宝石。$J$中的字母不重复，$J$和$S$中的所有字符都是字母。字母区分大小写。\n",
    "\n",
    "示例：\n",
    "\n",
    "> 输入： J=\"aA\", S=\"aAAbbbb\"\\\n",
    "  输出： 3\n",
    "  \n",
    "> 输入： J=\"z\", S=\"ZZ\"\\\n",
    "  输出： 0\n",
    "  \n",
    "注意： \n",
    "\n",
    "1) $S$和$J$最多含有50个字母\n",
    "\n",
    "2) $J$中的字符不重复"
   ]
  },
  {
   "cell_type": "markdown",
   "metadata": {},
   "source": [
    "### 分析"
   ]
  },
  {
   "cell_type": "markdown",
   "metadata": {},
   "source": [
    "暴力解法： 两层for循环，对于$J$中的每一个元素，遍历S,计算总共出现了几次。时间复杂度$O(N^2)$,空间复杂度$O(1)$"
   ]
  },
  {
   "cell_type": "code",
   "execution_count": 1,
   "metadata": {},
   "outputs": [],
   "source": [
    "class Solution:\n",
    "    def numJewelsInStones(self, J: str, S: str) -> int:\n",
    "        N_S = len(S)\n",
    "        ans = 0\n",
    "        for i in range(N_S):\n",
    "            if S[i] in J:\n",
    "                ans += 1\n",
    "        return ans"
   ]
  },
  {
   "cell_type": "markdown",
   "metadata": {},
   "source": [
    "可以通过构建哈希集合来解决，时间复杂度为$O(N)$,空间复杂度为$O(N)$"
   ]
  },
  {
   "cell_type": "code",
   "execution_count": 2,
   "metadata": {},
   "outputs": [],
   "source": [
    "class Solution:\n",
    "    def numJewelsInStones(self, J: str, S: str) -> int:\n",
    "        temp = set(J)\n",
    "        return sum(s in temp for s in S)"
   ]
  }
 ],
 "metadata": {
  "kernelspec": {
   "display_name": "Python 3",
   "language": "python",
   "name": "python3"
  },
  "language_info": {
   "codemirror_mode": {
    "name": "ipython",
    "version": 3
   },
   "file_extension": ".py",
   "mimetype": "text/x-python",
   "name": "python",
   "nbconvert_exporter": "python",
   "pygments_lexer": "ipython3",
   "version": "3.7.4"
  }
 },
 "nbformat": 4,
 "nbformat_minor": 2
}
