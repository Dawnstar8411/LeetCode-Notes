{
 "cells": [
  {
   "cell_type": "markdown",
   "metadata": {},
   "source": [
    "### 题目描述"
   ]
  },
  {
   "cell_type": "markdown",
   "metadata": {},
   "source": [
    "给定一个整数数组`nums`和一个目标值`target`，请你在该数组中找出和为目标值的那两个整数，并返回他们的数组下标。\n",
    "\n",
    "你可以假设每种输入只会对应一个答案。但是，数组中同一个元素不能使用两遍。"
   ]
  },
  {
   "cell_type": "markdown",
   "metadata": {},
   "source": [
    "### 题目分析"
   ]
  },
  {
   "cell_type": "markdown",
   "metadata": {},
   "source": [
    "暴力法两层循环可是解决，时间复杂度为$O(n^2)$。为减少时间复杂度，可采用空间换时间的策略，使用哈希表来进行查找。第一次循环构建哈希表，第二次循环可以直接查询`target-num[i]`在哈希表中的值。根据这个思路，可以进一步优化算法，只进行一次循环，同时构建哈希表与进行判断。注意，同一个元素不能使用两遍，因此先判断在添加。"
   ]
  },
  {
   "cell_type": "code",
   "execution_count": null,
   "metadata": {},
   "outputs": [],
   "source": [
    "class Solution:\n",
    "    def twoSum(self, nums: List[int], target: int) -> List[int]:\n",
    "        hashlist = dict()\n",
    "        for i in range(len(nums)):\n",
    "            if (target-nums[i]) in hashlist:\n",
    "                return [hashlist[target-nums[i]],i]\n",
    "            if nums[i] not in hashlist:\n",
    "                hashlist[nums[i]] = i"
   ]
  }
 ],
 "metadata": {
  "kernelspec": {
   "display_name": "Python 3",
   "language": "python",
   "name": "python3"
  },
  "language_info": {
   "codemirror_mode": {
    "name": "ipython",
    "version": 3
   },
   "file_extension": ".py",
   "mimetype": "text/x-python",
   "name": "python",
   "nbconvert_exporter": "python",
   "pygments_lexer": "ipython3",
   "version": "3.7.4"
  }
 },
 "nbformat": 4,
 "nbformat_minor": 2
}
