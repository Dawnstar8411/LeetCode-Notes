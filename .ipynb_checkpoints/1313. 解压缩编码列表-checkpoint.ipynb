{
 "cells": [
  {
   "cell_type": "markdown",
   "metadata": {},
   "source": [
    "### 问题描述"
   ]
  },
  {
   "cell_type": "markdown",
   "metadata": {},
   "source": [
    "给你一个以行程长度编码压缩的整数列表`nums`。考虑没对相邻的两个元素`[freq,val]=[num[2*i],nums[2*i+1]]`（其中$0\\leq i$）,每一对都表示解压后子列表有`freq`个值为val的元素，你需要从左到右连接所有子列表以生成解压后的列表。请你返回解压后的列表。\n",
    "\n",
    "示例：\n",
    "\n",
    "> 输入：nums = [1,2,3,4]\\\n",
    "  输出：[2,4,4,4]"
   ]
  },
  {
   "cell_type": "markdown",
   "metadata": {},
   "source": [
    "### 问题分析"
   ]
  },
  {
   "cell_type": "markdown",
   "metadata": {},
   "source": [
    "创建空列表A，遍历输入列表，依次取出相邻的一对点，在A中添加freq个val。时间复杂度：$O(N)$，空间复杂度：$O(N)$"
   ]
  },
  {
   "cell_type": "markdown",
   "metadata": {},
   "source": [
    "```\n",
    "class Solution:\n",
    "    def decompressRLElist(self, nums: List[int]) -> List[int]:\n",
    "        N = len(nums)\n",
    "        ans = []\n",
    "        for i in range(0, N, 2):\n",
    "            freq = nums[i]\n",
    "            val = nums[i+1]\n",
    "            for j in range(freq):\n",
    "                ans.append(val)\n",
    "        return ans\n",
    "```"
   ]
  }
 ],
 "metadata": {
  "kernelspec": {
   "display_name": "Python 3",
   "language": "python",
   "name": "python3"
  },
  "language_info": {
   "codemirror_mode": {
    "name": "ipython",
    "version": 3
   },
   "file_extension": ".py",
   "mimetype": "text/x-python",
   "name": "python",
   "nbconvert_exporter": "python",
   "pygments_lexer": "ipython3",
   "version": "3.7.4"
  }
 },
 "nbformat": 4,
 "nbformat_minor": 2
}
