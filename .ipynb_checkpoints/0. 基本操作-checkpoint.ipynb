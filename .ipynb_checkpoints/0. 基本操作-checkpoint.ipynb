{
 "cells": [
  {
   "cell_type": "markdown",
   "metadata": {},
   "source": [
    "### 时间复杂度"
   ]
  },
  {
   "cell_type": "markdown",
   "metadata": {},
   "source": [
    "一般情况下，算法中基本操作重复执行的次数是问题规模$n$的某个函数，用$T(n)$来表示。若有某个辅助函数$f(n)$,使得当$n$趋近于无穷大时，$T(n)/f(n)$的极限值为不等于零的常数，则称$f(n)$是$T(n)$的同量级函数，记作$T(n)=O(f(n))$,称$O(f(n))$为算法的时间复杂度。当$n$趋于正无穷时，$T(n)$的上界是$C*f(n)$,虽然对$f(n)$没有规定，但是一般都取尽可能简单的函数。大$O$符号里隐含着一个常数$C$,因此$f(n)$一般不加系数。"
   ]
  },
  {
   "cell_type": "markdown",
   "metadata": {},
   "source": [
    "**求解算法时间复杂度的具体步骤是**：\n",
    "\n",
    "1) 找出算法中的基本语句\n",
    "\n",
    "算法中执行次数最多的那条语句就是基本语句，通常是内层循环的循环体。\n",
    "\n",
    "2) 计算基本语句的执行次数的数量级\n",
    "\n",
    "只要保证基本语句执行次数的函数中的最高次幂正确即可。\n",
    "\n",
    "3) 用大$O$记号表示算法的时间性能\n",
    "\n",
    "将基本语句执行次数的数量级放入大$O$记号中。"
   ]
  },
  {
   "cell_type": "markdown",
   "metadata": {},
   "source": [
    "**按数量级递增排列，常见的时间复杂度有**:\n",
    "- 常数阶$O(1)$\n",
    "- 对数阶$O(\\log_2n)$\n",
    "- 线性阶$O(n)$\n",
    "- 线性对数阶$O(n\\log_2n)$\n",
    "- 平方阶$O(n^2)$\n",
    "- 立方阶$O(n^3)$\n",
    "- k次方阶$O(n^k)$\n",
    "- 指数阶$O(2^n)$\n",
    "- 阶乘阶$O(n!)$\n",
    "\n",
    "$O(1)$表示基本语句的执行次数和$n$无关，是一个常数，一般来说，只要算法中不存在循环语句，其时间复杂度就是$O(1)$。$O(\\log_2n),O(n),O(n\\log_2n),O(n^2),O(n^3)$称为多项式时间，这类问题称作P(Polynomial)类问题；$O(2^n),O(n!)$称为指数时间，这类问题称为NP(Non-Deterministic Polynomial)问题。有些问题没有多项式时间的解，但是可以在多项式时间里验证某个猜测是不是正确，可以在多项式时间内验证一个\"解\"是否正确，这类问题叫做NP问题。"
   ]
  },
  {
   "cell_type": "markdown",
   "metadata": {},
   "source": [
    "### 空间复杂度"
   ]
  },
  {
   "cell_type": "markdown",
   "metadata": {},
   "source": [
    "一个算法的空间复杂度$S(n)$定义为该算法所耗费的存储空间，其是问题规模n的函数。其描述的是一个算法在运行过程中临时占用存储空间的大小。"
   ]
  }
 ],
 "metadata": {
  "kernelspec": {
   "display_name": "Python 3",
   "language": "python",
   "name": "python3"
  },
  "language_info": {
   "codemirror_mode": {
    "name": "ipython",
    "version": 3
   },
   "file_extension": ".py",
   "mimetype": "text/x-python",
   "name": "python",
   "nbconvert_exporter": "python",
   "pygments_lexer": "ipython3",
   "version": "3.7.4"
  }
 },
 "nbformat": 4,
 "nbformat_minor": 2
}
