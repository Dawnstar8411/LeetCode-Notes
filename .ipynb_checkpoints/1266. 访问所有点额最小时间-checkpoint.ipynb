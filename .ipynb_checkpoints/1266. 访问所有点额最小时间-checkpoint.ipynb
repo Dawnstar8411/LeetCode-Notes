{
 "cells": [
  {
   "cell_type": "markdown",
   "metadata": {},
   "source": [
    "### 问题描述"
   ]
  },
  {
   "cell_type": "markdown",
   "metadata": {},
   "source": [
    "平面上有`n`个点，点的位置用整数坐标表示`points[i]=[xi,yi]`。请你计算访问所有这些点需要的最小时间。你可以按照下面的规则在平面上移动：\n",
    "\n",
    "- 每一秒沿水平或竖直方向移动一个单位长度，或者跨过对角线(可以看作在一秒内向水平和竖直方向个移动一个单位长度)。\n",
    "- 必须按照数组中出现的顺序来访问这些点。\n",
    "\n",
    "示例：\n",
    "\n",
    "> 输入： points=[[1,1],[3,4],[-1,0]]\\\n",
    "  输出： 7"
   ]
  },
  {
   "cell_type": "markdown",
   "metadata": {},
   "source": [
    "### 问题分析"
   ]
  },
  {
   "cell_type": "markdown",
   "metadata": {},
   "source": [
    "对于相邻的两个点`[x1,y1],[x2,y2]`,其移动的最小时间为`max(x2-x1,y2-y1)`。时间复杂度：$O(N)$，空间复杂度：$O(1)$"
   ]
  },
  {
   "cell_type": "code",
   "execution_count": 1,
   "metadata": {},
   "outputs": [],
   "source": [
    "class Solution:\n",
    "    def minTimeToVisitAllPoints(self, points) -> int:\n",
    "        N = len(points)\n",
    "        ans = 0\n",
    "        for i in range(N-1):\n",
    "            ans += max(abs(points[i][0]-points[i+1][0]),abs(points[i][1]-points[i+1][1]))\n",
    "        return ans"
   ]
  }
 ],
 "metadata": {
  "kernelspec": {
   "display_name": "Python 3",
   "language": "python",
   "name": "python3"
  },
  "language_info": {
   "codemirror_mode": {
    "name": "ipython",
    "version": 3
   },
   "file_extension": ".py",
   "mimetype": "text/x-python",
   "name": "python",
   "nbconvert_exporter": "python",
   "pygments_lexer": "ipython3",
   "version": "3.7.4"
  }
 },
 "nbformat": 4,
 "nbformat_minor": 2
}
