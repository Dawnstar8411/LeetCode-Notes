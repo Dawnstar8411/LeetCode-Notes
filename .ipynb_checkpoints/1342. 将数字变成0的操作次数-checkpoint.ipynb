{
 "cells": [
  {
   "cell_type": "markdown",
   "metadata": {},
   "source": [
    "### 问题描述"
   ]
  },
  {
   "cell_type": "markdown",
   "metadata": {},
   "source": [
    "给你一个非负整数`num`，请你返回将它变成0所需要的步数。如果当前数字是偶数，你需要把它除以2；否则，减去1\n",
    "\n",
    "示例：\n",
    "\n",
    "> 输入：num=14\\\n",
    "  输出：6"
   ]
  },
  {
   "cell_type": "markdown",
   "metadata": {},
   "source": [
    "### 问题分析"
   ]
  },
  {
   "cell_type": "markdown",
   "metadata": {},
   "source": [
    "按顺序操作，记录步数即可。时间复杂度：$O(N)$,空间复杂度：$O(1)$"
   ]
  },
  {
   "cell_type": "code",
   "execution_count": 1,
   "metadata": {},
   "outputs": [],
   "source": [
    "class Solution:\n",
    "    def numberOfSteps (self, num: int) -> int:\n",
    "        count = 0\n",
    "        while num:\n",
    "            if num % 2 == 0:\n",
    "                num = num // 2\n",
    "                count += 1\n",
    "            else:\n",
    "                num = num -1\n",
    "                count += 1\n",
    "        return count"
   ]
  }
 ],
 "metadata": {
  "kernelspec": {
   "display_name": "Python 3",
   "language": "python",
   "name": "python3"
  },
  "language_info": {
   "codemirror_mode": {
    "name": "ipython",
    "version": 3
   },
   "file_extension": ".py",
   "mimetype": "text/x-python",
   "name": "python",
   "nbconvert_exporter": "python",
   "pygments_lexer": "ipython3",
   "version": "3.7.4"
  }
 },
 "nbformat": 4,
 "nbformat_minor": 2
}
