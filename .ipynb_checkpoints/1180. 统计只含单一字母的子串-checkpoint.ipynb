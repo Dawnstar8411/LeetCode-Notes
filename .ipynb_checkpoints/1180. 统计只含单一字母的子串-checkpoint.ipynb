{
 "cells": [
  {
   "cell_type": "markdown",
   "metadata": {},
   "source": [
    "### 问题描述"
   ]
  },
  {
   "cell_type": "markdown",
   "metadata": {},
   "source": [
    "给你一个字符串`S`，返回只含单一字母的子串个数。\n",
    "\n",
    "示例：\n",
    "\n",
    "> 输入：\"aaaba\"\\\n",
    "  输出：8\n",
    " \n",
    "提示：\n",
    "\n",
    "1）$1\\leq S.length \\leq 1000$\n",
    "\n",
    "2）$S[i]$仅由小写英文字母组成"
   ]
  },
  {
   "cell_type": "markdown",
   "metadata": {},
   "source": [
    "### 问题分析"
   ]
  },
  {
   "cell_type": "markdown",
   "metadata": {},
   "source": [
    "从头开始遍历字符串，找最长的单字母串，求其长度，该字母串所包含的子串为其长度的阶乘。注意最后的结束条件后，也要计算一次。时间复杂度$O(N)$,空间复杂度$O(1)$。"
   ]
  },
  {
   "cell_type": "code",
   "execution_count": 1,
   "metadata": {},
   "outputs": [],
   "source": [
    "class Solution:\n",
    "    def countLetters(self, S: str) -> int:\n",
    "        temp = S[0]\n",
    "        ans = 0\n",
    "        N = len(S)\n",
    "        current = 0\n",
    "        for i in range(N):\n",
    "            if S[i] == temp:\n",
    "                current += 1\n",
    "            else:\n",
    "                temp = S[i]\n",
    "                ans += 0.5 * current * (current+1)\n",
    "                current = 1\n",
    "        ans += 0.5 * current * (current+1)\n",
    "        return int(ans)"
   ]
  }
 ],
 "metadata": {
  "kernelspec": {
   "display_name": "Python 3",
   "language": "python",
   "name": "python3"
  },
  "language_info": {
   "codemirror_mode": {
    "name": "ipython",
    "version": 3
   },
   "file_extension": ".py",
   "mimetype": "text/x-python",
   "name": "python",
   "nbconvert_exporter": "python",
   "pygments_lexer": "ipython3",
   "version": "3.7.4"
  }
 },
 "nbformat": 4,
 "nbformat_minor": 2
}
