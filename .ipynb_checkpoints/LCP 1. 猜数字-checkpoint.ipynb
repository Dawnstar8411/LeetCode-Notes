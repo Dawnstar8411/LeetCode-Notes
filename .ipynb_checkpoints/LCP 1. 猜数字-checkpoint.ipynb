{
 "cells": [
  {
   "cell_type": "markdown",
   "metadata": {},
   "source": [
    "### 题目描述"
   ]
  },
  {
   "cell_type": "markdown",
   "metadata": {},
   "source": [
    "小红和小明在玩猜数字。小明每次从1、2、3中随机选择一个，小红每次也从1、2、3中随机选择一个猜。他们一共进行三次这个游戏，请返回小红猜对了几次。输入的guess数组为小红每次的猜测，answer数组为小明每次的选择。guess和answer的长度都等于3。\n",
    "\n",
    "示例1：\n",
    "\n",
    "> 输入： guess = [1,2,3], answer = [1,2,3]\\\n",
    "  输出： 3\n",
    "  \n",
    "> 输入： guess = [2,2,3], answer = [3,2,1]\\\n",
    "  输出： 1"
   ]
  },
  {
   "cell_type": "markdown",
   "metadata": {},
   "source": [
    "### 题目分析"
   ]
  },
  {
   "cell_type": "markdown",
   "metadata": {},
   "source": [
    "for循环一次判断对应元素是否相等，时间复杂度$O(N)$,空间复杂度$O(1)$"
   ]
  },
  {
   "cell_type": "code",
   "execution_count": 1,
   "metadata": {},
   "outputs": [],
   "source": [
    "class Solution:\n",
    "    def game(self, guess, answer) -> int:\n",
    "        ans = 0\n",
    "        for i in range(3):\n",
    "            if guess[i] == answer[i]:\n",
    "                ans += 1\n",
    "        return ans"
   ]
  }
 ],
 "metadata": {
  "kernelspec": {
   "display_name": "Python 3",
   "language": "python",
   "name": "python3"
  },
  "language_info": {
   "codemirror_mode": {
    "name": "ipython",
    "version": 3
   },
   "file_extension": ".py",
   "mimetype": "text/x-python",
   "name": "python",
   "nbconvert_exporter": "python",
   "pygments_lexer": "ipython3",
   "version": "3.7.4"
  }
 },
 "nbformat": 4,
 "nbformat_minor": 2
}
