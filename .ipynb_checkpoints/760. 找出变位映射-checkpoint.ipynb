{
 "cells": [
  {
   "cell_type": "markdown",
   "metadata": {},
   "source": [
    "### 问题描述"
   ]
  },
  {
   "cell_type": "markdown",
   "metadata": {},
   "source": [
    "给定两个列表A和B, 并且A是B的变位（即B是由A中的元素随机排列后组成的新列表）。我们希望找出一个从A到B的索引映射P。一个映射$P[i]=j$指的是列表A中的第i个元素出现于列表B的第j个元素上。列表A和B可能出现重复元素。如果有多于一种答案，输出任意一种。\n",
    "\n",
    "例如，给定\n",
    "\n",
    "> A = [12,28,46,32,50] \\\n",
    "B = [50,12,32,46,28]\n",
    "\n",
    "需要返回\n",
    "\n",
    "> [1,4,3,2,0]\n",
    "\n",
    "注：\n",
    "\n",
    "1）A，B有相同的长度，范围为[1,100]\n",
    "\n",
    "2)A[i],b[i]都是范围在[0,10^5]的整数"
   ]
  },
  {
   "cell_type": "markdown",
   "metadata": {},
   "source": [
    "### 分析"
   ]
  },
  {
   "cell_type": "markdown",
   "metadata": {},
   "source": [
    "列表题，考察列表的基本操作\n",
    "\n",
    "暴力解法，对A中的每一个元素，在B中按顺序搜索，寻找与其相等的数字的索引;遍历完A之后，可得到索引构成的列表。时间复杂度$O(N^2)$,空间复杂度$O(N)$"
   ]
  },
  {
   "cell_type": "markdown",
   "metadata": {},
   "source": [
    "```\n",
    "class Solution:\n",
    "    def anagramMappings(self, A: List[int], B: List[int]) -> List[int]:\n",
    "        N = len(B)\n",
    "        ans = [0] * N\n",
    "        for i in range(N):\n",
    "            for j in range(N):\n",
    "                if A[i] == B[j]:\n",
    "                    ans[i] = j\n",
    "        return ans\n",
    "```"
   ]
  },
  {
   "cell_type": "markdown",
   "metadata": {},
   "source": [
    "考虑到**列表+索引**相关的题目，使用哈希表是一个很好的选择。构建字典，将B中的值作为哈希表的键值，将B中值的下标作为哈希表的值，正好和列表反过来。然后对于A中的每一个元素，直接去表中按key值查找即可。这样B循环一遍，A循环一遍，时间复杂度为$O(N)$,空间复杂度为$O(N)$。"
   ]
  },
  {
   "cell_type": "markdown",
   "metadata": {},
   "source": [
    "```\n",
    "class Solution:\n",
    "    def anagramMappings(self, A: List[int], B: List[int]) -> List[int]:\n",
    "        D = {y:x for x,y in enumerate(B)}\n",
    "        return[D[x] for x in A]   \n",
    "```"
   ]
  }
 ],
 "metadata": {
  "kernelspec": {
   "display_name": "Python 3",
   "language": "python",
   "name": "python3"
  },
  "language_info": {
   "codemirror_mode": {
    "name": "ipython",
    "version": 3
   },
   "file_extension": ".py",
   "mimetype": "text/x-python",
   "name": "python",
   "nbconvert_exporter": "python",
   "pygments_lexer": "ipython3",
   "version": "3.7.4"
  }
 },
 "nbformat": 4,
 "nbformat_minor": 2
}
