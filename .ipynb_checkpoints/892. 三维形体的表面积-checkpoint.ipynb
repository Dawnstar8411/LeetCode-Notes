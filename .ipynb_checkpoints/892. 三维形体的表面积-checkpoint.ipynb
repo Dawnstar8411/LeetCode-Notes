{
 "cells": [
  {
   "cell_type": "markdown",
   "metadata": {},
   "source": [
    "### 题目描述"
   ]
  },
  {
   "cell_type": "markdown",
   "metadata": {},
   "source": [
    "在$N*N$的网格上，我们放置一些$1*1*1$的立方体。每个值$v=grid[i][j]$表示$v$个立方体叠放在对应单元格$(i,j)$上。请返回最终形体的表面积。\n",
    "\n",
    "示例：\n",
    "\n",
    "> 输入：[[2]]\\\n",
    "  输出：10\n",
    "  \n",
    "> 输入：[[1,2],[3,4]]\\\n",
    "  输出：34\n",
    "  \n",
    "提示：\n",
    "\n",
    "1）$1\\leq N \\leq 50$\n",
    "\n",
    "2) $0 \\leq grid[i][j] \\leq 50$"
   ]
  },
  {
   "cell_type": "markdown",
   "metadata": {},
   "source": [
    "### 题目分析"
   ]
  },
  {
   "cell_type": "markdown",
   "metadata": {},
   "source": [
    "对于网格中的每一个位置，分别计算该位置叠放的立方体的表面积。当一个格子上存在立方体时，肯定有底部和顶部，所以固定的会有2。对于每个位置，要判断上下左右四个相邻的格子，当相邻的位置的立方体数量比该处少时，侧面才会有表面积，表面积即为两个位置的立方体的个数之差。"
   ]
  },
  {
   "cell_type": "code",
   "execution_count": 1,
   "metadata": {},
   "outputs": [],
   "source": [
    "class Solution:\n",
    "    def surfaceArea(self, grid) -> int:\n",
    "        N = len(grid)\n",
    "        ans = 0\n",
    "        for r in range(N):\n",
    "            for c in range(N):\n",
    "                if grid[r][c]:\n",
    "                    ans += 2\n",
    "                    for rr,cc in ((r+1,c),(r-1,c),(r,c+1),(r,c-1)):\n",
    "                        if 0<=rr<N and 0<=cc<N:\n",
    "                            val = grid[rr][cc]\n",
    "                        else:\n",
    "                            val = 0\n",
    "                        ans+= max(0,grid[r][c]-val)\n",
    "        return ans"
   ]
  }
 ],
 "metadata": {
  "kernelspec": {
   "display_name": "Python 3",
   "language": "python",
   "name": "python3"
  },
  "language_info": {
   "codemirror_mode": {
    "name": "ipython",
    "version": 3
   },
   "file_extension": ".py",
   "mimetype": "text/x-python",
   "name": "python",
   "nbconvert_exporter": "python",
   "pygments_lexer": "ipython3",
   "version": "3.7.4"
  }
 },
 "nbformat": 4,
 "nbformat_minor": 2
}
