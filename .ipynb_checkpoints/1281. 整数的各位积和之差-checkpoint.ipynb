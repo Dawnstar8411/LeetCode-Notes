{
 "cells": [
  {
   "cell_type": "markdown",
   "metadata": {},
   "source": [
    "### 问题描述"
   ]
  },
  {
   "cell_type": "markdown",
   "metadata": {},
   "source": [
    "给你一个整数$n$，请你帮忙计算并返回整数**各位数字之积**与**各位数字之和**的差。\n",
    "\n",
    "实例：\n",
    "\n",
    "> 输入: n = 234\\\n",
    "  输出: 15\n",
    "  \n",
    "> 输入: n = 4221\\\n",
    "  输出: 21\n",
    "\n",
    "提示：\n",
    "\n",
    "$1\\leq n \\leq 10^5$"
   ]
  },
  {
   "cell_type": "markdown",
   "metadata": {},
   "source": [
    "### 问题分析"
   ]
  },
  {
   "cell_type": "markdown",
   "metadata": {},
   "source": [
    "考察如何利用除10法和取余法获得整数的各位数字，时间复杂度$O(N)$，空间复杂度$O(1)$。 注意：乘积的初始化值为1"
   ]
  },
  {
   "cell_type": "code",
   "execution_count": 1,
   "metadata": {},
   "outputs": [],
   "source": [
    "class Solution:\n",
    "    def subtractProductAndSum(self, n: int) -> int:\n",
    "        mul = 1\n",
    "        sumary = 0\n",
    "        while n:\n",
    "            mul *= n % 10\n",
    "            sumary += n % 10\n",
    "            n = n // 10\n",
    "        return mul-sumary"
   ]
  }
 ],
 "metadata": {
  "kernelspec": {
   "display_name": "Python 3",
   "language": "python",
   "name": "python3"
  },
  "language_info": {
   "codemirror_mode": {
    "name": "ipython",
    "version": 3
   },
   "file_extension": ".py",
   "mimetype": "text/x-python",
   "name": "python",
   "nbconvert_exporter": "python",
   "pygments_lexer": "ipython3",
   "version": "3.7.4"
  }
 },
 "nbformat": 4,
 "nbformat_minor": 2
}
