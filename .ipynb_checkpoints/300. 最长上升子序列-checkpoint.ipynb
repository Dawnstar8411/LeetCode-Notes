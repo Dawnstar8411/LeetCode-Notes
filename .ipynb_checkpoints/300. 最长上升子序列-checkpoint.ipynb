{
 "cells": [
  {
   "cell_type": "markdown",
   "metadata": {},
   "source": [
    "### 题目描述"
   ]
  },
  {
   "cell_type": "markdown",
   "metadata": {},
   "source": [
    "给定一个无序的整数数组，找到其中最长上升子序列的长度。"
   ]
  },
  {
   "cell_type": "markdown",
   "metadata": {},
   "source": [
    "### 题目分析"
   ]
  },
  {
   "cell_type": "markdown",
   "metadata": {},
   "source": [
    "方法一：\n",
    "\n",
    "利用动态规划来解。首先确定`dp数组`。对于输入的数组`nums`，`dp[i]`的值代表的是以`nums[i]`的数字结尾的序列中的最长上升子序列的长度。当知道`dp[i]`的值以后，通过比较`nums[i+1]`的值与前面的值的大小，找到比它小的值`nums[k]`,取`dp[k]+1`便是新增的子序列的长度，在所有的情况中找到最大的即可。`dp[i]`的初始值都为1，因为每个数字本身是一个长度为1的上升子序列。时间复杂度$O(n^2)$，空间复杂度$O(n)$。"
   ]
  },
  {
   "cell_type": "markdown",
   "metadata": {},
   "source": [
    "```\n",
    "class Solution:\n",
    "    def lengthOfLIS(self, nums: List[int]) -> int:\n",
    "        dp = [1] * len(nums)\n",
    "        for i in range(1,len(nums)):\n",
    "            for j in range(i):\n",
    "                if nums[i]<=nums[j]:\n",
    "                    continue\n",
    "                dp[i] = max(dp[i], dp[j]+1)\n",
    "        if dp: return max(dp)\n",
    "        else: return 0\n",
    "```"
   ]
  },
  {
   "cell_type": "markdown",
   "metadata": {},
   "source": [
    "方法二：\n",
    "\n",
    "https://labuladong.gitbook.io/algo/dong-tai-gui-hua-xi-lie/dong-tai-gui-hua-she-ji-zui-chang-di-zeng-zi-xu-lie\n",
    "这是利用扑克牌排序来理解的算法，其中用到了二分查找，所以时间复杂度为$O(n\\log n)$"
   ]
  },
  {
   "cell_type": "markdown",
   "metadata": {},
   "source": [
    "```\n",
    "class Solution:\n",
    "    def lengthOfLIS(self, nums: List[int]) -> int:\n",
    "        top = [0] * len(nums)  # 每个堆的最上端的poker数字\n",
    "        piles = 0   # 有多少个堆\n",
    "        for i in range(len(nums)):\n",
    "            poker = nums[i]\n",
    "            left = 0\n",
    "            right = piles\n",
    "            while(left < right):\n",
    "                mid = (left+right)//2\n",
    "                if poker<top[mid]:\n",
    "                    right = mid\n",
    "                elif poker>top[mid]:\n",
    "                    left = mid+1\n",
    "                else:\n",
    "                    right = mid\n",
    "            if left == piles:\n",
    "                piles += 1        \n",
    "            top[left] = poker\n",
    "\n",
    "        return piles\n",
    "```"
   ]
  }
 ],
 "metadata": {
  "kernelspec": {
   "display_name": "Python 3",
   "language": "python",
   "name": "python3"
  },
  "language_info": {
   "codemirror_mode": {
    "name": "ipython",
    "version": 3
   },
   "file_extension": ".py",
   "mimetype": "text/x-python",
   "name": "python",
   "nbconvert_exporter": "python",
   "pygments_lexer": "ipython3",
   "version": "3.7.4"
  }
 },
 "nbformat": 4,
 "nbformat_minor": 2
}
