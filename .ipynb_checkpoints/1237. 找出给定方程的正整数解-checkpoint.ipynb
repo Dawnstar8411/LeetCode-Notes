{
 "cells": [
  {
   "cell_type": "markdown",
   "metadata": {},
   "source": [
    "### 题目描述"
   ]
  },
  {
   "cell_type": "markdown",
   "metadata": {},
   "source": [
    "给出一个函数`f(x,y)`和一个目标结果`z`，请你计算方程`f(x,y)==z`所有可能的正整数对`x`和`y`。给定函数是严格单调的，即:\n",
    "- f(x,y)<f(x+1,y)\n",
    "- f(x,y)<f(x,y+1)\n",
    "\n",
    "输入为函数编号`function_id`和一个目标结果`z`。可以将满足条件的结果数对按任意顺序返回。\n",
    "\n",
    "- $1\\leq function\\_id \\leq 9$\n",
    "- $1\\leq z \\leq 100$\n",
    "- $1\\leq x,y \\leq 1000$\n",
    "- 题目保证`f(x,y)`是一个32位有符号整数"
   ]
  },
  {
   "cell_type": "markdown",
   "metadata": {},
   "source": [
    "### 题目分析"
   ]
  },
  {
   "cell_type": "markdown",
   "metadata": {},
   "source": [
    "为了减少搜索范围，可以利用函数的严格单调特性以及函数的整数特性，将`x,y`的搜索范围控制在`z`以内。\n",
    "\n",
    "假设$f(0,y)=0$,则$f(1,y)>f(0,y)=0$,进一步有$f(1,y)\\geq 1 $。 随着x的增大，有$f(z,y)\\geq z$,同理$f(x,z)\\geq z$, x和y的取值都不会大于z"
   ]
  },
  {
   "cell_type": "markdown",
   "metadata": {},
   "source": [
    "```\n",
    "\"\"\"\n",
    "   This is the custom function interface.\n",
    "   You should not implement it, or speculate about its implementation\n",
    "   class CustomFunction:\n",
    "       # Returns f(x, y) for any given positive integers x and y.\n",
    "       # Note that f(x, y) is increasing with respect to both x and y.\n",
    "       # i.e. f(x, y) < f(x + 1, y), f(x, y) < f(x, y + 1)\n",
    "       def f(self, x, y):\n",
    "  \n",
    "\"\"\"\n",
    "\n",
    "class Solution:\n",
    "    def findSolution(self, customfunction: 'CustomFunction', z: int) -> List[List[int]]:\n",
    "        ans = []\n",
    "        for x in range(1,z+1):\n",
    "            for y in range(1,z+1):\n",
    "                if customfunction.f(x,y) == z:\n",
    "                    ans.append([x,y])\n",
    "        return ans\n",
    "```"
   ]
  }
 ],
 "metadata": {
  "kernelspec": {
   "display_name": "Python 3",
   "language": "python",
   "name": "python3"
  },
  "language_info": {
   "codemirror_mode": {
    "name": "ipython",
    "version": 3
   },
   "file_extension": ".py",
   "mimetype": "text/x-python",
   "name": "python",
   "nbconvert_exporter": "python",
   "pygments_lexer": "ipython3",
   "version": "3.7.4"
  }
 },
 "nbformat": 4,
 "nbformat_minor": 2
}
