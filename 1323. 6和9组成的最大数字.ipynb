{
 "cells": [
  {
   "cell_type": "markdown",
   "metadata": {},
   "source": [
    "### 问题描述"
   ]
  },
  {
   "cell_type": "markdown",
   "metadata": {},
   "source": [
    "给你一个仅有数字6和9组成的正整数`num`。你最多只能翻转一位数字，将6变成9，或者把9变成6。请返回你可以得到的最大数字。"
   ]
  },
  {
   "cell_type": "markdown",
   "metadata": {},
   "source": [
    "### 问题分析"
   ]
  },
  {
   "cell_type": "markdown",
   "metadata": {},
   "source": [
    "将最高位的6变成9即可。注意有全都是9，不需要替换的情况。"
   ]
  },
  {
   "cell_type": "markdown",
   "metadata": {},
   "source": [
    "```\n",
    "class Solution:\n",
    "    def maximum69Number (self, num: int) -> int:\n",
    "        ans = num\n",
    "        index = -1\n",
    "        count = 0\n",
    "        while num:\n",
    "            if num % 10 == 6:\n",
    "                index = count\n",
    "            num = num // 10\n",
    "            count += 1\n",
    "        if index >=0:\n",
    "            ans += 3*(10**index)\n",
    "        return ans\n",
    "```"
   ]
  }
 ],
 "metadata": {
  "kernelspec": {
   "display_name": "Python 3",
   "language": "python",
   "name": "python3"
  },
  "language_info": {
   "codemirror_mode": {
    "name": "ipython",
    "version": 3
   },
   "file_extension": ".py",
   "mimetype": "text/x-python",
   "name": "python",
   "nbconvert_exporter": "python",
   "pygments_lexer": "ipython3",
   "version": "3.7.4"
  }
 },
 "nbformat": 4,
 "nbformat_minor": 2
}
