{
 "cells": [
  {
   "cell_type": "markdown",
   "metadata": {},
   "source": [
    "### 题目描述"
   ]
  },
  {
   "cell_type": "markdown",
   "metadata": {},
   "source": [
    "给你一个 m x n 的矩阵，其中的值均为非负整数，代表二维高度图每个单元的高度，请计算图中形状最多能接多少体积的雨水。"
   ]
  },
  {
   "cell_type": "markdown",
   "metadata": {},
   "source": [
    "### 题目分析"
   ]
  },
  {
   "cell_type": "markdown",
   "metadata": {},
   "source": [
    "这是接雨水I的扩展，对于某个位置可以接多少水，取决于其四周的墙的大小。首选初始化矩阵的最外圈为墙，然后通过不断缩小墙的方式累加接到的雨水。这里使用了最小堆的结构。"
   ]
  },
  {
   "cell_type": "code",
   "execution_count": null,
   "metadata": {},
   "outputs": [],
   "source": [
    "import heapq\n",
    "class Solution:\n",
    "    def trapRainWater(self, heightMap: List[List[int]]) -> int:\n",
    "        if heightMap is None or len(heightMap)<=2 or len(heightMap[0])<=2:\n",
    "            return 0\n",
    "        \n",
    "        ans = 0\n",
    "        m,n = len(heightMap),len(heightMap[0])\n",
    "        heap = []\n",
    "        visited = set()\n",
    "        directions = [(1,0),(-1,0),(0,1),(0,-1)]\n",
    "\n",
    "        for i in range(m):\n",
    "            for j in range(n):\n",
    "                if i ==0 or i== m-1 or j==0 or j== n-1:\n",
    "                    heapq.heappush(heap,(heightMap[i][j],i,j))\n",
    "                    visited.add((i,j))\n",
    "        while heap:\n",
    "            temp = heapq.heappop(heap)\n",
    "\n",
    "            for(x,y) in directions:\n",
    "                next_x = temp[1]+x\n",
    "                next_y = temp[2]+y\n",
    "                if next_x >=0 and next_x <m and next_y >=0 and next_y <n and (next_x,next_y) not in visited:\n",
    "                    ans += max(0, temp[0]-heightMap[next_x][next_y])\n",
    "                    heapq.heappush(heap,(max(temp[0],heightMap[next_x][next_y]),next_x,next_y))\n",
    "                    visited.add((next_x,next_y))\n",
    "        return ans"
   ]
  }
 ],
 "metadata": {
  "kernelspec": {
   "display_name": "Python 3",
   "language": "python",
   "name": "python3"
  },
  "language_info": {
   "codemirror_mode": {
    "name": "ipython",
    "version": 3
   },
   "file_extension": ".py",
   "mimetype": "text/x-python",
   "name": "python",
   "nbconvert_exporter": "python",
   "pygments_lexer": "ipython3",
   "version": "3.7.4"
  }
 },
 "nbformat": 4,
 "nbformat_minor": 2
}
