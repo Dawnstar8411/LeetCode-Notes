{
 "cells": [
  {
   "cell_type": "markdown",
   "metadata": {},
   "source": [
    "### 题目描述"
   ]
  },
  {
   "cell_type": "markdown",
   "metadata": {},
   "source": [
    "给定 n 个非负整数表示每个宽度为 1 的柱子的高度图，计算按此排列的柱子，下雨之后能接多少雨水。"
   ]
  },
  {
   "cell_type": "markdown",
   "metadata": {},
   "source": [
    "### 题目分析"
   ]
  },
  {
   "cell_type": "markdown",
   "metadata": {},
   "source": [
    "有三种解法： 暴力法，备忘录法，双指针法。参考链接 https://labuladong.gitbook.io/algo/gao-pin-mian-shi-xi-lie/jie-yu-shui"
   ]
  },
  {
   "cell_type": "code",
   "execution_count": 2,
   "metadata": {},
   "outputs": [],
   "source": [
    "class Solution:\n",
    "    def trap(self, height) -> int:\n",
    "        n = len(height)\n",
    "        if n == 0:\n",
    "            return 0\n",
    "        ans = 0\n",
    "        left = 0\n",
    "        right = n-1\n",
    "        l_max = height[0]\n",
    "        r_max = height[n-1]\n",
    "        while left<right:\n",
    "            l_max = max(l_max,height[left])\n",
    "            r_max = max(r_max,height[right])\n",
    "\n",
    "            if l_max < r_max:\n",
    "                ans += (l_max - height[left])\n",
    "                left+=1\n",
    "            else:\n",
    "                ans += (r_max-height[right])\n",
    "                right-=1\n",
    "        return ans"
   ]
  }
 ],
 "metadata": {
  "kernelspec": {
   "display_name": "Python 3",
   "language": "python",
   "name": "python3"
  },
  "language_info": {
   "codemirror_mode": {
    "name": "ipython",
    "version": 3
   },
   "file_extension": ".py",
   "mimetype": "text/x-python",
   "name": "python",
   "nbconvert_exporter": "python",
   "pygments_lexer": "ipython3",
   "version": "3.7.4"
  }
 },
 "nbformat": 4,
 "nbformat_minor": 2
}
