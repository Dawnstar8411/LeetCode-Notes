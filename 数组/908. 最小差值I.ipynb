{
 "cells": [
  {
   "cell_type": "markdown",
   "metadata": {},
   "source": [
    "### 题目描述"
   ]
  },
  {
   "cell_type": "markdown",
   "metadata": {},
   "source": [
    "给你一个整数数组`A`，对于每个整数`A[i]`,我们可以选择处于区间`[-K,K]`中的任意数`x`，将`x`与`A[i]`相加，结果存入`A[i]`。在此过程后，我们得到一些数组`B`。返回`B`的最大值和`B`的最小值之间可能存在的最小差值。\n",
    "- $1 \\geq A.length \\geq 10000$\n",
    "- $0 \\geq A[i] \\geq 10000$\n",
    "- $0 \\geq K \\geq 10000$"
   ]
  },
  {
   "cell_type": "markdown",
   "metadata": {},
   "source": [
    "### 题目分析"
   ]
  },
  {
   "cell_type": "markdown",
   "metadata": {},
   "source": [
    "我们的最终目的是最小化`max(B)-min(B)`。`max(B)`最小可以到`max(A)-K`, `min(B)`最大可以到`min(A)+K`。这里有两种情况，如果 `min(A)+K > max(A)-K`,那么可以通过调整K的值使差值为0，如果`min(A)+K < max(A)-K`,那么两者之差便是最终结果。"
   ]
  },
  {
   "cell_type": "code",
   "execution_count": 1,
   "metadata": {},
   "outputs": [],
   "source": [
    "class Solution:\n",
    "    def smallestRangeI(self, A, K: int) -> int:\n",
    "        if max(A)-K <= min(A)+K:\n",
    "            return 0\n",
    "        else:\n",
    "            return (max(A)-min(A)-2*K)"
   ]
  }
 ],
 "metadata": {
  "kernelspec": {
   "display_name": "Python 3",
   "language": "python",
   "name": "python3"
  },
  "language_info": {
   "codemirror_mode": {
    "name": "ipython",
    "version": 3
   },
   "file_extension": ".py",
   "mimetype": "text/x-python",
   "name": "python",
   "nbconvert_exporter": "python",
   "pygments_lexer": "ipython3",
   "version": "3.7.4"
  }
 },
 "nbformat": 4,
 "nbformat_minor": 2
}
