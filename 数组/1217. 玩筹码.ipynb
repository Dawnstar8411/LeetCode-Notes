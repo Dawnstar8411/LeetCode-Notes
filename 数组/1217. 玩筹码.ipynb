{
 "cells": [
  {
   "cell_type": "markdown",
   "metadata": {},
   "source": [
    "### 题目描述"
   ]
  },
  {
   "cell_type": "markdown",
   "metadata": {},
   "source": [
    "数轴上放了一些筹码，每个筹码的位置存放在数组`chips`当中。你可以对任何筹码执行以下两种操作之一，不限操作次数，0次也可以：\n",
    "- 将第`i`个筹码向左或者向右移动2个单位，代价为0\n",
    "- 将第`i`个筹码向左或者向右移动1个单位，代价为1\n",
    "\n",
    "最开始的时候，同一位置上可能放着两个或者更多的筹码。返回将所有筹码移动到同一个位置（任意位置上所需要的最小代价）"
   ]
  },
  {
   "cell_type": "markdown",
   "metadata": {},
   "source": [
    "### 题目分析"
   ]
  },
  {
   "cell_type": "markdown",
   "metadata": {},
   "source": [
    "如果都是奇数或者都是偶数，其移动到同一个位置上，代价为0。将偶数移动到任意奇数位置上，或者将奇数移动到任意偶数位置上，代价为1。可以想象先将所有偶数移动到同一个位置，将所有奇数移动到同一个位置，此时总代价为0。后面可以将所有偶数移动到奇数的位置，或者将所有奇数移动到偶数的位置，哪种移动方式代价小就看偶数和奇数谁的个数少了。"
   ]
  },
  {
   "cell_type": "code",
   "execution_count": 1,
   "metadata": {},
   "outputs": [],
   "source": [
    "class Solution:\n",
    "    def minCostToMoveChips(self, chips) -> int:\n",
    "        N = len(chips)\n",
    "        num_even = 0\n",
    "        num_odd = 0\n",
    "        for i in range(N):\n",
    "            if chips[i] % 2 ==0:\n",
    "                num_even += 1\n",
    "            else:\n",
    "                num_odd += 1\n",
    "        return min(num_even,num_odd)"
   ]
  }
 ],
 "metadata": {
  "kernelspec": {
   "display_name": "Python 3",
   "language": "python",
   "name": "python3"
  },
  "language_info": {
   "codemirror_mode": {
    "name": "ipython",
    "version": 3
   },
   "file_extension": ".py",
   "mimetype": "text/x-python",
   "name": "python",
   "nbconvert_exporter": "python",
   "pygments_lexer": "ipython3",
   "version": "3.7.4"
  }
 },
 "nbformat": 4,
 "nbformat_minor": 2
}
