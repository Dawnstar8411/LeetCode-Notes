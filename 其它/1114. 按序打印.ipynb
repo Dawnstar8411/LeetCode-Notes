{
 "cells": [
  {
   "cell_type": "markdown",
   "metadata": {},
   "source": [
    "### 题目描述"
   ]
  },
  {
   "cell_type": "markdown",
   "metadata": {},
   "source": [
    "我们提供了一个类：\n",
    "\n",
    "```\n",
    "public class Foo {\n",
    "  public void one() { print(\"one\"); }\n",
    "  public void two() { print(\"two\"); }\n",
    "  public void three() { print(\"three\"); }\n",
    "}\n",
    "```\n",
    "\n",
    "三个不同的线程将会共用一个 Foo 实例。请设计修改程序，以确保 two() 方法在 one() 方法之后被执行，three() 方法在 two() 方法之后被执行。"
   ]
  },
  {
   "cell_type": "markdown",
   "metadata": {},
   "source": [
    "### 题目分析"
   ]
  },
  {
   "cell_type": "markdown",
   "metadata": {},
   "source": [
    "题目要求，无论三个线程启动的顺序如何，但其最终的输出要保证特定的顺序。这是并发问题。\n",
    "\n",
    "并发计算场景下，程序在多线程（或多进程）中同时执行。这里的同时执行，不是指不同的线程或者进程在不同的物理CPU上分别运行，更多的是在同一个CPU上交替执行多个线程或进程。此时会出现几个问题：\n",
    "\n",
    "- 竞态条件：由于多进程之间的竞争执行，导致程序未按照期望的顺序输出。\n",
    "- 死锁：并发程序等待一些必要资源，导致没有程序可以执行。\n",
    "- 资源不足：进程被永久剥夺了运行所需的资源。\n",
    "\n",
    "此题目中存在竞态条件。并发问题中，多个线程或进程共享某些资源，由于无法消除资源共享的约束，防止并发问题就变成了资源共享的协调问题。如果可以保证程序中关键部分代码的独占性，就可以防止程序进入不一致的状态。\n",
    "\n",
    "竞争条件的解决方案为： 需要某些关键部分代码具有排他性，即在给定的时间内，只有一个线程可以进入关键部分代码。\n",
    "\n",
    "题目要求按顺序依次执行三个方法，且每个方法都在单独的线程中运行。为了保证线程的执行顺序，可以在方法之间创建一些依赖关系，即第二个方法必须在第一个方法执行完之后开始执行，第三个方法必须在第二个方法执行完之后执行。"
   ]
  },
  {
   "cell_type": "code",
   "execution_count": 1,
   "metadata": {},
   "outputs": [],
   "source": [
    "from threading import Lock\n",
    "class Foo:\n",
    "    def __init__(self):\n",
    "        self.firstJobDone = Lock()\n",
    "        self.secondJobDone = Lock()\n",
    "        self.firstJobDone.acquire()\n",
    "        self.secondJobDone.acquire()\n",
    "\n",
    "\n",
    "    def first(self, printFirst: 'Callable[[], None]') -> None:\n",
    "        \n",
    "        # printFirst() outputs \"first\". Do not change or remove this line.\n",
    "        printFirst()\n",
    "        self.firstJobDone.release()\n",
    "\n",
    "\n",
    "    def second(self, printSecond: 'Callable[[], None]') -> None:\n",
    "        \n",
    "        # printSecond() outputs \"second\". Do not change or remove this line.\n",
    "        with self.firstJobDone:\n",
    "            printSecond()\n",
    "            self.secondJobDone.release()\n",
    "\n",
    "\n",
    "    def third(self, printThird: 'Callable[[], None]') -> None:\n",
    "        \n",
    "        # printThird() outputs \"third\". Do not change or remove this line.\n",
    "        with self.secondJobDone:\n",
    "            printThird()"
   ]
  }
 ],
 "metadata": {
  "kernelspec": {
   "display_name": "Python 3",
   "language": "python",
   "name": "python3"
  },
  "language_info": {
   "codemirror_mode": {
    "name": "ipython",
    "version": 3
   },
   "file_extension": ".py",
   "mimetype": "text/x-python",
   "name": "python",
   "nbconvert_exporter": "python",
   "pygments_lexer": "ipython3",
   "version": "3.7.4"
  }
 },
 "nbformat": 4,
 "nbformat_minor": 2
}
