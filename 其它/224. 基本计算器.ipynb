{
 "cells": [
  {
   "cell_type": "markdown",
   "metadata": {},
   "source": [
    "### 题目描述"
   ]
  },
  {
   "cell_type": "markdown",
   "metadata": {},
   "source": [
    "实现一个基本的计算器来计算一个简单的字符串表达式的值。\n",
    "\n",
    "字符串表达式可以包含左括号 ( ，右括号 )，加号 + ，减号 -，非负整数和空格  。"
   ]
  },
  {
   "cell_type": "markdown",
   "metadata": {},
   "source": [
    "### 题目分析"
   ]
  },
  {
   "cell_type": "markdown",
   "metadata": {},
   "source": [
    "使用递归的话，对于非常长的输入容易超时，可以纯用栈来解决。参考链接https://leetcode-cn.com/problems/basic-calculator/solution/ji-ben-ji-suan-qi-by-leetcode/"
   ]
  },
  {
   "cell_type": "code",
   "execution_count": null,
   "metadata": {},
   "outputs": [],
   "source": [
    "class Solution:\n",
    "    def calculate(self, s: str) -> int:\n",
    "\n",
    "        stack = []\n",
    "        num = 0\n",
    "        res = 0 # For the on-going result\n",
    "        sign = 1 # 1 means positive, -1 means negative  \n",
    "\n",
    "        for ch in s:\n",
    "            if ch.isdigit():\n",
    "                num = (num * 10) + int(ch)\n",
    "            elif ch == '+':\n",
    "                res += sign * num\n",
    "                sign = 1\n",
    "                num = 0\n",
    "            elif ch == '-':\n",
    "                res += sign * num\n",
    "                sign = -1\n",
    "                num = 0\n",
    "            elif ch == '(':\n",
    "                stack.append(res)\n",
    "                stack.append(sign)\n",
    "                sign = 1\n",
    "                res = 0\n",
    "            elif ch == ')':\n",
    "                res += sign * num\n",
    "                res *= stack.pop()\n",
    "                res += stack.pop()\n",
    "                num = 0\n",
    "        return res + sign * num"
   ]
  },
  {
   "cell_type": "code",
   "execution_count": null,
   "metadata": {},
   "outputs": [],
   "source": [
    "### 递归版本，最后一个测例会超时\n",
    "class Solution:\n",
    "    def calculate(self, s: str) -> int:\n",
    "        def helper(self, s):\n",
    "            num = 0\n",
    "            sign = '+'\n",
    "            stack = []\n",
    "            while len(s)>0:\n",
    "                c = s.pop(0)\n",
    "                if c.isdigit():\n",
    "                    num = num * 10 + int(c)\n",
    "                if (not c.isdigit() and c!=' ') or len(s)==0:\n",
    "                    if c == '(':\n",
    "                        num = helper(self,s)\n",
    "                    if sign == '+':\n",
    "                        stack.append(num)\n",
    "                    elif sign == '-':\n",
    "                        stack.append(-1*num)\n",
    "                    if c == ')':\n",
    "                        break\n",
    "                    sign = c\n",
    "                    num = 0\n",
    "            return sum(stack)\n",
    "        return helper(self,list(s))"
   ]
  }
 ],
 "metadata": {
  "kernelspec": {
   "display_name": "Python 3",
   "language": "python",
   "name": "python3"
  },
  "language_info": {
   "codemirror_mode": {
    "name": "ipython",
    "version": 3
   },
   "file_extension": ".py",
   "mimetype": "text/x-python",
   "name": "python",
   "nbconvert_exporter": "python",
   "pygments_lexer": "ipython3",
   "version": "3.7.4"
  }
 },
 "nbformat": 4,
 "nbformat_minor": 2
}
