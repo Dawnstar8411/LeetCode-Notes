{
 "cells": [
  {
   "cell_type": "markdown",
   "metadata": {},
   "source": [
    "### 题目描述"
   ]
  },
  {
   "cell_type": "markdown",
   "metadata": {},
   "source": [
    "实现一个基本的计算器来计算简单的表达式字符串。\n",
    "\n",
    "表达式字符串可以包含左括号 ( 和右括号 )，加号 + 和减号 -，非负 整数和空格 。\n",
    "\n",
    "表达式字符串只包含非负整数， +, -, *, / 操作符，左括号 ( ，右括号 )和空格 。整数除法需要向下截断。\n",
    "\n",
    "你可以假定给定的字符串总是有效的。所有的中间结果的范围为 [-2147483648, 2147483647]。"
   ]
  },
  {
   "cell_type": "markdown",
   "metadata": {},
   "source": [
    "### 题目分析"
   ]
  },
  {
   "cell_type": "markdown",
   "metadata": {},
   "source": [
    "栈+递归，参考链接https://labuladong.gitbook.io/algo/suan-fa-si-wei-xi-lie/shi-xian-ji-suan-qi"
   ]
  },
  {
   "cell_type": "code",
   "execution_count": 1,
   "metadata": {},
   "outputs": [],
   "source": [
    "class Solution:\n",
    "    def calculate(self, s: str) -> int:\n",
    "        def helper(self, s):\n",
    "            num = 0\n",
    "            sign = '+'\n",
    "            stack = []\n",
    "            while len(s)>0:\n",
    "                c = s.pop(0)\n",
    "                if c.isdigit():\n",
    "                    num = num * 10 + int(c)\n",
    "                if (not c.isdigit() and c!=' ') or len(s)==0:\n",
    "                    if c == '(':\n",
    "                        num = helper(self,s)\n",
    "                    if sign == '+':\n",
    "                        stack.append(num)\n",
    "                    elif sign == '-':\n",
    "                        stack.append(-1*num)\n",
    "                    elif sign == '*':\n",
    "                        pre = stack[-1]\n",
    "                        stack.pop()\n",
    "                        stack.append(pre * num)\n",
    "                    elif sign == '/':\n",
    "                        pre = stack[-1]\n",
    "                        stack.pop()\n",
    "                        stack.append(int(pre/num))\n",
    "                    if c == ')':\n",
    "                        break\n",
    "                    sign = c\n",
    "                    num = 0\n",
    "            return sum(stack)\n",
    "        return helper(self,list(s))"
   ]
  }
 ],
 "metadata": {
  "kernelspec": {
   "display_name": "Python 3",
   "language": "python",
   "name": "python3"
  },
  "language_info": {
   "codemirror_mode": {
    "name": "ipython",
    "version": 3
   },
   "file_extension": ".py",
   "mimetype": "text/x-python",
   "name": "python",
   "nbconvert_exporter": "python",
   "pygments_lexer": "ipython3",
   "version": "3.7.4"
  }
 },
 "nbformat": 4,
 "nbformat_minor": 2
}
