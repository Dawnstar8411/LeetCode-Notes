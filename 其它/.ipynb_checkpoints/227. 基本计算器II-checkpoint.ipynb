{
 "cells": [
  {
   "cell_type": "markdown",
   "metadata": {},
   "source": [
    "### 题目描述"
   ]
  },
  {
   "cell_type": "markdown",
   "metadata": {},
   "source": [
    "实现一个基本的计算器来计算一个简单的字符串表达式的值。\n",
    "\n",
    "字符串表达式仅包含非负整数，+， - ，*，/ 四种运算符和空格  。 整数除法仅保留整数部分。"
   ]
  },
  {
   "cell_type": "markdown",
   "metadata": {},
   "source": [
    "### 题目分析"
   ]
  },
  {
   "cell_type": "markdown",
   "metadata": {},
   "source": [
    "参考链接https://labuladong.gitbook.io/algo/suan-fa-si-wei-xi-lie/shi-xian-ji-suan-qi"
   ]
  },
  {
   "cell_type": "code",
   "execution_count": 1,
   "metadata": {},
   "outputs": [],
   "source": [
    "class Solution:\n",
    "    def calculate(self, s: str) -> int:\n",
    "        num = 0\n",
    "        sign = '+'\n",
    "        stack = []\n",
    "        for i in range(len(s)):\n",
    "            c = s[i]\n",
    "            if c.isdigit():\n",
    "                num = num*10 + (ord(c)-ord('0'))\n",
    "            if (not c.isdigit() and ord(c) != ord(' ')) or i== (len(s)-1):\n",
    "                if ord(sign) == ord('+'):\n",
    "                    stack.append(num)\n",
    "                elif ord(sign) == ord('-'):\n",
    "                    stack.append(-1*num)\n",
    "                elif ord(sign) == ord('*'):\n",
    "                    pre = stack[-1]\n",
    "                    stack.pop()\n",
    "                    stack.append(pre * num)\n",
    "                elif ord(sign) ==  ord('/'):\n",
    "                    pre = stack[-1]\n",
    "                    stack.pop()\n",
    "                    stack.append(int(pre/num))  # 注意python负数的取整方式\n",
    "                sign = c\n",
    "                num = 0\n",
    "        return sum(stack) "
   ]
  }
 ],
 "metadata": {
  "kernelspec": {
   "display_name": "Python 3",
   "language": "python",
   "name": "python3"
  },
  "language_info": {
   "codemirror_mode": {
    "name": "ipython",
    "version": 3
   },
   "file_extension": ".py",
   "mimetype": "text/x-python",
   "name": "python",
   "nbconvert_exporter": "python",
   "pygments_lexer": "ipython3",
   "version": "3.7.4"
  }
 },
 "nbformat": 4,
 "nbformat_minor": 2
}
