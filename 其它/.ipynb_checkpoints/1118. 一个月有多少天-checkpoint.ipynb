{
 "cells": [
  {
   "cell_type": "markdown",
   "metadata": {},
   "source": [
    "### 题目描述"
   ]
  },
  {
   "cell_type": "markdown",
   "metadata": {},
   "source": [
    "指定年份 Y 和月份 M，请你帮忙计算出该月一共有多少天。"
   ]
  },
  {
   "cell_type": "markdown",
   "metadata": {},
   "source": [
    "### 题目分析"
   ]
  },
  {
   "cell_type": "markdown",
   "metadata": {},
   "source": [
    "判断闰年\n",
    "- 不能被4整除的肯定不是闰年\n",
    "- 能被4整除的情况下，能被100整除但是不能被400整除的，不是闰年\n",
    "- 其他的都是闰年"
   ]
  },
  {
   "cell_type": "code",
   "execution_count": 1,
   "metadata": {},
   "outputs": [],
   "source": [
    "class Solution:\n",
    "    def numberOfDays(self, Y: int, M: int) -> int:\n",
    "        if M == 1 or M==3 or M==5 or M==7 or M ==8 or M==10 or M==12:\n",
    "            return 31\n",
    "        elif M == 4 or M == 6 or M== 9 or M== 11:\n",
    "            return 30\n",
    "        elif M==2:\n",
    "            if Y % 4 != 0:\n",
    "                return 28\n",
    "            elif Y % 100 ==0 and Y %400 !=0 :\n",
    "                return 28\n",
    "            else:\n",
    "                return 29"
   ]
  }
 ],
 "metadata": {
  "kernelspec": {
   "display_name": "Python 3",
   "language": "python",
   "name": "python3"
  },
  "language_info": {
   "codemirror_mode": {
    "name": "ipython",
    "version": 3
   },
   "file_extension": ".py",
   "mimetype": "text/x-python",
   "name": "python",
   "nbconvert_exporter": "python",
   "pygments_lexer": "ipython3",
   "version": "3.7.4"
  }
 },
 "nbformat": 4,
 "nbformat_minor": 2
}
