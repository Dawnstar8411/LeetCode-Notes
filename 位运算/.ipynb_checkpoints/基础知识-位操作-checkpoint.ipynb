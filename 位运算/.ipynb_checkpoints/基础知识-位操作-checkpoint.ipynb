{
 "cells": [
  {
   "cell_type": "markdown",
   "metadata": {},
   "source": [
    "常用的ascii码表, 空格:32，0:48，9:57，A:65, Z:90, a:97, z:122。\n",
    "\n",
    "在python中，`ord`函数将一个字符转换成ascii码，`chr`函数将ascii码转换成字符。\n",
    "\n",
    "使用`c.isdigit()`判断`c`是不是数字，如果是的话，可直接通过`int(c)`来进行转换"
   ]
  },
  {
   "cell_type": "markdown",
   "metadata": {},
   "source": []
  },
  {
   "cell_type": "markdown",
   "metadata": {},
   "source": [
    "位操作针对的对象为二进制数，有6中常用的位操作，分别为`与`，`或`,`非`,`异或`,`左移`,`右移`。\n",
    "- 左移操作：x<<3\n",
    "- 右移操作：x>>3\n",
    "- 与操作： x & y\n",
    "- 或操作： x|y\n",
    "- 异或操作：x^y\n",
    "- 非操作： ~x"
   ]
  },
  {
   "cell_type": "markdown",
   "metadata": {},
   "source": [
    "应用一：大小写字母互换\n",
    "\n",
    "可以利用位操作进行转换：\n",
    "- 字母与空格进行**或操作**，可将英文字符转换为小写\n",
    "- 字母与下划线进行**与操作**，可以将英文字母转换为大写\n",
    "- 字母与空格进行**异或操作**，可以将英文字母进行大小写互换。"
   ]
  },
  {
   "cell_type": "code",
   "execution_count": null,
   "metadata": {},
   "outputs": [],
   "source": []
  },
  {
   "cell_type": "code",
   "execution_count": null,
   "metadata": {},
   "outputs": [],
   "source": []
  }
 ],
 "metadata": {
  "kernelspec": {
   "display_name": "Python 3",
   "language": "python",
   "name": "python3"
  },
  "language_info": {
   "codemirror_mode": {
    "name": "ipython",
    "version": 3
   },
   "file_extension": ".py",
   "mimetype": "text/x-python",
   "name": "python",
   "nbconvert_exporter": "python",
   "pygments_lexer": "ipython3",
   "version": "3.7.4"
  }
 },
 "nbformat": 4,
 "nbformat_minor": 2
}
