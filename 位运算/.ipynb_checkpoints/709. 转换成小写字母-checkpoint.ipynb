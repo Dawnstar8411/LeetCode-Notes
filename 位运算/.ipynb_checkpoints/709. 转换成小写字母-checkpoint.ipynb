{
 "cells": [
  {
   "cell_type": "markdown",
   "metadata": {},
   "source": [
    "### 题目描述"
   ]
  },
  {
   "cell_type": "markdown",
   "metadata": {},
   "source": [
    "实现函数ToLowerCase()，该函数接收一个字符串参数`str`，并将该字符串中的大写字母转换成小写字母，之后返回新的字符串。"
   ]
  },
  {
   "cell_type": "markdown",
   "metadata": {},
   "source": [
    "### 题目分析"
   ]
  },
  {
   "cell_type": "markdown",
   "metadata": {},
   "source": [
    "大写字母`A`的ascii码为65，小写字母`a`的ascii码为97，空格的ascii码为  ，下划线的ascii码为  ，\n",
    "在python中，`ord`函数将一个字符转换成ascii码，`chr`函数将ascii码转换成字符。\n",
    "python中的`str`类型数据不支持根据索引赋值，因此可以先生成空字符转，再逐个添加。\n",
    "\n",
    "可以利用位操作进行转换：\n",
    "- 字母与空格进行**或操作**，可将英文字符转换为小写\n",
    "- 字母与下划线进行**与操作**，可以将英文字母转换为大写\n",
    "- 字母与空格进行**异或操作**，可以将英文字母进行大小写互换。"
   ]
  },
  {
   "cell_type": "code",
   "execution_count": 1,
   "metadata": {},
   "outputs": [],
   "source": [
    "class Solution:\n",
    "    def toLowerCase(self, str: str) -> str:\n",
    "        ans = \"\"\n",
    "        for i in range(len(str)):\n",
    "            if ord(str[i]) >=65 and ord(str[i])<91:\n",
    "                ans+=chr(ord(str[i])+32)\n",
    "            else:\n",
    "                ans+=str[i]\n",
    "        return ans"
   ]
  },
  {
   "cell_type": "code",
   "execution_count": null,
   "metadata": {},
   "outputs": [],
   "source": [
    "class Solution:\n",
    "    def toLowerCase(self, str: str) -> str:\n",
    "        ans = \"\"\n",
    "        for i in range(len(str)):\n",
    "            ans+= str[i] or ' '\n",
    "        return ans"
   ]
  }
 ],
 "metadata": {
  "kernelspec": {
   "display_name": "Python 3",
   "language": "python",
   "name": "python3"
  },
  "language_info": {
   "codemirror_mode": {
    "name": "ipython",
    "version": 3
   },
   "file_extension": ".py",
   "mimetype": "text/x-python",
   "name": "python",
   "nbconvert_exporter": "python",
   "pygments_lexer": "ipython3",
   "version": "3.7.4"
  }
 },
 "nbformat": 4,
 "nbformat_minor": 2
}
