{
 "cells": [
  {
   "cell_type": "markdown",
   "metadata": {},
   "source": [
    "### 题目描述"
   ]
  },
  {
   "cell_type": "markdown",
   "metadata": {},
   "source": [
    "编写一个函数，不用临时变量，直接交换`numbers = [a,b]`中的`a`与`b`的值。\n",
    "\n",
    "示例：\n",
    "\n",
    "> 输入： numbers = [1,2]\\\n",
    "  输出： [2,1]"
   ]
  },
  {
   "cell_type": "markdown",
   "metadata": {},
   "source": [
    "### 题目分析"
   ]
  },
  {
   "cell_type": "markdown",
   "metadata": {},
   "source": [
    "通过保存两数字之差的手段实现。"
   ]
  },
  {
   "cell_type": "code",
   "execution_count": 1,
   "metadata": {},
   "outputs": [],
   "source": [
    "class Solution:\n",
    "    def swapNumbers(self, numbers):\n",
    "        numbers[0] = numbers[1] - numbers[0]\n",
    "        numbers[1] = numbers[1] - numbers[0]\n",
    "        numbers[0] = numbers[0] + numbers[1] \n",
    "        return numbers"
   ]
  },
  {
   "cell_type": "markdown",
   "metadata": {},
   "source": [
    "为了防止加减导致的溢出，可以采用**异或**运算实现。"
   ]
  },
  {
   "cell_type": "code",
   "execution_count": null,
   "metadata": {},
   "outputs": [],
   "source": [
    "class Solution:\n",
    "    def swapNumbers(self, numbers: List[int]) -> List[int]:\n",
    "        numbers[0] ^= numbers[1]\n",
    "        numbers[1] ^= numbers[0]\n",
    "        numbers[0] ^= numbers[1] \n",
    "        return numbers"
   ]
  }
 ],
 "metadata": {
  "kernelspec": {
   "display_name": "Python 3",
   "language": "python",
   "name": "python3"
  },
  "language_info": {
   "codemirror_mode": {
    "name": "ipython",
    "version": 3
   },
   "file_extension": ".py",
   "mimetype": "text/x-python",
   "name": "python",
   "nbconvert_exporter": "python",
   "pygments_lexer": "ipython3",
   "version": "3.7.4"
  }
 },
 "nbformat": 4,
 "nbformat_minor": 2
}
