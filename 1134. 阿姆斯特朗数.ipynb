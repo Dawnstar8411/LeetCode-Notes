{
 "cells": [
  {
   "cell_type": "markdown",
   "metadata": {},
   "source": [
    "### 问题描述"
   ]
  },
  {
   "cell_type": "markdown",
   "metadata": {},
   "source": [
    "假设存在一个$k$位数$N$,其每一位上的数字的$k$次幂的总和也是$N$,那么这个数是阿姆斯特朗数。给你一个正整数，让你来判定他是否是阿姆斯特朗数，是则返回$true$,不是在返回$false$\n",
    "\n",
    "示例：\n",
    "\n",
    "> 输入：153\\\n",
    "  输出：true\n",
    "  \n",
    "> 输入：123 \\\n",
    "  输出：false\n",
    "\n",
    "提示：\n",
    "\n",
    "$1\\leq N \\leq 10^8$"
   ]
  },
  {
   "cell_type": "markdown",
   "metadata": {},
   "source": [
    "### 问题分析"
   ]
  },
  {
   "cell_type": "markdown",
   "metadata": {},
   "source": [
    "第一步要求出这个数字的位数$k$，第二步遍历数字的每一位上的数字，第三步计算每一位数字的$k$次幂的和，第四步与$N$进行比较。时间复杂度为$O(N)$,空间复杂度为$O(1)$"
   ]
  },
  {
   "cell_type": "markdown",
   "metadata": {},
   "source": [
    "```\n",
    "class Solution:\n",
    "    def isArmstrong(self, N: int) -> bool:\n",
    "        K = len(str(N))\n",
    "        ans = 0\n",
    "        for i in range(K):\n",
    "            ans += int(S[i]) ** K\n",
    "        return ans == N\n",
    "```"
   ]
  }
 ],
 "metadata": {
  "kernelspec": {
   "display_name": "Python 3",
   "language": "python",
   "name": "python3"
  },
  "language_info": {
   "codemirror_mode": {
    "name": "ipython",
    "version": 3
   },
   "file_extension": ".py",
   "mimetype": "text/x-python",
   "name": "python",
   "nbconvert_exporter": "python",
   "pygments_lexer": "ipython3",
   "version": "3.7.4"
  }
 },
 "nbformat": 4,
 "nbformat_minor": 2
}
