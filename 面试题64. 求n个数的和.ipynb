{
 "cells": [
  {
   "cell_type": "markdown",
   "metadata": {},
   "source": [
    "### 题目描述"
   ]
  },
  {
   "cell_type": "markdown",
   "metadata": {},
   "source": [
    "求`1+2+...+n`，要求不能使用乘除法、for、while、if、else、switch、case等关键字及条件判断语句"
   ]
  },
  {
   "cell_type": "markdown",
   "metadata": {},
   "source": [
    "### 题目分析"
   ]
  },
  {
   "cell_type": "markdown",
   "metadata": {},
   "source": [
    "这里有诸多限制条件，使用公式和循环都不行了，可以使用递归的方式。但是这里有一个问题，常规的递归终止条件需要用到判断语句，这里需要额外的方法来终止递归。\n",
    "\n",
    "在python中，`and` 和 `or`操作具有截断效应。当`and`的第一个元素是False时，不再进行第二个元素的判断。当`or`的第一个元素为True时，不在进行第二个元素的判断。"
   ]
  },
  {
   "cell_type": "markdown",
   "metadata": {},
   "source": [
    "```\n",
    "class Solution:\n",
    "    ans = 0\n",
    "    def sumNums(self, n: int) -> int:\n",
    "        (n > 1) and (self.sumNums(n - 1))\n",
    "        self.ans += n\n",
    "        return self.ans \n",
    "```"
   ]
  }
 ],
 "metadata": {
  "kernelspec": {
   "display_name": "Python 3",
   "language": "python",
   "name": "python3"
  },
  "language_info": {
   "codemirror_mode": {
    "name": "ipython",
    "version": 3
   },
   "file_extension": ".py",
   "mimetype": "text/x-python",
   "name": "python",
   "nbconvert_exporter": "python",
   "pygments_lexer": "ipython3",
   "version": "3.7.4"
  }
 },
 "nbformat": 4,
 "nbformat_minor": 2
}
