{
 "cells": [
  {
   "cell_type": "markdown",
   "metadata": {},
   "source": [
    "### 题目描述"
   ]
  },
  {
   "cell_type": "markdown",
   "metadata": {},
   "source": [
    "给定不同面额的硬币coins和一个总金额amount。编写一个函数来计算可以凑成总金额所需的最少的硬币个数。如果没有任何一种硬币组合能组成总金额，返回-1。"
   ]
  },
  {
   "cell_type": "markdown",
   "metadata": {},
   "source": [
    "### 题目分析"
   ]
  },
  {
   "cell_type": "markdown",
   "metadata": {},
   "source": [
    "这是一个动态规划问题。其具有最优子结构，若想求总金额为amount时的最少硬币数，需要得到总金额为amount减去不同硬币面值后得到各个子问题的最优解，然后在里面找一个最少的，最后再将结果加1。子问题之间也相互独立，没有制约关系。 \n",
    "\n",
    "动态规划的状态为 amount\n",
    "\n",
    "动态规划函数`dp函数`的定义：当前的目标金额为`n`，至少需要`dp(n)`个硬币凑出该金额。\n",
    "\n",
    "择优策略：通过当前amount减去不同硬币的币值，得到`dp(n)`下面包含着多个不同的子问题，挑选其中最优的子问题。\n",
    "\n",
    "明确终止条件：当n为0时，所需硬币数量为0， 当n小于0时，无解，返回-1。\n",
    "\n",
    "框架伪代码如下：\n",
    "\n",
    "```\n",
    "def coinChange(coints:List[int], amount:int):\n",
    "    def dp(n):\n",
    "        for coin in coins:\n",
    "            res = min(res,1+dp(n-coin))\n",
    "        return res\n",
    "     return dp(amount)\n",
    "```"
   ]
  },
  {
   "cell_type": "markdown",
   "metadata": {},
   "source": [
    "方法一：\n",
    "\n",
    "具有记忆功能的动态规划\n",
    "\n",
    "对于无记忆功能的代码，其子问题个数为$n^k$个，每个子问题里面有一个k次的循环，因此时间复杂度为$O(k*N^k)$,空间复杂度为$O(n)$。\n",
    "对于有记忆功能的代码，其子问题个数不会超过n，时间复杂度为$O(kn)$，空间复杂度为$O(n)$"
   ]
  },
  {
   "cell_type": "code",
   "execution_count": 1,
   "metadata": {},
   "outputs": [],
   "source": [
    "class Solution:\n",
    "    def coinChange(self, coins, amount: int) -> int:\n",
    "        if amount == 0: return 0\n",
    "        if amount <0:return -1\n",
    "        memory = dict()\n",
    "        def dp(n):\n",
    "            if n<0: return -1\n",
    "            if n==0: return 0\n",
    "            if n in memory: return memory[n]\n",
    "            res = float('INF')\n",
    "            for coin in coins:\n",
    "                temp = dp(n-coin)\n",
    "                if temp == -1:\n",
    "                    continue\n",
    "                res = min(res,1+ temp)\n",
    "            memory[n] = res if res!= float('INF') else -1\n",
    "            return memory[n]\n",
    "        \n",
    "        return dp(amount)"
   ]
  },
  {
   "cell_type": "markdown",
   "metadata": {},
   "source": [
    "方法二：\n",
    "\n",
    "自下而上地迭代 时间复杂度$O(kn)$，空间复杂度$O(n)$"
   ]
  },
  {
   "cell_type": "code",
   "execution_count": 2,
   "metadata": {},
   "outputs": [],
   "source": [
    "class Solution:\n",
    "    def coinChange(self, coins, amount: int) -> int:\n",
    "        dp = [amount+1] * (amount+1)\n",
    "        dp[0]=0\n",
    "        for i in range(amount+1):\n",
    "            for coin in coins:\n",
    "                if i-coin<0: continue\n",
    "                dp[i] = min(dp[i],1+dp[i-coin])\n",
    "        if dp[i]== (amount+1): return -1\n",
    "        else: return dp[i]"
   ]
  }
 ],
 "metadata": {
  "kernelspec": {
   "display_name": "Python 3",
   "language": "python",
   "name": "python3"
  },
  "language_info": {
   "codemirror_mode": {
    "name": "ipython",
    "version": 3
   },
   "file_extension": ".py",
   "mimetype": "text/x-python",
   "name": "python",
   "nbconvert_exporter": "python",
   "pygments_lexer": "ipython3",
   "version": "3.7.4"
  }
 },
 "nbformat": 4,
 "nbformat_minor": 2
}
