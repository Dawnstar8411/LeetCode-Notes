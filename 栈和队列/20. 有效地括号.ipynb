{
 "cells": [
  {
   "cell_type": "markdown",
   "metadata": {},
   "source": [
    "### 题目描述"
   ]
  },
  {
   "cell_type": "markdown",
   "metadata": {},
   "source": [
    "给定一个只包括 '('，')'，'{'，'}'，'['，']' 的字符串，判断字符串是否有效。\n",
    "\n",
    "有效字符串需满足：\n",
    "\n",
    "左括号必须用相同类型的右括号闭合。\n",
    "左括号必须以正确的顺序闭合。\n",
    "注意空字符串可被认为是有效字符串。"
   ]
  },
  {
   "cell_type": "markdown",
   "metadata": {},
   "source": [
    "### 题目分析"
   ]
  },
  {
   "cell_type": "markdown",
   "metadata": {},
   "source": [
    "使用栈来解决，参考链接 https://labuladong.gitbook.io/algo/gao-pin-mian-shi-xi-lie/he-fa-kuo-hao-pan-ding"
   ]
  },
  {
   "cell_type": "code",
   "execution_count": 1,
   "metadata": {},
   "outputs": [],
   "source": [
    "class Solution:\n",
    "    def isValid(self, s: str) -> bool:\n",
    "        if s is None:\n",
    "            return True\n",
    "        left = []\n",
    "        for i in range(len(s)):\n",
    "            c = s[i][0]\n",
    "            if c == '(' or c == '{' or c == '[':\n",
    "                left.append(c)\n",
    "            else:\n",
    "                if len(left)>0 and self.leftof(c)==left[-1]:\n",
    "                    left.pop()\n",
    "                else:\n",
    "                    return False\n",
    "        return len(left) == 0\n",
    "        \n",
    "    def leftof(self,c):\n",
    "        if c == ')':\n",
    "            return '('\n",
    "        elif c == '}':\n",
    "            return '{'\n",
    "        elif c == ']':\n",
    "            return '['\n",
    "        else:\n",
    "            raise ValueError('Wrong input')"
   ]
  }
 ],
 "metadata": {
  "kernelspec": {
   "display_name": "Python 3",
   "language": "python",
   "name": "python3"
  },
  "language_info": {
   "codemirror_mode": {
    "name": "ipython",
    "version": 3
   },
   "file_extension": ".py",
   "mimetype": "text/x-python",
   "name": "python",
   "nbconvert_exporter": "python",
   "pygments_lexer": "ipython3",
   "version": "3.7.4"
  }
 },
 "nbformat": 4,
 "nbformat_minor": 2
}
