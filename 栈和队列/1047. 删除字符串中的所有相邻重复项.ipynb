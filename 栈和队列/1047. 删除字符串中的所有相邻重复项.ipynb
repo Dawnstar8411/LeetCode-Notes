{
 "cells": [
  {
   "cell_type": "markdown",
   "metadata": {},
   "source": [
    "### 题目描述"
   ]
  },
  {
   "cell_type": "markdown",
   "metadata": {},
   "source": [
    "给出由小写字母组成的字符串 S，重复项删除操作会选择两个相邻且相同的字母，并删除它们。\n",
    "\n",
    "在 S 上反复执行重复项删除操作，直到无法继续删除。\n",
    "\n",
    "在完成所有重复项删除操作后返回最终的字符串。答案保证唯一。"
   ]
  },
  {
   "cell_type": "markdown",
   "metadata": {},
   "source": [
    "### 题目分析"
   ]
  },
  {
   "cell_type": "markdown",
   "metadata": {},
   "source": [
    "使用栈来解决，这里主要注意一下python中string与list的相互转换方法\n",
    "\n",
    "string >> list:\n",
    "\n",
    "```\n",
    "str1 = \"12345\"\n",
    "list1 = list(str1)\n",
    "\n",
    " \n",
    "str2 = \"123 sjhid dhi\"\n",
    "list2 = str2.split() #or list2 = str2.split(\" \")\n",
    "\n",
    " \n",
    "str3 = \"www.google.com\"\n",
    "list3 = str3.split(\".\")\n",
    "```\n",
    "\n",
    "list >> string:\n",
    "\n",
    "```\n",
    "str4 = \"\".join(list3)\n",
    "\n",
    "str5 = \".\".join(list3)\n",
    "\n",
    "str6 = \" \".join(list3)\n",
    "```"
   ]
  },
  {
   "cell_type": "code",
   "execution_count": 1,
   "metadata": {},
   "outputs": [],
   "source": [
    "class Solution:\n",
    "    def removeDuplicates(self, S: str) -> str:\n",
    "        stack = []\n",
    "        for i in range(len(S)):\n",
    "            c = S[i][0]\n",
    "            if len(stack) == 0:\n",
    "                stack.append(c)\n",
    "                continue\n",
    "            if c == stack[-1]:\n",
    "                stack.pop()\n",
    "            else:\n",
    "                stack.append(c)\n",
    "        return \"\".join(stack)"
   ]
  }
 ],
 "metadata": {
  "kernelspec": {
   "display_name": "Python 3",
   "language": "python",
   "name": "python3"
  },
  "language_info": {
   "codemirror_mode": {
    "name": "ipython",
    "version": 3
   },
   "file_extension": ".py",
   "mimetype": "text/x-python",
   "name": "python",
   "nbconvert_exporter": "python",
   "pygments_lexer": "ipython3",
   "version": "3.7.4"
  }
 },
 "nbformat": 4,
 "nbformat_minor": 2
}
