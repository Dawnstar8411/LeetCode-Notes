{
 "cells": [
  {
   "cell_type": "markdown",
   "metadata": {},
   "source": [
    "### 题目描述"
   ]
  },
  {
   "cell_type": "markdown",
   "metadata": {},
   "source": [
    "给定两个 没有重复元素 的数组 nums1 和 nums2 ，其中nums1 是 nums2 的子集。找到 nums1 中每个元素在 nums2 中的下一个比其大的值。\n",
    "\n",
    "nums1 中数字 x 的下一个更大元素是指 x 在 nums2 中对应位置的右边的第一个比 x 大的元素。如果不存在，对应位置输出 -1 。"
   ]
  },
  {
   "cell_type": "markdown",
   "metadata": {},
   "source": [
    "### 题目分析"
   ]
  },
  {
   "cell_type": "markdown",
   "metadata": {},
   "source": [
    "使用单调栈来解决，参考链接 https://labuladong.gitbook.io/algo/shu-ju-jie-gou-xi-lie/dan-tiao-zhan"
   ]
  },
  {
   "cell_type": "code",
   "execution_count": 2,
   "metadata": {},
   "outputs": [],
   "source": [
    "class Solution:\n",
    "    def nextGreaterElement(self, nums1, nums2):\n",
    "        index_dict = {}\n",
    "        ans = []\n",
    "        stack = []\n",
    "        nge = [-1] * len(nums2)\n",
    "        for i in range(len(nums2)):\n",
    "            index_dict[nums2[i]] = i\n",
    "            \n",
    "        for i in range(len(nums2)-1,-1,-1):\n",
    "            while len(stack)>0 and stack[-1]<=nums2[i]:\n",
    "                stack.pop()\n",
    "            if len(stack) == 0:\n",
    "                nge[i] = -1\n",
    "            else:\n",
    "                nge[i] = stack[-1]\n",
    "            stack.append(nums2[i])\n",
    "\n",
    "        for i in range(len(nums1)):\n",
    "            ans.append(nge[index_dict[nums1[i]]])\n",
    "        return ans"
   ]
  }
 ],
 "metadata": {
  "kernelspec": {
   "display_name": "Python 3",
   "language": "python",
   "name": "python3"
  },
  "language_info": {
   "codemirror_mode": {
    "name": "ipython",
    "version": 3
   },
   "file_extension": ".py",
   "mimetype": "text/x-python",
   "name": "python",
   "nbconvert_exporter": "python",
   "pygments_lexer": "ipython3",
   "version": "3.7.4"
  }
 },
 "nbformat": 4,
 "nbformat_minor": 2
}
