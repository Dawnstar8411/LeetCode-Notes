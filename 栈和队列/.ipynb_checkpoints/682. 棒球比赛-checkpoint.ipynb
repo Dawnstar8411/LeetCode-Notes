{
 "cells": [
  {
   "cell_type": "markdown",
   "metadata": {},
   "source": [
    "### 题目描述"
   ]
  },
  {
   "cell_type": "markdown",
   "metadata": {},
   "source": [
    "你现在是棒球比赛记录员。\n",
    "给定一个字符串列表，每个字符串可以是以下四种类型之一：\n",
    "\n",
    "1. 整数（一轮的得分）：直接表示您在本轮中获得的积分数。\n",
    "2. \"+\"（一轮的得分）：表示本轮获得的得分是前两轮有效 回合得分的总和。\n",
    "3. \"D\"（一轮的得分）：表示本轮获得的得分是前一轮有效 回合得分的两倍。\n",
    "4. \"C\"（一个操作，这不是一个回合的分数）：表示您获得的最后一个有效 回合的分数是无效的，应该被移除。\n",
    "\n",
    "每一轮的操作都是永久性的，可能会对前一轮和后一轮产生影响。\n",
    "你需要返回你在所有回合中得分的总和。"
   ]
  },
  {
   "cell_type": "markdown",
   "metadata": {},
   "source": [
    "### 题目分析"
   ]
  },
  {
   "cell_type": "markdown",
   "metadata": {},
   "source": [
    "使用栈来解决"
   ]
  },
  {
   "cell_type": "code",
   "execution_count": 2,
   "metadata": {},
   "outputs": [],
   "source": [
    "class Solution:\n",
    "    def calPoints(self, ops) -> int:\n",
    "        ans = 0\n",
    "        my_stack = []\n",
    "        for i in range(len(ops)):\n",
    "            if ops[i] == 'C':\n",
    "                my_stack.pop()\n",
    "            elif ops[i] == 'D':\n",
    "                my_stack.append(my_stack[-1]*2)\n",
    "            elif ops[i] == '+':\n",
    "                last = my_stack.pop()\n",
    "                cur = last + my_stack[-1]\n",
    "                my_stack.append(last)\n",
    "                my_stack.append(cur)\n",
    "            else:\n",
    "                my_stack.append(int(ops[i]))\n",
    "        return sum(my_stack)"
   ]
  }
 ],
 "metadata": {
  "kernelspec": {
   "display_name": "Python 3",
   "language": "python",
   "name": "python3"
  },
  "language_info": {
   "codemirror_mode": {
    "name": "ipython",
    "version": 3
   },
   "file_extension": ".py",
   "mimetype": "text/x-python",
   "name": "python",
   "nbconvert_exporter": "python",
   "pygments_lexer": "ipython3",
   "version": "3.7.4"
  }
 },
 "nbformat": 4,
 "nbformat_minor": 2
}
