{
 "cells": [
  {
   "cell_type": "markdown",
   "metadata": {},
   "source": [
    "### 题目描述"
   ]
  },
  {
   "cell_type": "markdown",
   "metadata": {},
   "source": [
    "给你一个目标数组 target 和一个整数 n。每次迭代，需要从  list = {1,2,3..., n} 中依序读取一个数字。\n",
    "\n",
    "请使用下述操作来构建目标数组 target ：\n",
    "\n",
    "Push：从 list 中读取一个新元素， 并将其推入数组中。\n",
    "Pop：删除数组中的最后一个元素。\n",
    "如果目标数组构建完成，就停止读取更多元素。\n",
    "题目数据保证目标数组严格递增，并且只包含 1 到 n 之间的数字。\n",
    "\n",
    "请返回构建目标数组所用的操作序列。\n",
    "\n",
    "题目数据保证答案是唯一的。"
   ]
  },
  {
   "cell_type": "markdown",
   "metadata": {},
   "source": [
    "### 题目分析"
   ]
  },
  {
   "cell_type": "markdown",
   "metadata": {},
   "source": [
    "使用栈来解决"
   ]
  },
  {
   "cell_type": "code",
   "execution_count": 2,
   "metadata": {},
   "outputs": [],
   "source": [
    "class Solution:\n",
    "    def buildArray(self, target, n: int):\n",
    "        ans = []\n",
    "        source = [value for value in range(1,n+1)]\n",
    "        cur_idx = 0\n",
    "        for i in range(len(source)):\n",
    "            if source[i] == target[cur_idx]:\n",
    "                ans.append(\"Push\")\n",
    "                cur_idx += 1\n",
    "                if cur_idx == len(target):\n",
    "                    return ans\n",
    "            else:\n",
    "                ans.append(\"Push\")\n",
    "                ans.append(\"Pop\")\n",
    "        return ans"
   ]
  }
 ],
 "metadata": {
  "kernelspec": {
   "display_name": "Python 3",
   "language": "python",
   "name": "python3"
  },
  "language_info": {
   "codemirror_mode": {
    "name": "ipython",
    "version": 3
   },
   "file_extension": ".py",
   "mimetype": "text/x-python",
   "name": "python",
   "nbconvert_exporter": "python",
   "pygments_lexer": "ipython3",
   "version": "3.7.4"
  }
 },
 "nbformat": 4,
 "nbformat_minor": 2
}
