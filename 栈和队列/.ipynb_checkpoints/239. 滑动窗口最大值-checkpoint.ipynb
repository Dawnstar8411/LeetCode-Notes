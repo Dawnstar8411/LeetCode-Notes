{
 "cells": [
  {
   "cell_type": "markdown",
   "metadata": {},
   "source": [
    "### 题目描述"
   ]
  },
  {
   "cell_type": "markdown",
   "metadata": {},
   "source": [
    "给定一个数组 nums，有一个大小为 k 的滑动窗口从数组的最左侧移动到数组的最右侧。你只可以看到在滑动窗口内的 k 个数字。滑动窗口每次只向右移动一位。\n",
    "\n",
    "返回滑动窗口中的最大值。"
   ]
  },
  {
   "cell_type": "markdown",
   "metadata": {},
   "source": [
    "### 题目分析"
   ]
  },
  {
   "cell_type": "markdown",
   "metadata": {},
   "source": [
    "参考链接 https://leetcode-cn.com/problems/sliding-window-maximum/\n",
    "\n",
    "单调队列，可在队头和队尾删除元素"
   ]
  },
  {
   "cell_type": "code",
   "execution_count": 1,
   "metadata": {},
   "outputs": [],
   "source": [
    "class Solution:\n",
    "    def maxSlidingWindow(self, nums, k: int):\n",
    "        ans=[]\n",
    "        dqueue = []\n",
    "        for i in range(len(nums)):\n",
    "            while(len(dqueue)>0 and dqueue[-1]<nums[i]):\n",
    "                dqueue.pop()\n",
    "            dqueue.append(nums[i])\n",
    "            if i == k-1:\n",
    "                ans.append(dqueue[0])\n",
    "            elif i>k-1:\n",
    "                if dqueue[0]==nums[i-k]:\n",
    "                    dqueue.pop(0)\n",
    "                ans.append(dqueue[0])\n",
    "        return ans"
   ]
  }
 ],
 "metadata": {
  "kernelspec": {
   "display_name": "Python 3",
   "language": "python",
   "name": "python3"
  },
  "language_info": {
   "codemirror_mode": {
    "name": "ipython",
    "version": 3
   },
   "file_extension": ".py",
   "mimetype": "text/x-python",
   "name": "python",
   "nbconvert_exporter": "python",
   "pygments_lexer": "ipython3",
   "version": "3.7.4"
  }
 },
 "nbformat": 4,
 "nbformat_minor": 2
}
