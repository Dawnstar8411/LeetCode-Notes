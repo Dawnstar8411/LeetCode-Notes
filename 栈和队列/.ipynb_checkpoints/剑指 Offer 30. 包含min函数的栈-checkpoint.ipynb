{
 "cells": [
  {
   "cell_type": "markdown",
   "metadata": {},
   "source": [
    "### 题目描述"
   ]
  },
  {
   "cell_type": "markdown",
   "metadata": {},
   "source": [
    "定义栈的数据结构，请在该类型中实现一个能够得到栈的最小元素的 min 函数在该栈中，调用 min、push 及 pop 的时间复杂度都是 O(1)。"
   ]
  },
  {
   "cell_type": "markdown",
   "metadata": {},
   "source": [
    "### 题目分析"
   ]
  },
  {
   "cell_type": "markdown",
   "metadata": {},
   "source": [
    "使用一个辅助栈来保存对应规模栈的最小值，实现同步进出。当调用min函数是，读取辅助栈的栈顶元素即可"
   ]
  },
  {
   "cell_type": "code",
   "execution_count": 2,
   "metadata": {},
   "outputs": [],
   "source": [
    "class MinStack:\n",
    "\n",
    "    def __init__(self):\n",
    "        \"\"\"\n",
    "        initialize your data structure here.\n",
    "        \"\"\"\n",
    "        self.my_stack = []\n",
    "        self.min_stack = []\n",
    "\n",
    "    def push(self, x: int) -> None:\n",
    "        if len(self.my_stack)== 0:\n",
    "            self.my_stack.append(x)\n",
    "            self.min_stack.append(x)\n",
    "        else:\n",
    "            self.my_stack.append(x)\n",
    "            if self.min_stack[-1]<x:\n",
    "                min_num = self.min_stack[-1]\n",
    "            else:\n",
    "                min_num = x\n",
    "            self.min_stack.append(min_num)\n",
    "\n",
    "    def pop(self) -> None:\n",
    "        self.my_stack.pop()\n",
    "        self.min_stack.pop()\n",
    "\n",
    "    def top(self) -> int:\n",
    "        return self.my_stack[-1]\n",
    "\n",
    "    def min(self) -> int:\n",
    "        return self.min_stack[-1]\n",
    "\n",
    "\n",
    "# Your MinStack object will be instantiated and called as such:\n",
    "# obj = MinStack()\n",
    "# obj.push(x)\n",
    "# obj.pop()\n",
    "# param_3 = obj.top()\n",
    "# param_4 = obj.min()"
   ]
  }
 ],
 "metadata": {
  "kernelspec": {
   "display_name": "Python 3",
   "language": "python",
   "name": "python3"
  },
  "language_info": {
   "codemirror_mode": {
    "name": "ipython",
    "version": 3
   },
   "file_extension": ".py",
   "mimetype": "text/x-python",
   "name": "python",
   "nbconvert_exporter": "python",
   "pygments_lexer": "ipython3",
   "version": "3.7.4"
  }
 },
 "nbformat": 4,
 "nbformat_minor": 2
}
