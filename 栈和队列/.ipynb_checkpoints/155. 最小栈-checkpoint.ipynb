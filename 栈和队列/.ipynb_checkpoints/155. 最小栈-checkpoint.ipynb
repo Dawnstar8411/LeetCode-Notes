{
 "cells": [
  {
   "cell_type": "markdown",
   "metadata": {},
   "source": [
    "### 题目分析"
   ]
  },
  {
   "cell_type": "markdown",
   "metadata": {},
   "source": [
    "设计一个支持 push ，pop ，top 操作，并能在常数时间内检索到最小元素的栈。\n",
    "\n",
    "- push(x) —— 将元素 x 推入栈中。\n",
    "- pop() —— 删除栈顶的元素。\n",
    "- top() —— 获取栈顶元素。\n",
    "- getMin() —— 检索栈中的最小元素。"
   ]
  },
  {
   "cell_type": "markdown",
   "metadata": {},
   "source": [
    "### 题目描述"
   ]
  },
  {
   "cell_type": "markdown",
   "metadata": {},
   "source": [
    "使用一个辅助栈，与栈同步pop与push,辅助栈保存的是当前规模的栈中的最小值"
   ]
  },
  {
   "cell_type": "code",
   "execution_count": 1,
   "metadata": {},
   "outputs": [],
   "source": [
    "class MinStack:\n",
    "\n",
    "    def __init__(self):\n",
    "        \"\"\"\n",
    "        initialize your data structure here.\n",
    "        \"\"\"\n",
    "        self.my_stack = []\n",
    "        self.min_stack = []\n",
    "\n",
    "    def push(self, x: int) -> None:\n",
    "        if len(self.my_stack)== 0:\n",
    "            self.my_stack.append(x)\n",
    "            self.min_stack.append(x)\n",
    "        else:\n",
    "            self.my_stack.append(x)\n",
    "            min_num = min(self.min_stack[-1],x)\n",
    "            self.min_stack.append(min_num)\n",
    "\n",
    "    def pop(self) -> None:\n",
    "        self.my_stack.pop()\n",
    "        self.min_stack.pop()\n",
    "\n",
    "    def top(self) -> int:\n",
    "        return self.my_stack[-1]\n",
    "\n",
    "    def getMin(self) -> int:\n",
    "        return self.min_stack[-1]\n",
    "\n",
    "\n",
    "\n",
    "# Your MinStack object will be instantiated and called as such:\n",
    "# obj = MinStack()\n",
    "# obj.push(x)\n",
    "# obj.pop()\n",
    "# param_3 = obj.top()\n",
    "\n",
    "# param_4 = obj.getMin()"
   ]
  }
 ],
 "metadata": {
  "kernelspec": {
   "display_name": "Python 3",
   "language": "python",
   "name": "python3"
  },
  "language_info": {
   "codemirror_mode": {
    "name": "ipython",
    "version": 3
   },
   "file_extension": ".py",
   "mimetype": "text/x-python",
   "name": "python",
   "nbconvert_exporter": "python",
   "pygments_lexer": "ipython3",
   "version": "3.7.4"
  }
 },
 "nbformat": 4,
 "nbformat_minor": 2
}
