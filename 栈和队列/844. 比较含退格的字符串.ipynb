{
 "cells": [
  {
   "cell_type": "markdown",
   "metadata": {},
   "source": [
    "### 题目描述"
   ]
  },
  {
   "cell_type": "markdown",
   "metadata": {},
   "source": [
    "给定 S 和 T 两个字符串，当它们分别被输入到空白的文本编辑器后，判断二者是否相等，并返回结果。 # 代表退格字符。\n",
    "\n",
    "注意：如果对空文本输入退格字符，文本继续为空。\n"
   ]
  },
  {
   "cell_type": "markdown",
   "metadata": {},
   "source": [
    "### 题目分析"
   ]
  },
  {
   "cell_type": "markdown",
   "metadata": {},
   "source": [
    "使用栈来对操作符挨个处理，最后比较两个字符串处理结果"
   ]
  },
  {
   "cell_type": "code",
   "execution_count": 1,
   "metadata": {},
   "outputs": [],
   "source": [
    "class Solution:\n",
    "    def backspaceCompare(self, S: str, T: str) -> bool:\n",
    "        s_result = []\n",
    "        t_result = []\n",
    "\n",
    "        s_result = self.help_process(list(S))\n",
    "        t_result = self.help_process(list(T))\n",
    "\n",
    "        return s_result == t_result\n",
    "\n",
    "\n",
    "    def help_process(self,data):\n",
    "        stack = []\n",
    "        for i in range(len(data)):\n",
    "            if data[i] is not '#':\n",
    "                stack.append(data[i])\n",
    "            elif data[i] == '#' and len(stack)==0:\n",
    "                continue\n",
    "            else:\n",
    "                stack.pop()\n",
    "        return stack"
   ]
  }
 ],
 "metadata": {
  "kernelspec": {
   "display_name": "Python 3",
   "language": "python",
   "name": "python3"
  },
  "language_info": {
   "codemirror_mode": {
    "name": "ipython",
    "version": 3
   },
   "file_extension": ".py",
   "mimetype": "text/x-python",
   "name": "python",
   "nbconvert_exporter": "python",
   "pygments_lexer": "ipython3",
   "version": "3.7.4"
  }
 },
 "nbformat": 4,
 "nbformat_minor": 2
}
