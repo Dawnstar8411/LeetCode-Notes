{
 "cells": [
  {
   "cell_type": "markdown",
   "metadata": {},
   "source": [
    "### 题目描述"
   ]
  },
  {
   "cell_type": "markdown",
   "metadata": {},
   "source": [
    "给定一个数组 nums 和滑动窗口的大小 k，请找出所有滑动窗口里的最大值。"
   ]
  },
  {
   "cell_type": "markdown",
   "metadata": {},
   "source": [
    "### 题目分析"
   ]
  },
  {
   "cell_type": "markdown",
   "metadata": {},
   "source": [
    "使用单调队列来实现"
   ]
  },
  {
   "cell_type": "code",
   "execution_count": 1,
   "metadata": {},
   "outputs": [],
   "source": [
    "class Solution:\n",
    "    def maxSlidingWindow(self, nums, k: int):\n",
    "        ans=[]\n",
    "        dqueue = []\n",
    "        for i in range(len(nums)):\n",
    "            while(len(dqueue)>0 and dqueue[-1]<nums[i]):\n",
    "                dqueue.pop()\n",
    "            dqueue.append(nums[i])\n",
    "            if i == k-1:\n",
    "                ans.append(dqueue[0])\n",
    "            elif i>k-1:\n",
    "                if dqueue[0]==nums[i-k]:\n",
    "                    dqueue.pop(0)\n",
    "                ans.append(dqueue[0])\n",
    "        return ans"
   ]
  }
 ],
 "metadata": {
  "kernelspec": {
   "display_name": "Python 3",
   "language": "python",
   "name": "python3"
  },
  "language_info": {
   "codemirror_mode": {
    "name": "ipython",
    "version": 3
   },
   "file_extension": ".py",
   "mimetype": "text/x-python",
   "name": "python",
   "nbconvert_exporter": "python",
   "pygments_lexer": "ipython3",
   "version": "3.7.4"
  }
 },
 "nbformat": 4,
 "nbformat_minor": 2
}
