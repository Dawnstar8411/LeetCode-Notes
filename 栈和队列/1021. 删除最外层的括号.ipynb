{
 "cells": [
  {
   "cell_type": "markdown",
   "metadata": {},
   "source": [
    "### 题目描述"
   ]
  },
  {
   "cell_type": "markdown",
   "metadata": {},
   "source": [
    "有效括号字符串为空 (\"\")、\"(\" + A + \")\" 或 A + B，其中 A 和 B 都是有效的括号字符串，+ 代表字符串的连接。例如，\"\"，\"()\"，\"(())()\" 和 \"(()(()))\" 都是有效的括号字符串。\n",
    "\n",
    "如果有效字符串 S 非空，且不存在将其拆分为 S = A+B 的方法，我们称其为原语（primitive），其中 A 和 B 都是非空有效括号字符串。\n",
    "\n",
    "给出一个非空有效字符串 S，考虑将其进行原语化分解，使得：S = P_1 + P_2 + ... + P_k，其中 P_i 是有效括号字符串原语。\n",
    "\n",
    "对 S 进行原语化分解，删除分解中每个原语字符串的最外层括号，返回 S 。"
   ]
  },
  {
   "cell_type": "markdown",
   "metadata": {},
   "source": [
    "### 题目分析"
   ]
  },
  {
   "cell_type": "markdown",
   "metadata": {},
   "source": [
    "使用栈来解决，注意括号嵌套的问题。"
   ]
  },
  {
   "cell_type": "code",
   "execution_count": 1,
   "metadata": {},
   "outputs": [],
   "source": [
    "class Solution:\n",
    "    def removeOuterParentheses(self, S: str) -> str:\n",
    "        ans = []\n",
    "        my_stack = []\n",
    "        S = list(S)\n",
    "        for i in range(len(S)):\n",
    "            if S[i] == '(':\n",
    "                if len(my_stack)==0:\n",
    "                    my_stack.append(S[i])\n",
    "                else:\n",
    "                    my_stack.append(S[i])\n",
    "                    ans.append(S[i])\n",
    "            elif S[i] == \")\":\n",
    "                if len(my_stack)==1:\n",
    "                    my_stack.pop()\n",
    "                else:\n",
    "                    ans.append(')')\n",
    "                    my_stack.pop()\n",
    "        return \"\".join(ans)"
   ]
  }
 ],
 "metadata": {
  "kernelspec": {
   "display_name": "Python 3",
   "language": "python",
   "name": "python3"
  },
  "language_info": {
   "codemirror_mode": {
    "name": "ipython",
    "version": 3
   },
   "file_extension": ".py",
   "mimetype": "text/x-python",
   "name": "python",
   "nbconvert_exporter": "python",
   "pygments_lexer": "ipython3",
   "version": "3.7.4"
  }
 },
 "nbformat": 4,
 "nbformat_minor": 2
}
