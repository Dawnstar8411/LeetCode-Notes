{
 "cells": [
  {
   "cell_type": "markdown",
   "metadata": {},
   "source": [
    "### 题目描述"
   ]
  },
  {
   "cell_type": "markdown",
   "metadata": {},
   "source": [
    "用两个栈实现一个队列。队列的声明如下，请实现它的两个函数 appendTail 和 deleteHead ，分别完成在队列尾部插入整数和在队列头部删除整数的功能。(若队列中没有元素，deleteHead 操作返回 -1 )"
   ]
  },
  {
   "cell_type": "markdown",
   "metadata": {},
   "source": [
    "### 题目分析"
   ]
  },
  {
   "cell_type": "markdown",
   "metadata": {},
   "source": [
    "参考链接 https://labuladong.gitbook.io/algo/shu-ju-jie-gou-xi-lie/dui-lie-shi-xian-zhan-zhan-shi-xian-dui-lie"
   ]
  },
  {
   "cell_type": "code",
   "execution_count": 1,
   "metadata": {},
   "outputs": [],
   "source": [
    "class CQueue:\n",
    "\n",
    "    def __init__(self):\n",
    "        self.stack_1 = []\n",
    "        self.stack_2 = []\n",
    "\n",
    "\n",
    "    def appendTail(self, value: int) -> None:\n",
    "        self.stack_1.append(value)\n",
    "\n",
    "    def deleteHead(self) -> int:\n",
    "        if len(self.stack_1) == 0:\n",
    "            return -1\n",
    "        else:\n",
    "            while(len(self.stack_1)>1):\n",
    "                self.stack_2.append(self.stack_1.pop())\n",
    "            top_elem = self.stack_1.pop()\n",
    "            while(len(self.stack_2)>0):\n",
    "                self.stack_1.append(self.stack_2.pop())\n",
    "            return top_elem\n",
    "\n",
    "\n",
    "\n",
    "# Your CQueue object will be instantiated and called as such:\n",
    "# obj = CQueue()\n",
    "# obj.appendTail(value)\n",
    "# param_2 = obj.deleteHead()"
   ]
  }
 ],
 "metadata": {
  "kernelspec": {
   "display_name": "Python 3",
   "language": "python",
   "name": "python3"
  },
  "language_info": {
   "codemirror_mode": {
    "name": "ipython",
    "version": 3
   },
   "file_extension": ".py",
   "mimetype": "text/x-python",
   "name": "python",
   "nbconvert_exporter": "python",
   "pygments_lexer": "ipython3",
   "version": "3.7.4"
  }
 },
 "nbformat": 4,
 "nbformat_minor": 2
}
