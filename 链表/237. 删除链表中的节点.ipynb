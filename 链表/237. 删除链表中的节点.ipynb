{
 "cells": [
  {
   "cell_type": "markdown",
   "metadata": {},
   "source": [
    "### 算法描述"
   ]
  },
  {
   "cell_type": "markdown",
   "metadata": {},
   "source": [
    "请编写一个函数，使其可以删除掉某个链表中给定的（非末尾）节点，你只将被给定要求被删除的节点。\n",
    "- 链表至少包含两个节点\n",
    "- 链表中所有节点的值都是唯一的\n",
    "- 给定的节点为非末尾节点并且一定是链表中的一个有效节点\n",
    "- 不要从你的函数中返回任何结果"
   ]
  },
  {
   "cell_type": "markdown",
   "metadata": {},
   "source": [
    "### 算法分析"
   ]
  },
  {
   "cell_type": "markdown",
   "metadata": {},
   "source": [
    "一般来说，删除链表中一个节点的做法是将其前一个节点链接到其后一个节点，但是这道题目中没做将链表头节点传进来，而链表又是单项链表，我们无法获知被删除节点的上一个节点是什么。所以，需要被删除节点后面的节点的值依次前移，并将链表最后一个节点删除。"
   ]
  },
  {
   "cell_type": "code",
   "execution_count": 1,
   "metadata": {},
   "outputs": [],
   "source": [
    "class Solution:\n",
    "    def deleteNode(self, node):\n",
    "        \"\"\"\n",
    "        :type node: ListNode\n",
    "        :rtype: void Do not return anything, modify node in-place instead.\n",
    "        \"\"\"\n",
    "        while node.next is not None:\n",
    "            temp = node\n",
    "            node.val = node.next.val\n",
    "            node = node.next\n",
    "        temp.next = None"
   ]
  }
 ],
 "metadata": {
  "kernelspec": {
   "display_name": "Python 3",
   "language": "python",
   "name": "python3"
  },
  "language_info": {
   "codemirror_mode": {
    "name": "ipython",
    "version": 3
   },
   "file_extension": ".py",
   "mimetype": "text/x-python",
   "name": "python",
   "nbconvert_exporter": "python",
   "pygments_lexer": "ipython3",
   "version": "3.7.4"
  }
 },
 "nbformat": 4,
 "nbformat_minor": 2
}
