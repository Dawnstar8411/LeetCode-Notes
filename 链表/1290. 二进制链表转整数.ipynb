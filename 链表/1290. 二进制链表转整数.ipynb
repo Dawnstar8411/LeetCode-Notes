{
 "cells": [
  {
   "cell_type": "markdown",
   "metadata": {},
   "source": [
    "### 问题描述"
   ]
  },
  {
   "cell_type": "markdown",
   "metadata": {},
   "source": [
    "给你一个单链表的引用结点`node`。链表中的每个结点的值不是0就是1。已知此链表是一个整数数字的二进制表示形式。请你返回该链表所表示数字的十进制值。\n",
    "\n",
    "实例：\n",
    "\n",
    "> 输入：head = [1,0,1]\\\n",
    "  输出：5"
   ]
  },
  {
   "cell_type": "markdown",
   "metadata": {},
   "source": [
    "### 问题分析"
   ]
  },
  {
   "cell_type": "markdown",
   "metadata": {},
   "source": [
    "暴力解法是先遍历一遍链表，得到链表的长度，从而知道链表每一位的量级。再从头遍历一遍链表，计算十进制数。 如果想只遍历一次链表的话，链表每前进一步，都将之前的十进制数乘以2，在于该位的数字相加。时间复杂度：$O(N)$,空间复杂度：$O(1)$"
   ]
  },
  {
   "cell_type": "code",
   "execution_count": null,
   "metadata": {},
   "outputs": [],
   "source": [
    "class Solution:\n",
    "    def getDecimalValue(self, head: ListNode) -> int:\n",
    "        ans = head.val\n",
    "        while head.next is not None:\n",
    "            head = head.next \n",
    "            ans *= 2\n",
    "            ans += head.val\n",
    "        return ans"
   ]
  }
 ],
 "metadata": {
  "kernelspec": {
   "display_name": "Python 3",
   "language": "python",
   "name": "python3"
  },
  "language_info": {
   "codemirror_mode": {
    "name": "ipython",
    "version": 3
   },
   "file_extension": ".py",
   "mimetype": "text/x-python",
   "name": "python",
   "nbconvert_exporter": "python",
   "pygments_lexer": "ipython3",
   "version": "3.7.4"
  }
 },
 "nbformat": 4,
 "nbformat_minor": 2
}
