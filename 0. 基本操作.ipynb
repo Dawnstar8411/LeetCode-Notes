{
 "cells": [
  {
   "cell_type": "markdown",
   "metadata": {},
   "source": [
    "## 1. 时空复杂度分析"
   ]
  },
  {
   "cell_type": "markdown",
   "metadata": {},
   "source": [
    "### 时间复杂度"
   ]
  },
  {
   "cell_type": "markdown",
   "metadata": {},
   "source": [
    "一般情况下，算法中基本操作重复执行的次数是问题规模$n$的某个函数，用$T(n)$来表示。若有某个辅助函数$f(n)$,使得当$n$趋近于无穷大时，$T(n)/f(n)$的极限值为不等于零的常数，则称$f(n)$是$T(n)$的同量级函数，记作$T(n)=O(f(n))$,称$O(f(n))$为算法的时间复杂度。当$n$趋于正无穷时，$T(n)$的上界是$C*f(n)$,虽然对$f(n)$没有规定，但是一般都取尽可能简单的函数。大$O$符号里隐含着一个常数$C$,因此$f(n)$一般不加系数。"
   ]
  },
  {
   "cell_type": "markdown",
   "metadata": {},
   "source": [
    "**求解算法时间复杂度的具体步骤是**：\n",
    "\n",
    "1) 找出算法中的基本语句\n",
    "\n",
    "算法中执行次数最多的那条语句就是基本语句，通常是内层循环的循环体。\n",
    "\n",
    "2) 计算基本语句的执行次数的数量级\n",
    "\n",
    "只要保证基本语句执行次数的函数中的最高次幂正确即可。\n",
    "\n",
    "3) 用大$O$记号表示算法的时间性能\n",
    "\n",
    "将基本语句执行次数的数量级放入大$O$记号中。"
   ]
  },
  {
   "cell_type": "markdown",
   "metadata": {},
   "source": [
    "**按数量级递增排列，常见的时间复杂度有**:\n",
    "- 常数阶$O(1)$\n",
    "- 对数阶$O(\\log_2n)$\n",
    "- 线性阶$O(n)$\n",
    "- 线性对数阶$O(n\\log_2n)$\n",
    "- 平方阶$O(n^2)$\n",
    "- 立方阶$O(n^3)$\n",
    "- k次方阶$O(n^k)$\n",
    "- 指数阶$O(2^n)$\n",
    "- 阶乘阶$O(n!)$\n",
    "\n",
    "$O(1)$表示基本语句的执行次数和$n$无关，是一个常数，一般来说，只要算法中不存在循环语句，其时间复杂度就是$O(1)$。$O(\\log_2n),O(n),O(n\\log_2n),O(n^2),O(n^3)$称为多项式时间，这类问题称作P(Polynomial)类问题；$O(2^n),O(n!)$称为指数时间，这类问题称为NP(Non-Deterministic Polynomial)问题。有些问题没有多项式时间的解，但是可以在多项式时间里验证某个猜测是不是正确，可以在多项式时间内验证一个\"解\"是否正确，这类问题叫做NP问题。"
   ]
  },
  {
   "cell_type": "markdown",
   "metadata": {},
   "source": [
    "### 空间复杂度"
   ]
  },
  {
   "cell_type": "markdown",
   "metadata": {},
   "source": [
    "一个算法的空间复杂度$S(n)$定义为该算法所耗费的存储空间，其是问题规模n的函数。其描述的是一个算法在运行过程中临时占用存储空间的大小。"
   ]
  },
  {
   "cell_type": "markdown",
   "metadata": {},
   "source": [
    "### 常用算法的时空复杂度"
   ]
  },
  {
   "cell_type": "markdown",
   "metadata": {},
   "source": [
    "|排序算法|平均时间复杂度|最差时间复杂度|平均空间复杂度|稳定度|备注|\n",
    "|:----|:------|:----|:----|:----|:----|\n",
    "|冒泡排序|$O(n^2)$|$O(n^2)$|$O(1)$|稳定|n小时较好|\n",
    "|交换排序|$O(n^2)$|$O(n^2)$|$O(1)$|不稳定|n小时较好|\n",
    "|选择排序|$O(n^2)$|$O(n^2)$|$O(1)$|不稳定|n小时较好|\n",
    "|插入排序|$O(n^2)$|$O(n^2)$|$O(1)$|稳定|大部分已排序时较好|\n",
    "|基数排序|$O(\\log_RB)$|$O(\\log_RB)$|$O(n)$|稳定|B(0-9),R(个十百)|\n",
    "|Shell|$O(n\\log n)$|$O(n^s)$|$O(1)$|不稳定|s是所选分组,$s\\in(1,2)$|\n",
    "|快速排序|$O(n\\log n)$|$O(n^2)$|$O(n\\log n)$|不稳定|n大时较好|\n",
    "|归并排序|$O(n\\log n)$|$O(n\\log n)$|$O(1)$|稳定|n大时较好|\n",
    "|堆排序|$O(n\\log n)$|$O(n\\log n)$|$O(1)$|不稳定|n大时较好|"
   ]
  },
  {
   "cell_type": "markdown",
   "metadata": {},
   "source": [
    "## 2. 数据结构python基本操作"
   ]
  },
  {
   "cell_type": "markdown",
   "metadata": {},
   "source": [
    "### 列表"
   ]
  },
  {
   "cell_type": "markdown",
   "metadata": {},
   "source": [
    "求长度： N = len(A)\n",
    "\n",
    "创建列表： B = [0] * N\n",
    "\n",
    "列表中循环操作： [x+1 for x in A]\n",
    "\n",
    "构建哈希表：D = {y:x for x,y in enumerate(B)}\n",
    "\n",
    "构建无序不重复集合：A = set(B)\n",
    "\n",
    "列表排序： A.sort(), 没有返回值，对A本身进行排序\n",
    "\n",
    "列表添加元素： ans.append(val)"
   ]
  },
  {
   "cell_type": "markdown",
   "metadata": {},
   "source": [
    "### 数学"
   ]
  },
  {
   "cell_type": "markdown",
   "metadata": {},
   "source": [
    "**求一个整数N有多少位**：\n",
    "\n",
    "1）使用除10法求数字的位数，当数字大于0时，计数加1并且除以10\n",
    "\n",
    "```\n",
    "k = 0\n",
    "while(N>0):\n",
    "   k++\n",
    "   N /= 10\n",
    "```\n",
    "\n",
    "2) 将数字$N$转换成字符串，直接求字符串的长度，这种方法简单明了，但是不如第一种方法好。\n",
    "\n",
    "```\n",
    "k = len(str(N)\n",
    "```\n",
    "\n",
    "3) 使用以10为底的对数函数$\\log10()$。整数的位数$k$为$\\log10(x)+1$向下取整"
   ]
  },
  {
   "cell_type": "markdown",
   "metadata": {},
   "source": [
    "**求一个整数的每一位的数字**：\n",
    "\n",
    "while循环，判断条件为$N>0$。N对10取余操作可以得到末位的数字，用N除以10可以去除掉末位的数字。"
   ]
  },
  {
   "cell_type": "markdown",
   "metadata": {},
   "source": [
    "### 字符串"
   ]
  },
  {
   "cell_type": "markdown",
   "metadata": {},
   "source": [
    "字符串长度： len(S)\n",
    "\n",
    "新建空字符串： ans = ‘’\n",
    "\n",
    "字符串添加新元素： ans+=S[i]"
   ]
  },
  {
   "cell_type": "code",
   "execution_count": null,
   "metadata": {},
   "outputs": [],
   "source": []
  }
 ],
 "metadata": {
  "kernelspec": {
   "display_name": "Python 3",
   "language": "python",
   "name": "python3"
  },
  "language_info": {
   "codemirror_mode": {
    "name": "ipython",
    "version": 3
   },
   "file_extension": ".py",
   "mimetype": "text/x-python",
   "name": "python",
   "nbconvert_exporter": "python",
   "pygments_lexer": "ipython3",
   "version": "3.7.4"
  }
 },
 "nbformat": 4,
 "nbformat_minor": 2
}
