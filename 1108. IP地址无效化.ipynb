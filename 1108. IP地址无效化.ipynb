{
 "cells": [
  {
   "cell_type": "markdown",
   "metadata": {},
   "source": [
    "### 问题描述"
   ]
  },
  {
   "cell_type": "markdown",
   "metadata": {},
   "source": [
    "给你一个有效地`IPV4`地址`address`,返回这个IP地址的无效化版本。所谓无效化IP地址，其实就是用`\"[.]\"`代替了每个`\".\"`\n",
    "\n",
    "示例：\n",
    "\n",
    "> 输入： address = \"1.1.1.1\"\\\n",
    "  输出： \"1[.]1[.]1[.]1\""
   ]
  },
  {
   "cell_type": "markdown",
   "metadata": {},
   "source": [
    "### 问题分析"
   ]
  },
  {
   "cell_type": "markdown",
   "metadata": {},
   "source": [
    "新建一个空字符串，遍历输入字符串，如果不是`.`，将字符添加到新建的字符串中，如果是`.`,将`[.]`添加到新建的字符串中。时间复杂度：$O(N)$,空间复杂度：$O(1)$\n",
    "\n",
    "```\n",
    "class Solution:\n",
    "    def defangIPaddr(self, address: str) -> str:\n",
    "        N = len(address)\n",
    "        ans = ''\n",
    "        for i in range(N):\n",
    "            if address[i] == '.':\n",
    "                ans += \"[.]\"\n",
    "            else:\n",
    "                ans += address[i]\n",
    "        return ans\n",
    "```"
   ]
  }
 ],
 "metadata": {
  "kernelspec": {
   "display_name": "Python 3",
   "language": "python",
   "name": "python3"
  },
  "language_info": {
   "codemirror_mode": {
    "name": "ipython",
    "version": 3
   },
   "file_extension": ".py",
   "mimetype": "text/x-python",
   "name": "python",
   "nbconvert_exporter": "python",
   "pygments_lexer": "ipython3",
   "version": "3.7.4"
  }
 },
 "nbformat": 4,
 "nbformat_minor": 2
}
