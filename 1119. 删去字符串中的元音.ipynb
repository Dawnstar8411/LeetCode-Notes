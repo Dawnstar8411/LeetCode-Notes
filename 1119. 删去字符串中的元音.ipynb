{
 "cells": [
  {
   "cell_type": "markdown",
   "metadata": {},
   "source": [
    "### 问题描述"
   ]
  },
  {
   "cell_type": "markdown",
   "metadata": {},
   "source": [
    "给你一个字符串$S$，请你删去其中的所有元音字母（’a','e','i','o','u'）,并返回这个新字符串\n",
    "\n",
    "示例：\n",
    "\n",
    "> 输入：\"leetcodeisacommunityforcoders\"\\\n",
    "  输出：\"ltcdscmmntyfrcdrs\"\n",
    "  \n",
    "> 输入：\"aeiou\"\\\n",
    "  输出：\"\""
   ]
  },
  {
   "cell_type": "markdown",
   "metadata": {},
   "source": [
    "### 问题分析"
   ]
  },
  {
   "cell_type": "markdown",
   "metadata": {},
   "source": [
    "将字符串看做一个列表，for循环挨个判断。时间复杂度：$O(N)$,空间复杂度$O(N)$"
   ]
  },
  {
   "cell_type": "markdown",
   "metadata": {},
   "source": [
    "```\n",
    "class Solution:\n",
    "    def removeVowels(self, S: str) -> str:\n",
    "        N = len(S)\n",
    "        ans = ''\n",
    "        for i in range(N):\n",
    "            if S[i] not in \"aeiou\":\n",
    "                ans += S[i]\n",
    "        return ans\n",
    "```"
   ]
  }
 ],
 "metadata": {
  "kernelspec": {
   "display_name": "Python 3",
   "language": "python",
   "name": "python3"
  },
  "language_info": {
   "codemirror_mode": {
    "name": "ipython",
    "version": 3
   },
   "file_extension": ".py",
   "mimetype": "text/x-python",
   "name": "python",
   "nbconvert_exporter": "python",
   "pygments_lexer": "ipython3",
   "version": "3.7.4"
  }
 },
 "nbformat": 4,
 "nbformat_minor": 2
}
