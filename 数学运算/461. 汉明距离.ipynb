{
 "cells": [
  {
   "cell_type": "markdown",
   "metadata": {},
   "source": [
    "### 题目描述"
   ]
  },
  {
   "cell_type": "markdown",
   "metadata": {},
   "source": [
    "两个整数之间的`汉明距离`是指这两个数字对应二进制位不同的位置的数目。给出两个整数`x`和`y`，计算它们之间的汉明距离。"
   ]
  },
  {
   "cell_type": "markdown",
   "metadata": {},
   "source": [
    "### 题目分析"
   ]
  },
  {
   "cell_type": "markdown",
   "metadata": {},
   "source": [
    "方法一： 对`x`和`y`进行异或操作，统计得到的二进制表示中`1`的个数。可以使用内置函数`bin(x^y).count('1')`，也可以把二进制数转化成字符串再逐个判断。"
   ]
  },
  {
   "cell_type": "code",
   "execution_count": 1,
   "metadata": {},
   "outputs": [],
   "source": [
    "class Solution:\n",
    "    def hammingDistance(self, x: int, y: int) -> int:\n",
    "        num = 0\n",
    "        ans = str(bin(x^y))\n",
    "        for i in range(2,len(ans)):\n",
    "            if ans[i] == '1':\n",
    "                num+=1\n",
    "        return num"
   ]
  },
  {
   "cell_type": "markdown",
   "metadata": {},
   "source": [
    "方法二：采用右移位操作，然后对最右面的一位进行判断。"
   ]
  },
  {
   "cell_type": "code",
   "execution_count": 2,
   "metadata": {},
   "outputs": [],
   "source": [
    "class Solution:\n",
    "    def hammingDistance(self, x: int, y: int) -> int:\n",
    "        num = 0\n",
    "        xor = x^y\n",
    "        while xor:\n",
    "            if xor %2 ==1:\n",
    "                num +=1\n",
    "            xor = xor>>1\n",
    "        return num"
   ]
  },
  {
   "cell_type": "markdown",
   "metadata": {},
   "source": [
    "方法三： 布莱恩·克尼根算法，当对数字`number`和`number-1`上做`按位与`运算时,数字`number`最右的一位`1`会被移除。这样每次移除一个`1`,直到`number`变为0为止。"
   ]
  },
  {
   "cell_type": "code",
   "execution_count": 3,
   "metadata": {},
   "outputs": [],
   "source": [
    "class Solution:\n",
    "    def hammingDistance(self, x: int, y: int) -> int:\n",
    "        num = 0\n",
    "        xor = x^y\n",
    "        while xor:\n",
    "            num+=1\n",
    "            xor = xor & (xor-1)\n",
    "        return num"
   ]
  }
 ],
 "metadata": {
  "kernelspec": {
   "display_name": "Python 3",
   "language": "python",
   "name": "python3"
  },
  "language_info": {
   "codemirror_mode": {
    "name": "ipython",
    "version": 3
   },
   "file_extension": ".py",
   "mimetype": "text/x-python",
   "name": "python",
   "nbconvert_exporter": "python",
   "pygments_lexer": "ipython3",
   "version": "3.7.4"
  }
 },
 "nbformat": 4,
 "nbformat_minor": 2
}
