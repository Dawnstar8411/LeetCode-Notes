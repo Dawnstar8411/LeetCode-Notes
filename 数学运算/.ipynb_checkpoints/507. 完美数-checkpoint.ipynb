{
 "cells": [
  {
   "cell_type": "markdown",
   "metadata": {},
   "source": [
    "### 题目描述"
   ]
  },
  {
   "cell_type": "markdown",
   "metadata": {},
   "source": [
    "对于一个正整数，如果它和除了它自身之外的所有正因子之和相等，我们称它为完美数。给定一个整数`n`，如果他是完美数，返回`True`,否则返回`False`。"
   ]
  },
  {
   "cell_type": "markdown",
   "metadata": {},
   "source": [
    "### 题目分析"
   ]
  },
  {
   "cell_type": "code",
   "execution_count": 1,
   "metadata": {},
   "outputs": [],
   "source": [
    "class Solution:\n",
    "    def checkPerfectNumber(self, num: int) -> bool:\n",
    "        if num < 6:\n",
    "            return False\n",
    "        \n",
    "        n = 1\n",
    "        \n",
    "        for i in range(2, int(sqrt(num))+1):\n",
    "            if num%i==0:\n",
    "                n = n + i + num//i\n",
    "        return num==n"
   ]
  }
 ],
 "metadata": {
  "kernelspec": {
   "display_name": "Python 3",
   "language": "python",
   "name": "python3"
  },
  "language_info": {
   "codemirror_mode": {
    "name": "ipython",
    "version": 3
   },
   "file_extension": ".py",
   "mimetype": "text/x-python",
   "name": "python",
   "nbconvert_exporter": "python",
   "pygments_lexer": "ipython3",
   "version": "3.7.4"
  }
 },
 "nbformat": 4,
 "nbformat_minor": 2
}
