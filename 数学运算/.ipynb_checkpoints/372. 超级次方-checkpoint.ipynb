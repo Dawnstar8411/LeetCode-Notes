{
 "cells": [
  {
   "cell_type": "markdown",
   "metadata": {},
   "source": [
    "### 题目描述"
   ]
  },
  {
   "cell_type": "markdown",
   "metadata": {},
   "source": [
    "你的任务是计算$a^b$对 1337 取模，a 是一个正整数，b 是一个非常大的正整数且会以数组形式给出。"
   ]
  },
  {
   "cell_type": "markdown",
   "metadata": {},
   "source": [
    "### 题目分析"
   ]
  },
  {
   "cell_type": "markdown",
   "metadata": {},
   "source": [
    "使用到了递归的策略，详细解法看链接https://labuladong.gitbook.io/algo/gao-pin-mian-shi-xi-lie/superpower"
   ]
  },
  {
   "cell_type": "code",
   "execution_count": null,
   "metadata": {},
   "outputs": [],
   "source": [
    "class Solution:\n",
    "    def myPow(self, a:int, k:int):\n",
    "        if k==0:\n",
    "            return 1\n",
    "        a %= 1337\n",
    "        if k%2==1:\n",
    "            return (a*self.myPow(a, k-1)) % 1337\n",
    "        else:\n",
    "            sub = self.myPow(a, k//2)\n",
    "            return (sub*sub) % 1337\n",
    "\n",
    "    def superPow(self, a: int, b: List[int])-->int:\n",
    "        if len(b)==0:\n",
    "            return 1\n",
    "        last = b[-1]\n",
    "        b.pop()\n",
    "        part1 = self.myPow(a,last)\n",
    "        part2 = self.myPow(self.superPow(a,b),10)\n",
    "        return (part1 * part2) % 1337"
   ]
  }
 ],
 "metadata": {
  "kernelspec": {
   "display_name": "Python 3",
   "language": "python",
   "name": "python3"
  },
  "language_info": {
   "codemirror_mode": {
    "name": "ipython",
    "version": 3
   },
   "file_extension": ".py",
   "mimetype": "text/x-python",
   "name": "python",
   "nbconvert_exporter": "python",
   "pygments_lexer": "ipython3",
   "version": "3.7.4"
  }
 },
 "nbformat": 4,
 "nbformat_minor": 2
}
