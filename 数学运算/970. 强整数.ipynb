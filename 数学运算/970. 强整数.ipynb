{
 "cells": [
  {
   "cell_type": "markdown",
   "metadata": {},
   "source": [
    "### 题目描述"
   ]
  },
  {
   "cell_type": "markdown",
   "metadata": {},
   "source": [
    "给定两个数`x`和`y`，如果某一个整数等于$x^i+y^j$，其中整数`i>=0`且`j>=0`，那么我们认为该整数是一个强整数。返回值小于或等于`bound`的所有强整数组成的列表。可以按照任意顺序返回答案，在返回的列表中，每个值最多出现一次。\n",
    "\n",
    "- 1<= x <=100\n",
    "- 1<= y <=100\n",
    "- 0<= bound <=10^6"
   ]
  },
  {
   "cell_type": "markdown",
   "metadata": {},
   "source": [
    "### 题目分析"
   ]
  },
  {
   "cell_type": "markdown",
   "metadata": {},
   "source": [
    "要根据bound的范围确定i和j的最大值不超过19。另外为了保证每个值只出现一次，要用到哈希表来进行重复判断。"
   ]
  },
  {
   "cell_type": "code",
   "execution_count": 1,
   "metadata": {},
   "outputs": [],
   "source": [
    "class Solution:\n",
    "    def powerfulIntegers(self, x: int, y: int, bound: int):\n",
    "        ans = []\n",
    "        conflic = {}\n",
    "        val_x = [x**i for i in range(20)]\n",
    "        val_y = [y**j for j in range(20)]\n",
    "        for i in range(20):\n",
    "            for j in range(20):\n",
    "                num = val_x[i]+val_y[j]\n",
    "                if num<=bound:\n",
    "                    if num not in conflic:\n",
    "                        conflic[num] = 1\n",
    "                        ans.append(num)\n",
    "        return ans"
   ]
  }
 ],
 "metadata": {
  "kernelspec": {
   "display_name": "Python 3",
   "language": "python",
   "name": "python3"
  },
  "language_info": {
   "codemirror_mode": {
    "name": "ipython",
    "version": 3
   },
   "file_extension": ".py",
   "mimetype": "text/x-python",
   "name": "python",
   "nbconvert_exporter": "python",
   "pygments_lexer": "ipython3",
   "version": "3.7.4"
  }
 },
 "nbformat": 4,
 "nbformat_minor": 2
}
