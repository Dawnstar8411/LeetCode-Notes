{
 "cells": [
  {
   "cell_type": "markdown",
   "metadata": {},
   "source": [
    "### 题目描述"
   ]
  },
  {
   "cell_type": "markdown",
   "metadata": {},
   "source": [
    "统计所有小于非负整数 n 的质数的数量。"
   ]
  },
  {
   "cell_type": "markdown",
   "metadata": {},
   "source": [
    "### 题目分析"
   ]
  },
  {
   "cell_type": "markdown",
   "metadata": {},
   "source": [
    "参考https://labuladong.gitbook.io/algo/gao-pin-mian-shi-xi-lie/da-yin-su-shu 其操作数应该是：\n",
    "n/2 + n/3 + n/5 + n/7 + ... = n × (1/2 + 1/3 + 1/5 + 1/7...)，括号中是素数的倒数。其最终结果是 O(N * loglogN)"
   ]
  },
  {
   "cell_type": "code",
   "execution_count": 2,
   "metadata": {},
   "outputs": [],
   "source": [
    "class Solution:\n",
    "    def countPrimes(self, n: int) -> int:\n",
    "        isPrimes = [1] * n\n",
    "        for i in range(2,int(sqrt(n)+1)):\n",
    "            if isPrimes[i] == 1:\n",
    "                for j in range(i*i,n,i):\n",
    "                    isPrimes[j] = 0\n",
    "        count = 0\n",
    "        for i in range(2,n):\n",
    "            if isPrimes[i] == 1:\n",
    "                count+=1\n",
    "        return count            "
   ]
  }
 ],
 "metadata": {
  "kernelspec": {
   "display_name": "Python 3",
   "language": "python",
   "name": "python3"
  },
  "language_info": {
   "codemirror_mode": {
    "name": "ipython",
    "version": 3
   },
   "file_extension": ".py",
   "mimetype": "text/x-python",
   "name": "python",
   "nbconvert_exporter": "python",
   "pygments_lexer": "ipython3",
   "version": "3.7.4"
  }
 },
 "nbformat": 4,
 "nbformat_minor": 2
}
