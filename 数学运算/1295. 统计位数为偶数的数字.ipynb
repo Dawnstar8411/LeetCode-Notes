{
 "cells": [
  {
   "cell_type": "markdown",
   "metadata": {},
   "source": [
    "### 问题描述"
   ]
  },
  {
   "cell_type": "markdown",
   "metadata": {},
   "source": [
    "给你一个整数数组$nums$,请你返回其中**位数为偶数**的数字的个数\n",
    "\n",
    "实例：\n",
    "\n",
    "> 输入: nums = [12,345,2,6,7896]\\\n",
    "  输出: 2\n",
    "  \n",
    "> 输入: nums = [555,901,482,1771]\\\n",
    "  输出：1\n",
    "  \n",
    "提示：\n",
    "\n",
    "1) $1 \\leq nums.length \\leq 500$\n",
    "\n",
    "2) $1 \\leq nums[i] \\leq 10^5$"
   ]
  },
  {
   "cell_type": "markdown",
   "metadata": {},
   "source": [
    "### 问题分析"
   ]
  },
  {
   "cell_type": "markdown",
   "metadata": {},
   "source": [
    "字符串，时间复杂度$O(N)$，空间复杂度$O(1)$："
   ]
  },
  {
   "cell_type": "code",
   "execution_count": 1,
   "metadata": {},
   "outputs": [],
   "source": [
    "class Solution:\n",
    "    def findNumbers(self, nums) -> int:\n",
    "        return sum(1 for num in nums if len(str(num)) % 2 == 0)"
   ]
  },
  {
   "cell_type": "markdown",
   "metadata": {},
   "source": [
    "对数函数，时间复杂度$O(N)$，空间复杂度$O(1)$："
   ]
  },
  {
   "cell_type": "code",
   "execution_count": 2,
   "metadata": {},
   "outputs": [],
   "source": [
    "class Solution:\n",
    "    def findNumbers(self, nums) -> int:\n",
    "        return sum(1 for num in nums if int(math.log10(num) + 1) % 2 == 0)"
   ]
  }
 ],
 "metadata": {
  "kernelspec": {
   "display_name": "Python 3",
   "language": "python",
   "name": "python3"
  },
  "language_info": {
   "codemirror_mode": {
    "name": "ipython",
    "version": 3
   },
   "file_extension": ".py",
   "mimetype": "text/x-python",
   "name": "python",
   "nbconvert_exporter": "python",
   "pygments_lexer": "ipython3",
   "version": "3.7.4"
  }
 },
 "nbformat": 4,
 "nbformat_minor": 2
}
