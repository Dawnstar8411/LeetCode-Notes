{
 "cells": [
  {
   "cell_type": "markdown",
   "metadata": {},
   "source": [
    "### 题目描述"
   ]
  },
  {
   "cell_type": "markdown",
   "metadata": {},
   "source": [
    "斐波那契数列， $f(0)=0, f(1)=1, f(n)=f(n-1)+f(n-2)$。给定$n$,计算$f(n)$"
   ]
  },
  {
   "cell_type": "markdown",
   "metadata": {},
   "source": [
    "### 题目分析"
   ]
  },
  {
   "cell_type": "markdown",
   "metadata": {},
   "source": [
    "方法一：\n",
    "\n",
    "   暴力递归。时间复杂度$O(2^n)$,空间复杂度$O(n)$"
   ]
  },
  {
   "cell_type": "code",
   "execution_count": 1,
   "metadata": {},
   "outputs": [],
   "source": [
    "class Solution:\n",
    "    def fib(self, N: int) -> int:\n",
    "        if (N<=1):\n",
    "            return N\n",
    "        return self.fib(N-1)+self.fib(N-2)"
   ]
  },
  {
   "cell_type": "markdown",
   "metadata": {},
   "source": [
    "方法二：\n",
    "\n",
    "备忘录/哈希表递归。\n",
    "\n",
    "通过画出递归树可以得知，里面有很多重叠子问题，这些子问题每次被调用都要重新计算一遍，增加了时间消耗，可以采用备忘录来存储已经求得的子问题结果。时间复杂度$O(n)$,空间复杂度$O(n)$"
   ]
  },
  {
   "cell_type": "code",
   "execution_count": 2,
   "metadata": {},
   "outputs": [],
   "source": [
    "class Solution:\n",
    "    def fib(self, N: int) -> int:\n",
    "        if (N<=1):\n",
    "            return N\n",
    "        self.memory = [-1] * (N+1)\n",
    "        self.memory[0]=0\n",
    "        self.memory[1]=1\n",
    "        return self.helper(N)\n",
    "\n",
    "    def helper(self, N:int):\n",
    "        if self.memory[N] != -1:\n",
    "            return self.memory[N]\n",
    "        self.memory[N] = self.helper(N-1)+self.helper(N-2)\n",
    "        return self.memory[N]"
   ]
  },
  {
   "cell_type": "code",
   "execution_count": 3,
   "metadata": {},
   "outputs": [],
   "source": [
    "class Solution:\n",
    "    def fib(self, N: int) -> int:\n",
    "        if (N<=1):\n",
    "            return N\n",
    "        self.memory = {0:0,1:1}\n",
    "        return self.helper(N)\n",
    "\n",
    "    def helper(self, N:int):\n",
    "        if N in self.memory.keys():\n",
    "            return self.memory[N]\n",
    "        self.memory[N] = self.helper(N-1)+self.helper(N-2)\n",
    "        return self.memory[N]"
   ]
  },
  {
   "cell_type": "markdown",
   "metadata": {},
   "source": [
    "方法三：\n",
    "\n",
    "自底向上迭代，时间复杂度$O(n)$，空间复杂度$O(1)$"
   ]
  },
  {
   "cell_type": "code",
   "execution_count": 4,
   "metadata": {},
   "outputs": [],
   "source": [
    "class Solution:\n",
    "    def fib(self, N: int) -> int:\n",
    "        ans_1 = 1\n",
    "        ans_2 = 0\n",
    "        for i in range(N-1):\n",
    "            ans = ans_1+ans_2\n",
    "            ans_2 = ans_1\n",
    "            ans_1 = ans\n",
    "        return ans "
   ]
  },
  {
   "cell_type": "markdown",
   "metadata": {},
   "source": [
    "方法四：\n",
    "\n",
    "基于DP table的自底向上迭代方法，时间复杂度$O(n)$，空间复杂度$O(n)$"
   ]
  },
  {
   "cell_type": "code",
   "execution_count": 5,
   "metadata": {},
   "outputs": [],
   "source": [
    "class Solution:\n",
    "    def fib(self, N: int) -> int:\n",
    "        memory = [0] * (N+1)\n",
    "        memory[1] = 1\n",
    "        for i in range(2,N+1):\n",
    "            memory[i] = memory[i-1] + memory[i-2]\n",
    "        return memory[N]"
   ]
  },
  {
   "cell_type": "markdown",
   "metadata": {},
   "source": [
    "方法五：\n",
    "\n",
    "公式法，$a_n = \\frac{1}{\\sqrt 5}[(\\frac{1+\\sqrt 5}{2})^n-(\\frac{1-\\sqrt 5}{2})^n]$  时间复杂度$O(1)$,空间复杂度$O(1)$"
   ]
  },
  {
   "cell_type": "markdown",
   "metadata": {},
   "source": [
    "方法六：\n",
    "\n",
    "斐波那契数列矩阵方程，对矩阵求幂"
   ]
  }
 ],
 "metadata": {
  "kernelspec": {
   "display_name": "Python 3",
   "language": "python",
   "name": "python3"
  },
  "language_info": {
   "codemirror_mode": {
    "name": "ipython",
    "version": 3
   },
   "file_extension": ".py",
   "mimetype": "text/x-python",
   "name": "python",
   "nbconvert_exporter": "python",
   "pygments_lexer": "ipython3",
   "version": "3.7.4"
  }
 },
 "nbformat": 4,
 "nbformat_minor": 2
}
