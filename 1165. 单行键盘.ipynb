{
 "cells": [
  {
   "cell_type": "markdown",
   "metadata": {},
   "source": [
    "### 问题描述"
   ]
  },
  {
   "cell_type": "markdown",
   "metadata": {},
   "source": [
    "我们定制了一款特殊的力扣键盘，所有的键都排列在一行上。我们可以按从左到右的顺序，用一个长度为26的字符串`keyboard`来表示该键盘的键位布局。现在需要测试这个键盘是否能够有效果你工作，那么我们就需要个机械手来测试这个键盘。最初的时候，机械手位于坐便器第一个键的上方。当机械手移动到某一个字符所在的键位时，就会在终端上输出该字符。机械手从索引`i`移动到索引`j`所需要的时间是`|i-j|`。当前测试需要你使用机械手输出制定的单词`word`，请你编写一个函数来计算机械手输出该单词所需要的时间。\n",
    "\n",
    "示例：\n",
    "\n",
    "> 输入：keyboard = \"abcdefghijklmnopqrstuvwxyz\", word = \"cba\"\\\n",
    "  输出：4"
   ]
  },
  {
   "cell_type": "markdown",
   "metadata": {},
   "source": [
    "### 问题分析"
   ]
  },
  {
   "cell_type": "markdown",
   "metadata": {},
   "source": [
    "可以使用for循环遍历暴力求解，也可以使用哈希表。时间复杂度为$O(N)$，空间复杂度为$O(1)$"
   ]
  },
  {
   "cell_type": "markdown",
   "metadata": {},
   "source": [
    "```\n",
    "class Solution:\n",
    "    def calculateTime(self, keyboard: str, word: str) -> int:\n",
    "        dict = {keyboard[i]:i for i in range(26)}\n",
    "        N = len(word)\n",
    "        ans = 0\n",
    "        start = 0\n",
    "        for i in range(N):\n",
    "            end = dict[word[i]]\n",
    "            ans += abs(start-end)\n",
    "            start = end\n",
    "        return ans\n",
    "```"
   ]
  }
 ],
 "metadata": {
  "kernelspec": {
   "display_name": "Python 3",
   "language": "python",
   "name": "python3"
  },
  "language_info": {
   "codemirror_mode": {
    "name": "ipython",
    "version": 3
   },
   "file_extension": ".py",
   "mimetype": "text/x-python",
   "name": "python",
   "nbconvert_exporter": "python",
   "pygments_lexer": "ipython3",
   "version": "3.7.4"
  }
 },
 "nbformat": 4,
 "nbformat_minor": 2
}
