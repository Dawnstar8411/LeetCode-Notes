{
 "cells": [
  {
   "cell_type": "markdown",
   "metadata": {},
   "source": [
    "### 题目描述"
   ]
  },
  {
   "cell_type": "markdown",
   "metadata": {},
   "source": [
    "编写一个方法，找出两个数字`a`和`b`中最大的那一个。不得使用if-else或其他比较运算符。\n",
    "\n",
    "示例：\n",
    "\n",
    "> 输入： a=1, b=2\\\n",
    "  输出： 2"
   ]
  },
  {
   "cell_type": "markdown",
   "metadata": {},
   "source": [
    "### 题目分析"
   ]
  },
  {
   "cell_type": "markdown",
   "metadata": {},
   "source": [
    "**为什么8位有符号整数的表示范围是`~128到127`？**\n",
    "\n",
    "第一位为0时，能表示127个正数，没有问题。关键问题在于`00000000`和`10000000`各用来表示什么。规定0没有正负之分，因此`00000000`用来表示0。由于减去一个数，等于加上这个数的负数，在计算机内部，减法也是用加法来算的。因此负数不用原码表示，而是用补码表示。`10000000`表示-128, `10000001`表示-127，依次类推，直到`11111111`表示-1。"
   ]
  },
  {
   "cell_type": "markdown",
   "metadata": {},
   "source": [
    "**Python中的位运算**\n",
    "\n",
    "```\n",
    "a = 0011 1100(60)\n",
    "b = 0000 1101(13)\n",
    "\n",
    "a&b = 0000 1100  按位与操作\n",
    "a|b = 0011 1101  按位或操作\n",
    "a^b = 0011 0001  按位异或操作\n",
    "~a = 1100 0011   取反操作\n",
    "<< 左移运算符，高位丢弃，低位补0\n",
    ">> 右移运算符，低位丢弃，当最高位是1时，高位补1，当最高位是0时，高位补0。\n",
    "```"
   ]
  },
  {
   "cell_type": "markdown",
   "metadata": {},
   "source": [
    "**思路一**\n",
    "\n",
    "`max(a,b) = ((a+b)+abs(a-b))/2`，关键在于使用位运算求绝对值，这里分为两种情况：\n",
    "- var > 0时，(var^0x00)-0x00的结果仍为var\n",
    "- var < 0时，(var^0xFF)-0xFF的结果为-var，0xFF在计算机中表示-1，减去0xFF表示加1，整体来看，取反加1就是取其相反数\n",
    "上述两种情况可以用一个公式统一表示 `(var^(var>>31))-(var>>31)`"
   ]
  },
  {
   "cell_type": "code",
   "execution_count": null,
   "metadata": {},
   "outputs": [],
   "source": []
  },
  {
   "cell_type": "code",
   "execution_count": null,
   "metadata": {},
   "outputs": [],
   "source": []
  }
 ],
 "metadata": {
  "kernelspec": {
   "display_name": "Python 3",
   "language": "python",
   "name": "python3"
  },
  "language_info": {
   "codemirror_mode": {
    "name": "ipython",
    "version": 3
   },
   "file_extension": ".py",
   "mimetype": "text/x-python",
   "name": "python",
   "nbconvert_exporter": "python",
   "pygments_lexer": "ipython3",
   "version": "3.7.4"
  }
 },
 "nbformat": 4,
 "nbformat_minor": 2
}
