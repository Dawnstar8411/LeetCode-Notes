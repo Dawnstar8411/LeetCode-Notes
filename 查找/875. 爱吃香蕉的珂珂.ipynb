{
 "cells": [
  {
   "cell_type": "markdown",
   "metadata": {},
   "source": [
    "### 题目描述"
   ]
  },
  {
   "cell_type": "markdown",
   "metadata": {},
   "source": [
    "珂珂喜欢吃香蕉。这里有 N 堆香蕉，第 i 堆中有 piles[i] 根香蕉。警卫已经离开了，将在 H 小时后回来。\n",
    "\n",
    "珂珂可以决定她吃香蕉的速度 K （单位：根/小时）。每个小时，她将会选择一堆香蕉，从中吃掉 K 根。如果这堆香蕉少于 K 根，她将吃掉这堆的所有香蕉，然后这一小时内不会再吃更多的香蕉。  \n",
    "\n",
    "珂珂喜欢慢慢吃，但仍然想在警卫回来前吃掉所有的香蕉。\n",
    "\n",
    "返回她可以在 H 小时内吃掉所有香蕉的最小速度 K（K 为整数）。"
   ]
  },
  {
   "cell_type": "markdown",
   "metadata": {},
   "source": [
    "### 题目分析"
   ]
  },
  {
   "cell_type": "markdown",
   "metadata": {},
   "source": [
    "参考链接 https://labuladong.gitbook.io/algo/gao-pin-mian-shi-xi-lie/koko-tou-xiang-jiao"
   ]
  },
  {
   "cell_type": "code",
   "execution_count": 1,
   "metadata": {},
   "outputs": [],
   "source": [
    "class Solution:\n",
    "    def minEatingSpeed(self, piles, H):\n",
    "        left = 1\n",
    "        right = self.maxof(piles)\n",
    "        while left <= right:\n",
    "            mid = left + (right - left) //2\n",
    "            if not self.canfinish(mid,piles,H):\n",
    "                left = mid + 1\n",
    "            else:\n",
    "                right = mid -1\n",
    "        return left\n",
    "\n",
    "    def canfinish(self, speed, piles,H):\n",
    "        time = 0\n",
    "        for n in piles:\n",
    "            time += n // speed\n",
    "            if n%speed > 0:\n",
    "                time += 1\n",
    "        return time<=H\n",
    "    \n",
    "    def maxof(self,piles):\n",
    "        cur_max = 0\n",
    "        for i in range(0, len(piles)):\n",
    "            if piles[i]>cur_max:\n",
    "                cur_max = piles[i]\n",
    "        return cur_max"
   ]
  }
 ],
 "metadata": {
  "kernelspec": {
   "display_name": "Python 3",
   "language": "python",
   "name": "python3"
  },
  "language_info": {
   "codemirror_mode": {
    "name": "ipython",
    "version": 3
   },
   "file_extension": ".py",
   "mimetype": "text/x-python",
   "name": "python",
   "nbconvert_exporter": "python",
   "pygments_lexer": "ipython3",
   "version": "3.7.4"
  }
 },
 "nbformat": 4,
 "nbformat_minor": 2
}
