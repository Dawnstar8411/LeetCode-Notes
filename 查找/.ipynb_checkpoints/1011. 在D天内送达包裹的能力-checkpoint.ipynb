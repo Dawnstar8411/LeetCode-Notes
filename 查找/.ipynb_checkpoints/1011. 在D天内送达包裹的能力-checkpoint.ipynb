{
 "cells": [
  {
   "cell_type": "markdown",
   "metadata": {},
   "source": [
    "### 题目描述"
   ]
  },
  {
   "cell_type": "markdown",
   "metadata": {},
   "source": [
    "传送带上的包裹必须在 D 天内从一个港口运送到另一个港口。\n",
    "\n",
    "传送带上的第 i 个包裹的重量为 weights[i]。每一天，我们都会按给出重量的顺序往传送带上装载包裹。我们装载的重量不会超过船的最大运载重量。\n",
    "\n",
    "返回能在 D 天内将传送带上的所有包裹送达的船的最低运载能力。"
   ]
  },
  {
   "cell_type": "markdown",
   "metadata": {},
   "source": [
    "### 题目分析"
   ]
  },
  {
   "cell_type": "markdown",
   "metadata": {},
   "source": [
    "参考链接  https://labuladong.gitbook.io/algo/gao-pin-mian-shi-xi-lie/koko-tou-xiang-jiao"
   ]
  },
  {
   "cell_type": "code",
   "execution_count": 1,
   "metadata": {},
   "outputs": [],
   "source": [
    "class Solution:\n",
    "    def shipWithinDays(self, weights, D):\n",
    "        left = max(weights)\n",
    "        right = sum(weights)\n",
    "\n",
    "        while left<=right:\n",
    "            mid = left + (right - left) // 2\n",
    "            if not self.canfinish(weights, D, mid):\n",
    "                left = mid + 1\n",
    "            else:\n",
    "                right = mid - 1\n",
    "        return right\n",
    "\n",
    "    def canfinish(self,weights, D, cap):\n",
    "        i = 0\n",
    "        for day in range(D):\n",
    "            maxcap = cap\n",
    "            while maxcap-weights[i] > 0:\n",
    "                maxcap-=weights[i]\n",
    "                i+=1\n",
    "                if i>=len(weights):\n",
    "                    return True\n",
    "        return False"
   ]
  }
 ],
 "metadata": {
  "kernelspec": {
   "display_name": "Python 3",
   "language": "python",
   "name": "python3"
  },
  "language_info": {
   "codemirror_mode": {
    "name": "ipython",
    "version": 3
   },
   "file_extension": ".py",
   "mimetype": "text/x-python",
   "name": "python",
   "nbconvert_exporter": "python",
   "pygments_lexer": "ipython3",
   "version": "3.7.4"
  }
 },
 "nbformat": 4,
 "nbformat_minor": 2
}
