{
 "cells": [
  {
   "cell_type": "markdown",
   "metadata": {},
   "source": [
    "### 题目描述"
   ]
  },
  {
   "cell_type": "markdown",
   "metadata": {},
   "source": [
    "给定一个按照升序排列的整数数组 nums，和一个目标值 target。找出给定目标值在数组中的开始位置和结束位置。\n",
    "\n",
    "你的算法时间复杂度必须是 O(log n) 级别。\n",
    "\n",
    "如果数组中不存在目标值，返回 [-1, -1]。"
   ]
  },
  {
   "cell_type": "markdown",
   "metadata": {},
   "source": [
    "### 题目分析"
   ]
  },
  {
   "cell_type": "markdown",
   "metadata": {},
   "source": [
    "参考链接 https://labuladong.gitbook.io/algo/di-ling-zhang-bi-du-xi-lie/er-fen-cha-zhao-xiang-jie"
   ]
  },
  {
   "cell_type": "code",
   "execution_count": 2,
   "metadata": {},
   "outputs": [],
   "source": [
    "class Solution:\n",
    "    def searchRange(self, nums, target: int):\n",
    "        ans = [0,0]\n",
    "        ans[0] = self.leftbound(nums, target)\n",
    "        ans[1] = self.rightbound(nums, target)\n",
    "        return ans\n",
    "\n",
    "\n",
    "    def leftbound(self, nums,target):\n",
    "        left = 0\n",
    "        right = len(nums)-1\n",
    "        while left<=right:\n",
    "            mid = left + (right - left) // 2\n",
    "            if nums[mid]<target:\n",
    "                left = mid+1\n",
    "            elif nums[mid]>target:\n",
    "                right = mid - 1\n",
    "            elif nums[mid] == target:\n",
    "                right = mid -1\n",
    "        if left>=len(nums) or nums[left] != target:\n",
    "            return -1\n",
    "        return left\n",
    "\n",
    "    def rightbound(self,nums, target):\n",
    "        left = 0\n",
    "        right = len(nums)-1\n",
    "        while left<= right:\n",
    "            mid = left + (right - left) // 2\n",
    "            if nums[mid] < target:\n",
    "                left = mid + 1\n",
    "            elif nums[mid] > target:\n",
    "                right = mid -1\n",
    "            elif nums[mid] == target:\n",
    "                left = mid +1\n",
    "        if right < 0 or nums[right] != target:\n",
    "            return -1\n",
    "        return right"
   ]
  }
 ],
 "metadata": {
  "kernelspec": {
   "display_name": "Python 3",
   "language": "python",
   "name": "python3"
  },
  "language_info": {
   "codemirror_mode": {
    "name": "ipython",
    "version": 3
   },
   "file_extension": ".py",
   "mimetype": "text/x-python",
   "name": "python",
   "nbconvert_exporter": "python",
   "pygments_lexer": "ipython3",
   "version": "3.7.4"
  }
 },
 "nbformat": 4,
 "nbformat_minor": 2
}
