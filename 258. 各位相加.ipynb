{
 "cells": [
  {
   "cell_type": "markdown",
   "metadata": {},
   "source": [
    "### 题目描述"
   ]
  },
  {
   "cell_type": "markdown",
   "metadata": {},
   "source": [
    "给定一个非负整数`num`，反复将各个位上的数字相加，直到结果为一位数。"
   ]
  },
  {
   "cell_type": "markdown",
   "metadata": {},
   "source": [
    "### 题目分析"
   ]
  },
  {
   "cell_type": "markdown",
   "metadata": {},
   "source": [
    "常规解法\n",
    "```\n",
    "class Solution:\n",
    "    def addDigits(self, num: int) -> int:\n",
    "        def get_next(x:int):\n",
    "            ans = 0\n",
    "            while x:\n",
    "                x,digit = divmod(x,10)\n",
    "                ans += digit\n",
    "            return ans\n",
    "\n",
    "        while (num//10):\n",
    "            num = get_next(num)\n",
    "        return num\n",
    "```"
   ]
  },
  {
   "cell_type": "markdown",
   "metadata": {},
   "source": [
    "如果不使用循环或者递归，且使时间复杂度为$O(1)$的话，就需要总结一下规律。其公式为 $(num-1)\\%9+1$"
   ]
  }
 ],
 "metadata": {
  "kernelspec": {
   "display_name": "Python 3",
   "language": "python",
   "name": "python3"
  },
  "language_info": {
   "codemirror_mode": {
    "name": "ipython",
    "version": 3
   },
   "file_extension": ".py",
   "mimetype": "text/x-python",
   "name": "python",
   "nbconvert_exporter": "python",
   "pygments_lexer": "ipython3",
   "version": "3.7.4"
  }
 },
 "nbformat": 4,
 "nbformat_minor": 2
}
