{
 "cells": [
  {
   "cell_type": "markdown",
   "metadata": {},
   "source": [
    "### 题目描述"
   ]
  },
  {
   "cell_type": "markdown",
   "metadata": {},
   "source": [
    "给定一个有序整数数组，元素各不相同且按升序排列，编写一个算法，创建一棵高度最小的二叉搜索树。"
   ]
  },
  {
   "cell_type": "markdown",
   "metadata": {},
   "source": [
    "### 题目分析"
   ]
  },
  {
   "cell_type": "markdown",
   "metadata": {},
   "source": [
    "二叉搜索树：又名二叉查找树，二叉排序树。它或者是一棵空树，或者是具有下列性质的二叉树：若它的左子树不空，则左子树上所有结点的值均小于它的根结点的值，若它的右子树不空，则右子树上所有结点的值均大于它的根结点的值；它的左、右子树也分别为二叉搜索树。"
   ]
  },
  {
   "cell_type": "markdown",
   "metadata": {},
   "source": [
    "高度最小意味着，对于任意一个结点，其左子树和右子树的高度差小于等于1。因此对于输入的有序数组，可以选取中间值为树的根结点，把前半部分的值用来构建左子树，把后半部分的值用来构建右子树。\n",
    "\n",
    "采用递归的方法构建二叉搜索树,时间复杂度$O(n)$，空间复杂度$O(n)$。"
   ]
  },
  {
   "cell_type": "code",
   "execution_count": 1,
   "metadata": {},
   "outputs": [],
   "source": [
    "class TreeNode:\n",
    "     def __init__(self, x):\n",
    "         self.val = x\n",
    "         self.left = None\n",
    "         self.right = None\n",
    "\n",
    "class Solution:\n",
    "    def sortedArrayToBST(self, nums) -> TreeNode:\n",
    "        \n",
    "        if not len(nums):\n",
    "            return None\n",
    "        mid = len(nums) // 2\n",
    "        root = TreeNode(nums[mid])\n",
    "        root.left = self.sortedArrayToBST(nums[:mid])\n",
    "        root.right = self.sortedArrayToBST(nums[mid+1:])\n",
    "        return root "
   ]
  }
 ],
 "metadata": {
  "kernelspec": {
   "display_name": "Python 3",
   "language": "python",
   "name": "python3"
  },
  "language_info": {
   "codemirror_mode": {
    "name": "ipython",
    "version": 3
   },
   "file_extension": ".py",
   "mimetype": "text/x-python",
   "name": "python",
   "nbconvert_exporter": "python",
   "pygments_lexer": "ipython3",
   "version": "3.7.4"
  }
 },
 "nbformat": 4,
 "nbformat_minor": 2
}
