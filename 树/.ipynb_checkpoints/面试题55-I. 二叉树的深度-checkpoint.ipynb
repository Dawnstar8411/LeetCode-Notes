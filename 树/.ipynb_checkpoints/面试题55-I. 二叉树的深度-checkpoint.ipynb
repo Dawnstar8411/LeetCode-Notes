{
 "cells": [
  {
   "cell_type": "markdown",
   "metadata": {},
   "source": [
    "### 题目描述"
   ]
  },
  {
   "cell_type": "markdown",
   "metadata": {},
   "source": [
    "输入一棵二叉树的根节点，求该树的深度。从根节点到叶节点依次经过的节点（含根节点、叶节点）形成树的一条路径，最长路径的长度为树的深度。节点总数不超过10000"
   ]
  },
  {
   "cell_type": "markdown",
   "metadata": {},
   "source": [
    "### 题目分析"
   ]
  },
  {
   "cell_type": "markdown",
   "metadata": {},
   "source": [
    "方法一： 后序遍历\n",
    "\n",
    "当前树的深度，等于左子树的深度与右子树的深度的较大值加1。因此采取后序遍历的方式，最后的加1操作可以看作是最后遍历了根节点。\n",
    "\n",
    "终止条件: 当根节点为空时，返回0，当遍历到叶节点时，仍然会有将叶节点的左子树(None)和右子树(None)作为参数传递到函数里的一步。时间复杂度$O(n)$，空间复杂度$O(n)$。"
   ]
  },
  {
   "cell_type": "code",
   "execution_count": null,
   "metadata": {},
   "outputs": [],
   "source": [
    "class Solution:\n",
    "    def maxDepth(self, root: TreeNode) -> int:\n",
    "        if root is None:\n",
    "            return 0\n",
    "        left_height = self.maxDepth(root.left)\n",
    "        right_height = self.maxDepth(root.right)\n",
    "        depth = max(left_height,right_height)+1\n",
    "        return depth"
   ]
  },
  {
   "cell_type": "markdown",
   "metadata": {},
   "source": [
    "方法二: 层序遍历\n",
    "\n",
    "层序遍历一般使用队列来实现，每遍历一层，计数器加1。 当root为空时，直接返回深度为0.\n",
    "\n",
    "初始化一个队列，将根结点加入，计数器初始化为0\n",
    "\n",
    "设置循环，当queue为空时，跳出循环，函数返回计数器的值。\n",
    "- 初始化一个临时列表tmp,用于暂存下一层的节点。\n",
    "- 遍历queue中的所有结点，将其左子节点和右子节点加入tmp。\n",
    "- 更新队列queue=tmp\n",
    "- 计数器加1\n",
    "\n",
    "时间复杂度为$O(n)$，空间复杂度为$O(n)$"
   ]
  },
  {
   "cell_type": "code",
   "execution_count": null,
   "metadata": {},
   "outputs": [],
   "source": [
    "class Solution:\n",
    "    def maxDepth(self, root: TreeNode) -> int:\n",
    "        if root is None:\n",
    "            return 0\n",
    "        res = 0\n",
    "        queue = [root]\n",
    "        while queue:\n",
    "            tmp = []\n",
    "            for node in queue:\n",
    "                if node.left: \n",
    "                    tmp.append(node.left)\n",
    "                if node.right:\n",
    "                    tmp.append(node.right)\n",
    "            queue = tmp\n",
    "            res += 1\n",
    "        return res"
   ]
  }
 ],
 "metadata": {
  "kernelspec": {
   "display_name": "Python 3",
   "language": "python",
   "name": "python3"
  },
  "language_info": {
   "codemirror_mode": {
    "name": "ipython",
    "version": 3
   },
   "file_extension": ".py",
   "mimetype": "text/x-python",
   "name": "python",
   "nbconvert_exporter": "python",
   "pygments_lexer": "ipython3",
   "version": "3.7.4"
  }
 },
 "nbformat": 4,
 "nbformat_minor": 2
}
