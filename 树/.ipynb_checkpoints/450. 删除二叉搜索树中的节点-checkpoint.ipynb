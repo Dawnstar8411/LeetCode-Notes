{
 "cells": [
  {
   "cell_type": "markdown",
   "metadata": {},
   "source": [
    "### 题目描述"
   ]
  },
  {
   "cell_type": "markdown",
   "metadata": {},
   "source": [
    "给定一个二叉搜索树的根节点 root 和一个值 key，删除二叉搜索树中的 key 对应的节点，并保证二叉搜索树的性质不变。返回二叉搜索树（有可能被更新）的根节点的引用。\n",
    "\n",
    "一般来说，删除节点可分为两个步骤：\n",
    "\n",
    "首先找到需要删除的节点；\n",
    "如果找到了，删除它。\n",
    "说明： 要求算法时间复杂度为 O(h)，h 为树的高度。"
   ]
  },
  {
   "cell_type": "markdown",
   "metadata": {},
   "source": [
    "### 题目分析"
   ]
  },
  {
   "cell_type": "markdown",
   "metadata": {},
   "source": [
    "参考链接 https://labuladong.gitbook.io/algo/shu-ju-jie-gou-xi-lie/er-cha-sou-suo-shu-cao-zuo-ji-jin\n",
    "\n",
    "关于二叉搜索树的中序遍历，有三个点：\n",
    "- 中序遍历的结果是递增的序列\n",
    "- successor是求后继结点，即比根结点大的最小结点\n",
    "- predecessor是求前驱结点，即比根结点小的最大结点"
   ]
  },
  {
   "cell_type": "code",
   "execution_count": 1,
   "metadata": {},
   "outputs": [],
   "source": [
    "# Definition for a binary tree node.\n",
    "class TreeNode:\n",
    "    def __init__(self, x):\n",
    "        self.val = x\n",
    "        self.left = None\n",
    "        self.right = None\n",
    "\n",
    "class Solution:\n",
    "    def deleteNode(self, root: TreeNode, key: int) -> TreeNode:\n",
    "        if root is None:\n",
    "            return None\n",
    "        if key == root.val:\n",
    "            if root.left is None:\n",
    "                return root.right\n",
    "            elif root.right is None:\n",
    "                return root.left\n",
    "            else:\n",
    "                if root.right is not None:\n",
    "                    successor_node = self.successor(root)\n",
    "                    root.val = successor_node.val\n",
    "                    root.right = self.deleteNode(root.right, successor_node.val)\n",
    "                elif root.left is not None:\n",
    "                    predecessor_node = self.predecessor(root)\n",
    "                    root.val = predecessor_node.val\n",
    "                    root.left = self.deleteNode(root.left,predecessor_node.val)\n",
    "                return root\n",
    "        elif key < root.val:\n",
    "            root.left = self.deleteNode(root.left, key)\n",
    "        elif key > root.val:\n",
    "            root.right = self.deleteNode(root.right, key)\n",
    "        return root\n",
    "        \n",
    "    def successor(self, root:TreeNode):\n",
    "        root = root.right\n",
    "        while root.left is not None:\n",
    "            root = root.left\n",
    "        return root\n",
    "    def predecessor(self, root:TreeNode):\n",
    "        root = root.left\n",
    "        while root.right is not None:\n",
    "            root = root.right\n",
    "        return root"
   ]
  }
 ],
 "metadata": {
  "kernelspec": {
   "display_name": "Python 3",
   "language": "python",
   "name": "python3"
  },
  "language_info": {
   "codemirror_mode": {
    "name": "ipython",
    "version": 3
   },
   "file_extension": ".py",
   "mimetype": "text/x-python",
   "name": "python",
   "nbconvert_exporter": "python",
   "pygments_lexer": "ipython3",
   "version": "3.7.4"
  }
 },
 "nbformat": 4,
 "nbformat_minor": 2
}
