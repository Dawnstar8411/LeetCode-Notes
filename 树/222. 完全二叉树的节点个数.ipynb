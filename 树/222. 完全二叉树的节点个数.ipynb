{
 "cells": [
  {
   "cell_type": "markdown",
   "metadata": {},
   "source": [
    "### 题目描述"
   ]
  },
  {
   "cell_type": "markdown",
   "metadata": {},
   "source": [
    "给出一个完全二叉树，求出该树的节点个数。"
   ]
  },
  {
   "cell_type": "markdown",
   "metadata": {},
   "source": [
    "### 题目分析"
   ]
  },
  {
   "cell_type": "markdown",
   "metadata": {},
   "source": [
    "参考链接 https://labuladong.gitbook.io/algo/shu-ju-jie-gou-xi-lie/wan-quan-er-cha-shu-jie-dian-shu\n",
    "\n",
    "- 注意完全二叉树和满二叉树的区别\n",
    "- 时间复杂度$O(logN*logN)$如何计算的"
   ]
  },
  {
   "cell_type": "code",
   "execution_count": 1,
   "metadata": {},
   "outputs": [],
   "source": [
    "# Definition for a binary tree node.\n",
    "class TreeNode:\n",
    "    def __init__(self, x):\n",
    "        self.val = x\n",
    "        self.left = None\n",
    "        self.right = None\n",
    "\n",
    "class Solution:\n",
    "    def countNodes(self, root: TreeNode) -> int:\n",
    "        l = root\n",
    "        r = root\n",
    "        hl = 0\n",
    "        hr = 0\n",
    "        if root is None:\n",
    "            return 0\n",
    "        while l is not None:\n",
    "            hl+=1\n",
    "            l = l.left\n",
    "        while r is not None:\n",
    "            hr+=1\n",
    "            r = r.right\n",
    "        if hl == hr:\n",
    "            return 2**hl-1\n",
    "        else:\n",
    "            return 1 + self.countNodes(root.left) + self.countNodes(root.right)"
   ]
  }
 ],
 "metadata": {
  "kernelspec": {
   "display_name": "Python 3",
   "language": "python",
   "name": "python3"
  },
  "language_info": {
   "codemirror_mode": {
    "name": "ipython",
    "version": 3
   },
   "file_extension": ".py",
   "mimetype": "text/x-python",
   "name": "python",
   "nbconvert_exporter": "python",
   "pygments_lexer": "ipython3",
   "version": "3.7.4"
  }
 },
 "nbformat": 4,
 "nbformat_minor": 2
}
