{
 "cells": [
  {
   "cell_type": "markdown",
   "metadata": {},
   "source": [
    "## 基本概念"
   ]
  },
  {
   "cell_type": "markdown",
   "metadata": {},
   "source": [
    "### 树的定义"
   ]
  },
  {
   "cell_type": "markdown",
   "metadata": {},
   "source": [
    "树是n（n>=0）个结点的有限集，当n=0时称为空树，在任意一棵非空树中：\n",
    "\n",
    "- 有且仅有一个特定的称为根(root)的结点\n",
    "- 当n>1时，其余结点可分为m(m>0)个互不交互的有限集，其中每一个有限集本身又是一棵树，并称为是根的子树。"
   ]
  },
  {
   "cell_type": "markdown",
   "metadata": {},
   "source": [
    "- 结点: 树的结点包含一个数据元素和若干指向其他结点的指针\n",
    "- 结点的度：结点拥有的子树的个数\n",
    "- 叶子结点：度为0的结点\n",
    "- 分支结点：度不为0的结点\n",
    "- 内部节点：除根结点意外，分支结点也称为内部节点\n",
    "- 树的深度：从根结点到叶结点依次经过的结点形成树的一条路径，最长路径的长度为树的深度\n",
    "- 树的度：树内各结点的度的最大值\n",
    "- 有序树和无序树：如果树种结点的各子树看成从左到右是有次序的，不能互换的，则称该树为有序树，否则为无序树\n",
    "- 森林：m棵互不相交的树的集合"
   ]
  },
  {
   "cell_type": "markdown",
   "metadata": {},
   "source": [
    "### 树的存储结构"
   ]
  },
  {
   "cell_type": "markdown",
   "metadata": {},
   "source": [
    "**双亲表示法**\n",
    "\n",
    "假设以一组连续空间存储树的结点，同时在每个结点中，附设一个指示器指示器双亲结点到链表中的位置。\n",
    "- 根结点是没有双亲的，约定根结点的双亲位置为-1\n",
    "- 根据结点的双亲指针很容易找到它的双亲结点，时间复杂度为$O(1)$,直到双亲指针为-1时，表示找到了树结点的根、\n",
    "- 如果要找到孩子结点，需要遍历整个数组结构才行。"
   ]
  },
  {
   "cell_type": "markdown",
   "metadata": {},
   "source": [
    "**孩子表示法**\n",
    "\n",
    "把每个结点的孩子结点排列起来，以单链表作为存储结构，则n个结点有n个孩子链表。如果是叶子结点，则此单链表为空。然后n个头指针又组成一个线性表，采用顺序存储结构，存放进一个一维数组中。对于孩子表示法，查找某个结点的某个孩子，或者找某个结点的兄弟，只需要查找这个结点的孩子单链表即可。但是当需要寻找某个结点的双亲时，就不是那么方便了。可以将双亲表示法和孩子表示法结合，形成双亲孩子表示法。"
   ]
  },
  {
   "cell_type": "markdown",
   "metadata": {},
   "source": [
    "**孩子兄弟表示法**\n",
    "\n",
    "任意一棵树，它的结点的第一个孩子如果存在就是唯一的，它的右兄弟存在也是唯一的。因此，设置两个指针，分别指向该结点的第一个汉孩子和该结点的右兄弟。"
   ]
  },
  {
   "cell_type": "markdown",
   "metadata": {},
   "source": [
    "### 几种特殊的树"
   ]
  },
  {
   "cell_type": "markdown",
   "metadata": {},
   "source": [
    "**二叉树**\n",
    "\n",
    "二叉树是每个结点最多有两个子树的树结构。通常子树被称作“左子树”和\"右子树\"。一棵深度为$k$，且有$2^k-1$个结点的二叉树，称为满二叉树。"
   ]
  },
  {
   "cell_type": "markdown",
   "metadata": {},
   "source": [
    "**二叉搜索树**\n",
    "\n",
    "又名二叉查找树，二叉排序树。它或者是一棵空树，或者是具有下列性质的二叉树：若它的左子树不空，则左子树上所有结点的值均小于它的根结点的值，若它的右子树不空，则右子树上所有结点的值均大于它的根结点的值；它的左、右子树也分别为二叉搜索树。"
   ]
  },
  {
   "cell_type": "code",
   "execution_count": null,
   "metadata": {},
   "outputs": [],
   "source": []
  },
  {
   "cell_type": "markdown",
   "metadata": {},
   "source": [
    "### 树的遍历"
   ]
  },
  {
   "cell_type": "markdown",
   "metadata": {},
   "source": [
    "树的遍历方式总体分为两类：深度优先搜索(DFS)、广度优先搜索(BFS)\n",
    "- 深度优先搜索：先序遍历、中序遍历、后续遍历；\n",
    "- 广度优先搜索：层序遍历\n",
    "\n",
    "四种遍历的顺序为：\n",
    "\n",
    "- 前序遍历: 根结点-->左子树-->右子树\n",
    "- 中序遍历: 左子树-->根结点-->右子树\n",
    "- 后序遍历: 左子树-->右子树-->根结点\n",
    "- 层序遍历: 按层次遍历"
   ]
  },
  {
   "cell_type": "code",
   "execution_count": 1,
   "metadata": {},
   "outputs": [],
   "source": [
    "class TreeNode:\n",
    "     def __init__(self, x):\n",
    "         self.val = x\n",
    "         self.left = None\n",
    "         self.right = None"
   ]
  },
  {
   "cell_type": "markdown",
   "metadata": {},
   "source": [
    "**前序遍历递归**"
   ]
  },
  {
   "cell_type": "code",
   "execution_count": 2,
   "metadata": {},
   "outputs": [],
   "source": [
    "class Solution:\n",
    "    def __init__(self):\n",
    "        self.ans = []\n",
    "    def preorderTraversal(self, root: TreeNode):\n",
    "        if root is None:\n",
    "            return []\n",
    "        self.ans.append(root.val)\n",
    "        self.preorderTraversal(root.left)\n",
    "        self.preorderTraversal(root.right)\n",
    "        return self.ans"
   ]
  },
  {
   "cell_type": "markdown",
   "metadata": {},
   "source": [
    "**前序遍历迭代**"
   ]
  },
  {
   "cell_type": "code",
   "execution_count": 6,
   "metadata": {},
   "outputs": [],
   "source": [
    "class Solution:\n",
    "    def preorderTraversal(self, root: TreeNode):\n",
    "        if root is None:\n",
    "            return []\n",
    "        stack = []\n",
    "        ans = []\n",
    "        stack.append(root)\n",
    "        while(stack):\n",
    "            head = stack.pop()\n",
    "            ans.append(head.val)\n",
    "            if head.right:\n",
    "                stack.append(head.right)\n",
    "            if head.left:\n",
    "                stack.append(head.left)\n",
    "        return ans"
   ]
  },
  {
   "cell_type": "markdown",
   "metadata": {},
   "source": [
    "**中序遍历递归**"
   ]
  },
  {
   "cell_type": "code",
   "execution_count": 3,
   "metadata": {},
   "outputs": [],
   "source": [
    "class Solution:\n",
    "    def __init__(self):\n",
    "        self.ans = []\n",
    "    def inorderTraversal(self, root: TreeNode):\n",
    "        if root is None:\n",
    "            return []\n",
    "        self.inorderTraversal(root.left)\n",
    "        self.ans.append(root.val)\n",
    "        self.inorderTraversal(root.right)\n",
    "        return self.ans"
   ]
  },
  {
   "cell_type": "markdown",
   "metadata": {},
   "source": [
    "**中序遍历迭代**"
   ]
  },
  {
   "cell_type": "code",
   "execution_count": 8,
   "metadata": {},
   "outputs": [],
   "source": [
    "class Solution:\n",
    "    def inorderTraversal(self, root: TreeNode):\n",
    "        if root is None:\n",
    "            return []\n",
    "        ans = []\n",
    "        stack = []\n",
    "        cur = root\n",
    "        while(stack or cur):\n",
    "            while(cur):\n",
    "                stack.append(cur)\n",
    "                cur = cur.left\n",
    "            node = stack.pop()\n",
    "            ans.append(node.val)\n",
    "            if node.right:\n",
    "                cur = node.right\n",
    "        return ans"
   ]
  },
  {
   "cell_type": "markdown",
   "metadata": {},
   "source": [
    "**后序遍历递归**"
   ]
  },
  {
   "cell_type": "code",
   "execution_count": 4,
   "metadata": {},
   "outputs": [],
   "source": [
    "class Solution:\n",
    "    def __init__(self):\n",
    "        self.ans = []\n",
    "    def postorderTraversal(self, root: TreeNode):\n",
    "        if root is None:\n",
    "            return []\n",
    "        self.postorderTraversal(root.left)\n",
    "        self.postorderTraversal(root.right)\n",
    "        self.ans.append(root.val)\n",
    "        return self.ans"
   ]
  },
  {
   "cell_type": "markdown",
   "metadata": {},
   "source": [
    "**后序遍历迭代1**"
   ]
  },
  {
   "cell_type": "code",
   "execution_count": 9,
   "metadata": {},
   "outputs": [],
   "source": [
    "class Solution:\n",
    "    def postorderTraversal(self, root: TreeNode):\n",
    "        if root is None:\n",
    "            return []\n",
    "        ans = []\n",
    "        stack_1 = []\n",
    "        stack_2 = []\n",
    "        stack_1.append(root)\n",
    "        while(stack_1):\n",
    "            node = stack_1.pop()\n",
    "            stack_2.append(node)\n",
    "            if node.left:\n",
    "                stack_1.append(node.left)\n",
    "            if node.right:\n",
    "                stack_1.append(node.right)\n",
    "        while(stack_2):\n",
    "            ans.append(stack_2.pop().val)\n",
    "        return ans"
   ]
  },
  {
   "cell_type": "markdown",
   "metadata": {},
   "source": [
    "**后序遍历迭代2**"
   ]
  },
  {
   "cell_type": "code",
   "execution_count": null,
   "metadata": {},
   "outputs": [],
   "source": []
  },
  {
   "cell_type": "markdown",
   "metadata": {},
   "source": [
    "**层次遍历**"
   ]
  },
  {
   "cell_type": "code",
   "execution_count": null,
   "metadata": {},
   "outputs": [],
   "source": []
  }
 ],
 "metadata": {
  "kernelspec": {
   "display_name": "Python 3",
   "language": "python",
   "name": "python3"
  },
  "language_info": {
   "codemirror_mode": {
    "name": "ipython",
    "version": 3
   },
   "file_extension": ".py",
   "mimetype": "text/x-python",
   "name": "python",
   "nbconvert_exporter": "python",
   "pygments_lexer": "ipython3",
   "version": "3.7.4"
  }
 },
 "nbformat": 4,
 "nbformat_minor": 2
}
