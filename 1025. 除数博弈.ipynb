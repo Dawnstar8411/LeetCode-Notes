{
 "cells": [
  {
   "cell_type": "markdown",
   "metadata": {},
   "source": [
    "### 问题描述\n"
   ]
  },
  {
   "cell_type": "markdown",
   "metadata": {},
   "source": [
    "Alice和Bob一起玩游戏，他们轮流行动，Alice先手。最初，黑板上有一个数字N，在每个玩家的回合，玩家需要执行以下操作：\n",
    "- 选出任一`x`，满足`0<x<N`且`N%x==0`。\n",
    "- 用`N-x`替换黑板上的数字N。\n",
    "\n",
    "如果玩家无法执行这些操作，就会输掉游戏。无论Bob如何选择，Alice都能赢时，返回True，否则返回False。"
   ]
  },
  {
   "cell_type": "markdown",
   "metadata": {},
   "source": [
    "### 问题分析"
   ]
  },
  {
   "cell_type": "markdown",
   "metadata": {},
   "source": [
    "这个游戏，谁拿到2谁必赢。可以分两种情况讨论：\n",
    "- 如果N为偶数，Alice每次减1，给Bob奇数。Bob无论怎么操作，下一步给Alice的只能是偶数。如此下去，2会落到Alice手中，Alice必赢。\n",
    "- 如果N为奇数，无论Alice怎么操作，给Bob的必然是偶数，Bob只需要减一，下一步非Alice的还是奇数，最后2会落到Bob手中，Alice必输。"
   ]
  },
  {
   "cell_type": "markdown",
   "metadata": {},
   "source": [
    "```\n",
    "class Solution:\n",
    "    def diStringMatch(self, S: str) -> List[int]:\n",
    "        N = len(S)\n",
    "        ans = [0] * (N+1)\n",
    "        low = 0\n",
    "        high = N\n",
    "        for i in range(N):\n",
    "            if S[i] == 'I':\n",
    "                ans[i] = low\n",
    "                low += 1\n",
    "            else:\n",
    "                ans[i]= high\n",
    "                high -= 1\n",
    "        \n",
    "        ans[N] = low\n",
    "        return ans\n",
    "```"
   ]
  }
 ],
 "metadata": {
  "kernelspec": {
   "display_name": "Python 3",
   "language": "python",
   "name": "python3"
  },
  "language_info": {
   "codemirror_mode": {
    "name": "ipython",
    "version": 3
   },
   "file_extension": ".py",
   "mimetype": "text/x-python",
   "name": "python",
   "nbconvert_exporter": "python",
   "pygments_lexer": "ipython3",
   "version": "3.7.4"
  }
 },
 "nbformat": 4,
 "nbformat_minor": 2
}
