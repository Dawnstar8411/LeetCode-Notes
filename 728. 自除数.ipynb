{
 "cells": [
  {
   "cell_type": "markdown",
   "metadata": {},
   "source": [
    "### 问题描述"
   ]
  },
  {
   "cell_type": "markdown",
   "metadata": {},
   "source": [
    "自除数是指可以被它包含的每一位数除尽的数。自除数不包含0。给定上边界和下边界数字，输出一个列表，列表的元素是边界(含边界)内所有的自除数。"
   ]
  },
  {
   "cell_type": "markdown",
   "metadata": {},
   "source": [
    "### 问题分析"
   ]
  },
  {
   "cell_type": "markdown",
   "metadata": {},
   "source": [
    "对于一个数字，得到其各位的数字，有函数`x,d = divmod(x,10)`得到，x是除以10以后的整数部分，d为余数部分。\n",
    "\n",
    "对边界中的数字，使用for循环进行判断，是自除数的加入到列表中。\n",
    "\n",
    "在while循环之外设置一个标志位`flag=1`, 当循环因为不满足条件是退出时，会先设置`flag = 0`, 当循环因完成而退出时，标志位不便。从而可以通过对标志位的判断来知道数字是否是自除数。\n",
    "\n",
    "注意自除数中不能包含0的限制，在设置退出条件时不要忘了\n",
    "\n",
    "if语句中的判断条件，要用括号括起来。"
   ]
  },
  {
   "cell_type": "markdown",
   "metadata": {},
   "source": [
    "```\n",
    "class Solution:\n",
    "    def selfDividingNumbers(self, left: int, right: int) -> List[int]:\n",
    "        ans = []\n",
    "        for num in range(left, right+1):\n",
    "            flag = 1\n",
    "            origin = num\n",
    "            while num:\n",
    "                num,temp = divmod(num, 10)\n",
    "                if (temp == 0) or (origin % temp) :\n",
    "                    flag = 0\n",
    "                    break\n",
    "            if flag:\n",
    "                ans.append(origin)\n",
    "        return ans\n",
    "```"
   ]
  }
 ],
 "metadata": {
  "kernelspec": {
   "display_name": "Python 3",
   "language": "python",
   "name": "python3"
  },
  "language_info": {
   "codemirror_mode": {
    "name": "ipython",
    "version": 3
   },
   "file_extension": ".py",
   "mimetype": "text/x-python",
   "name": "python",
   "nbconvert_exporter": "python",
   "pygments_lexer": "ipython3",
   "version": "3.7.4"
  }
 },
 "nbformat": 4,
 "nbformat_minor": 2
}
