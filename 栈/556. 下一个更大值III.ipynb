{
 "cells": [
  {
   "cell_type": "markdown",
   "metadata": {},
   "source": [
    "### 题目描述"
   ]
  },
  {
   "cell_type": "markdown",
   "metadata": {},
   "source": [
    "给定一个32位正整数 n，你需要找到最小的32位整数，其与 n 中存在的位数完全相同，并且其值大于n。如果不存在这样的32位整数，则返回-1。"
   ]
  },
  {
   "cell_type": "markdown",
   "metadata": {},
   "source": [
    "### 题目分析"
   ]
  },
  {
   "cell_type": "markdown",
   "metadata": {},
   "source": [
    "单调栈，注意栈中保存的应该是索引。32位有符号整数所能表示的范围，最大值是2^31-1"
   ]
  },
  {
   "cell_type": "code",
   "execution_count": 1,
   "metadata": {},
   "outputs": [],
   "source": [
    "class Solution:\n",
    "    def nextGreaterElement(self, n: int) -> int:\n",
    "        num = list(str(n))\n",
    "        stack = []\n",
    "        last_index = 0\n",
    "        \n",
    "        for i in range(len(num)-1,-1,-1):\n",
    "            while len(stack)>0 and int(num[stack[-1]]) > int(num[i]):\n",
    "                last_index = stack.pop()\n",
    "            if last_index > 0:\n",
    "                temp = num[last_index]\n",
    "                num[last_index] = num[i]\n",
    "                num[i] = temp\n",
    "                part2 = sorted(num[i+1:])\n",
    "                print(part2)\n",
    "                num[i+1:] = part2\n",
    "                print(num)\n",
    "                ans = \"\".join(num)\n",
    "                if int(ans) > 2147483647:\n",
    "                    return -1\n",
    "                else:\n",
    "                    return int(ans)\n",
    "            else:\n",
    "                stack.append(i)\n",
    "        return -1"
   ]
  }
 ],
 "metadata": {
  "kernelspec": {
   "display_name": "Python 3",
   "language": "python",
   "name": "python3"
  },
  "language_info": {
   "codemirror_mode": {
    "name": "ipython",
    "version": 3
   },
   "file_extension": ".py",
   "mimetype": "text/x-python",
   "name": "python",
   "nbconvert_exporter": "python",
   "pygments_lexer": "ipython3",
   "version": "3.7.4"
  }
 },
 "nbformat": 4,
 "nbformat_minor": 2
}
