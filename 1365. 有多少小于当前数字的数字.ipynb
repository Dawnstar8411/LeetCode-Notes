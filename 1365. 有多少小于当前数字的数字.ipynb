{
 "cells": [
  {
   "cell_type": "markdown",
   "metadata": {},
   "source": [
    "### 问题描述"
   ]
  },
  {
   "cell_type": "markdown",
   "metadata": {},
   "source": [
    "给你一个数组$nums$,对于其中每个元素$nums[i]$,请你统计数组中比他小的所有数字的数目。\n",
    "\n",
    "示例：\n",
    "\n",
    "> 输入： nums = [8,1,2,2,3] \\\n",
    "  输出： [4,0,1,1,3]\n",
    "  \n",
    "> 输入： nums = [6,5,4,8] \\\n",
    "  输出： [2,1,0,3]\n",
    "  \n",
    "> 输入： nums = [7,7,7,7] \\\n",
    "  输出： [0,0,0,0]\n",
    " \n",
    "提示：\n",
    "\n",
    "1) $2 \\leq nums.length \\leq 500$\n",
    "\n",
    "2) $0 \\leq nums[i] \\leq 100$"
   ]
  },
  {
   "cell_type": "markdown",
   "metadata": {},
   "source": [
    "### 问题分析"
   ]
  },
  {
   "cell_type": "markdown",
   "metadata": {},
   "source": [
    "暴力解法：两层for循环，对数组中的每个元素，遍历整个数组，计算比其小的元素个数，时间复杂度$O(N^2)$，空间复杂度$O(N)$"
   ]
  },
  {
   "cell_type": "markdown",
   "metadata": {},
   "source": [
    "```\n",
    "class Solution:\n",
    "    def smallerNumbersThanCurrent(self, nums: List[int]) -> List[int]:\n",
    "        N = len(nums)\n",
    "        ans = [0] * N\n",
    "        for i in range(N):\n",
    "            ans[i] = sum(1 for j in range(N) if nums[j]<nums[i])\n",
    "        return ans\n",
    "```"
   ]
  },
  {
   "cell_type": "markdown",
   "metadata": {},
   "source": [
    "改进解法：两层for循环，对于数组中的每个元素，只与其后面的元素作比较，比较时，哪个位置的数大，就在相应位置计数加1。时间复杂度$O(N^2)$,空间复杂度$O(N)$"
   ]
  },
  {
   "cell_type": "markdown",
   "metadata": {},
   "source": [
    "```\n",
    "class Solution:\n",
    "    def smallerNumbersThanCurrent(self, nums: List[int]) -> List[int]:\n",
    "        N = len(nums)\n",
    "        ans = [0] * N \n",
    "        for i in range(N):\n",
    "            for j in range(i+1,N):\n",
    "                if nums[i]<nums[j]:\n",
    "                    ans[j] += 1\n",
    "                elif nums[i]>nums[j]:\n",
    "                    ans[i] += 1\n",
    "        return ans\n",
    "```"
   ]
  },
  {
   "cell_type": "markdown",
   "metadata": {},
   "source": [
    "数组的值最大为100，因此可以构建一个数组$cnt$,通过遍历$nums$数组，记录0-100每个数字在$nums$数组中出现的次数。这样，在$cnt$数组中，对于$nums$中的数字$i$，只需要计算$cnt$数组中的前$i-1$项的和即可。这样还有一个小问题，就是对于$nums$中的每个数字，都需要从头累加一次，达不到线性阶的时间复杂度，因此对$cnt$数组计算前$i-1$项和，保存在$cnt[i]$中，这样仅需要扫描一遍即可计算。对于$nums$中的每个数字，直接去$cnt$中按索引查找即可。需要注意进行$num[i]$不等于0的判断。"
   ]
  },
  {
   "cell_type": "markdown",
   "metadata": {},
   "source": [
    "```\n",
    "class Solution:\n",
    "    def smallerNumbersThanCurrent(self, nums: List[int]) -> List[int]:\n",
    "        N = len(nums)\n",
    "        ans = [0] * N \n",
    "        cnt = [0] * 101\n",
    "        for i in range(N):\n",
    "            cnt[nums[i]]+=1\n",
    "        for i in range(1,101):\n",
    "            cnt[i] += cnt[i-1]\n",
    "        for i in range(N):\n",
    "            if nums[i]:\n",
    "                ans[i] = cnt[nums[i]-1]\n",
    "        return ans\n",
    "```"
   ]
  }
 ],
 "metadata": {
  "kernelspec": {
   "display_name": "Python 3",
   "language": "python",
   "name": "python3"
  },
  "language_info": {
   "codemirror_mode": {
    "name": "ipython",
    "version": 3
   },
   "file_extension": ".py",
   "mimetype": "text/x-python",
   "name": "python",
   "nbconvert_exporter": "python",
   "pygments_lexer": "ipython3",
   "version": "3.7.4"
  }
 },
 "nbformat": 4,
 "nbformat_minor": 2
}
